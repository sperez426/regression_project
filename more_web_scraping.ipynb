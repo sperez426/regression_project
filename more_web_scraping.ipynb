{
 "cells": [
  {
   "cell_type": "code",
   "execution_count": 1,
   "id": "opening-plate",
   "metadata": {},
   "outputs": [],
   "source": [
    "from bs4 import BeautifulSoup\n",
    "import requests\n",
    "import pandas as pd\n",
    "import re"
   ]
  },
  {
   "cell_type": "code",
   "execution_count": 2,
   "id": "local-maintenance",
   "metadata": {},
   "outputs": [],
   "source": [
    "#request page's HTML \n",
    "url = 'https://www.boxofficemojo.com/title/tt2488496/?ref_=bo_cso_table_1'\n",
    "response = requests.get(url)"
   ]
  },
  {
   "cell_type": "code",
   "execution_count": 3,
   "id": "banned-encyclopedia",
   "metadata": {},
   "outputs": [
    {
     "data": {
      "text/plain": [
       "200"
      ]
     },
     "execution_count": 3,
     "metadata": {},
     "output_type": "execute_result"
    }
   ],
   "source": [
    "response.status_code"
   ]
  },
  {
   "cell_type": "code",
   "execution_count": 4,
   "id": "understood-argentina",
   "metadata": {},
   "outputs": [
    {
     "data": {
      "text/plain": [
       "'<!doctype html><html class=\"a-no-js\" data-19ax5a9jf=\"dingo\"><head><script>var aPageStart = (new Date()).getTime();</script><meta charset=\"utf-8\"/><meta name=\"viewport\" content=\"width=device-width, initial-scale=1.0\" />\\n                <meta charset=\"utf-8\" />\\n            <title dir=\"ltr\">Star Wars: Episode VII - The Force Awakens - Box Office Mojo</title><meta content=\"Star Wars: Episode VII - The Force Awakens\" name=\"title\" />\\n            <meta content=\"Box Office Mojo\" property=\"og:site_name\" />\\n            <meta name=\"format-detection\" content=\"telephone=no\" />\\n            <link href=\"https://m.media-amazon.com/images/G/01/boxofficemojo/v2/favicon._CB448965889_.ico\" type=\"image/x-icon\" rel=\"icon\" />\\n            <link rel=\"stylesheet\" href=\"https://images-na.ssl-images-amazon.com/images/I/11EIQ5IGqaL._RC|012LjolmrML.css,41DAFIecsVL.css,51IB+wfP8qL.css,01ZfXnjPmmL.css,01oDR3IULNL.css,01Vctty9pOL.css,31q1y1irc5L.css,01XPHJk60-L.css,21qPwhPKAAL.css,01R0k0yxPXL.css,21xVR0NtxzL.css,11gneA'"
      ]
     },
     "execution_count": 4,
     "metadata": {},
     "output_type": "execute_result"
    }
   ],
   "source": [
    "response.text[:1000]"
   ]
  },
  {
   "cell_type": "code",
   "execution_count": 5,
   "id": "built-orchestra",
   "metadata": {},
   "outputs": [],
   "source": [
    "page = response.text"
   ]
  },
  {
   "cell_type": "code",
   "execution_count": 6,
   "id": "following-entry",
   "metadata": {},
   "outputs": [],
   "source": [
    "soup = BeautifulSoup(page, 'lxml')"
   ]
  },
  {
   "cell_type": "code",
   "execution_count": 7,
   "id": "adolescent-trust",
   "metadata": {},
   "outputs": [
    {
     "data": {
      "text/plain": [
       "\"distributor_str = soup.find(class_ = 'a-section a-spacing-none mojo-summary-values mojo-hidden-from-mobile').find_all('span')[1].text\\ndistributor = distributor_str.split('See')[0]\\ndistributor\""
      ]
     },
     "execution_count": 7,
     "metadata": {},
     "output_type": "execute_result"
    }
   ],
   "source": [
    "'''distributor_str = soup.find(class_ = 'a-section a-spacing-none mojo-summary-values mojo-hidden-from-mobile').find_all('span')[1].text\n",
    "distributor = distributor_str.split('See')[0]\n",
    "distributor'''"
   ]
  },
  {
   "cell_type": "code",
   "execution_count": 8,
   "id": "exterior-landing",
   "metadata": {},
   "outputs": [
    {
     "data": {
      "text/plain": [
       "\"#rating\\nrating_str = soup.find(class_ = 'a-section a-spacing-none mojo-summary-values mojo-hidden-from-mobile').find_all('span')\\nrating_str\""
      ]
     },
     "execution_count": 8,
     "metadata": {},
     "output_type": "execute_result"
    }
   ],
   "source": [
    "'''#rating\n",
    "rating_str = soup.find(class_ = 'a-section a-spacing-none mojo-summary-values mojo-hidden-from-mobile').find_all('span')\n",
    "rating_str'''"
   ]
  },
  {
   "cell_type": "code",
   "execution_count": 9,
   "id": "horizontal-booking",
   "metadata": {},
   "outputs": [
    {
     "data": {
      "text/plain": [
       "\"#get title\\ntitle_str = soup.find('title').text\\ntitle_str\\n\\ntitle = title_str.split('-')[0].strip()\\ntitle\""
      ]
     },
     "execution_count": 9,
     "metadata": {},
     "output_type": "execute_result"
    }
   ],
   "source": [
    "'''#get title\n",
    "title_str = soup.find('title').text\n",
    "title_str\n",
    "\n",
    "title = title_str.split('-')[0].strip()\n",
    "title'''"
   ]
  },
  {
   "cell_type": "code",
   "execution_count": 10,
   "id": "pleasant-classics",
   "metadata": {},
   "outputs": [
    {
     "data": {
      "text/plain": [
       "\"#get world gross\\nworld_gross_str = soup.find(class_ = 'a-section a-spacing-none mojo-performance-summary-table').find_all(class_ = 'money')\\nworldwide_gross = world_gross_str[-1].text\\nworldwide_gross\""
      ]
     },
     "execution_count": 10,
     "metadata": {},
     "output_type": "execute_result"
    }
   ],
   "source": [
    "'''#get world gross\n",
    "world_gross_str = soup.find(class_ = 'a-section a-spacing-none mojo-performance-summary-table').find_all(class_ = 'money')\n",
    "worldwide_gross = world_gross_str[-1].text\n",
    "worldwide_gross'''"
   ]
  },
  {
   "cell_type": "code",
   "execution_count": 11,
   "id": "appreciated-setup",
   "metadata": {},
   "outputs": [
    {
     "data": {
      "text/plain": [
       "\"#get runtime. First create navigable string\\nimport re\\nruntime_str = soup.find(text = re.compile('Run'))\\nprint(runtime_str)\\ntype(runtime_str)\""
      ]
     },
     "execution_count": 11,
     "metadata": {},
     "output_type": "execute_result"
    }
   ],
   "source": [
    "'''#get runtime. First create navigable string\n",
    "import re\n",
    "runtime_str = soup.find(text = re.compile('Run'))\n",
    "print(runtime_str)\n",
    "type(runtime_str)'''"
   ]
  },
  {
   "cell_type": "code",
   "execution_count": 12,
   "id": "recent-hydrogen",
   "metadata": {},
   "outputs": [
    {
     "data": {
      "text/plain": [
       "'rt = runtime_str.findNext().text\\nrt = rt.split()\\nruntime = int(rt[0])*60 + int(rt[2])\\nprint(minutes)'"
      ]
     },
     "execution_count": 12,
     "metadata": {},
     "output_type": "execute_result"
    }
   ],
   "source": [
    "'''rt = runtime_str.findNext().text\n",
    "rt = rt.split()\n",
    "runtime = int(rt[0])*60 + int(rt[2])\n",
    "print(minutes)'''"
   ]
  },
  {
   "cell_type": "code",
   "execution_count": 13,
   "id": "appreciated-syndicate",
   "metadata": {},
   "outputs": [
    {
     "data": {
      "text/plain": [
       "\"# rating\\nrating = soup.find(text = re.compile('MPAA'))\\nrating = rating.findNext().text\\nprint(rating)\""
      ]
     },
     "execution_count": 13,
     "metadata": {},
     "output_type": "execute_result"
    }
   ],
   "source": [
    "'''# rating\n",
    "rating = soup.find(text = re.compile('MPAA'))\n",
    "rating = rating.findNext().text\n",
    "print(rating)'''"
   ]
  },
  {
   "cell_type": "code",
   "execution_count": 14,
   "id": "domestic-personality",
   "metadata": {},
   "outputs": [
    {
     "data": {
      "text/plain": [
       "\"#rank\\nrank_str = soup.find_all(class_= 'a-text-right')[17]\\nrank = rank_str.text\\nprint(rank)\""
      ]
     },
     "execution_count": 14,
     "metadata": {},
     "output_type": "execute_result"
    }
   ],
   "source": [
    "'''#rank\n",
    "rank_str = soup.find_all(class_= 'a-text-right')[17]\n",
    "rank = rank_str.text\n",
    "print(rank)'''"
   ]
  },
  {
   "cell_type": "code",
   "execution_count": 15,
   "id": "quiet-jesus",
   "metadata": {},
   "outputs": [
    {
     "data": {
      "text/plain": [
       "\"# distributor\\ndistributor_str = soup.find(text = re.compile('Distributor'))\\ndistributor = distributor_str.findNext().text.split('See')[0]\\nprint(distributor)\""
      ]
     },
     "execution_count": 15,
     "metadata": {},
     "output_type": "execute_result"
    }
   ],
   "source": [
    "'''# distributor\n",
    "distributor_str = soup.find(text = re.compile('Distributor'))\n",
    "distributor = distributor_str.findNext().text.split('See')[0]\n",
    "print(distributor)'''"
   ]
  },
  {
   "cell_type": "code",
   "execution_count": 17,
   "id": "divine-coordinator",
   "metadata": {},
   "outputs": [
    {
     "data": {
      "text/plain": [
       "\"#release date\\nrelease_date_str = soup.find(text = re.compile('Release Date'))\\nrelease_date = release_date_str.findNext().text.split('\\n')[0]\\nprint(release_date)\""
      ]
     },
     "execution_count": 17,
     "metadata": {},
     "output_type": "execute_result"
    }
   ],
   "source": [
    "'''#release date\n",
    "release_date_str = soup.find(text = re.compile('Release Date'))\n",
    "release_date = release_date_str.findNext().text.split('\\n')[0]\n",
    "print(release_date)'''"
   ]
  },
  {
   "cell_type": "code",
   "execution_count": 18,
   "id": "hired-shift",
   "metadata": {},
   "outputs": [],
   "source": [
    "def movie_value(soup, field_name):\n",
    "    \n",
    "    obj = soup.find(text=re.compile(field_name))\n",
    "    \n",
    "    if not obj: \n",
    "        return None\n",
    "    \n",
    "    # this works for most of the values\n",
    "    next_element = obj.findNext()\n",
    "    \n",
    "    if next_element:\n",
    "        return next_element.text \n",
    "    else:\n",
    "        return None"
   ]
  },
  {
   "cell_type": "code",
   "execution_count": 19,
   "id": "pacific-mauritius",
   "metadata": {},
   "outputs": [
    {
     "data": {
      "text/plain": [
       "\"# budget\\nbudget = movie_value(soup,'Budget')\\nprint(budget)\""
      ]
     },
     "execution_count": 19,
     "metadata": {},
     "output_type": "execute_result"
    }
   ],
   "source": [
    "'''# budget\n",
    "budget = movie_value(soup,'Budget')\n",
    "print(budget)'''"
   ]
  },
  {
   "cell_type": "code",
   "execution_count": 20,
   "id": "dated-respondent",
   "metadata": {},
   "outputs": [
    {
     "data": {
      "text/plain": [
       "\"# genre\\ngenre = movie_value(soup,'Genres').split()\\nprint(genre)\""
      ]
     },
     "execution_count": 20,
     "metadata": {},
     "output_type": "execute_result"
    }
   ],
   "source": [
    "'''# genre\n",
    "genre = movie_value(soup,'Genres').split()\n",
    "print(genre)'''"
   ]
  },
  {
   "cell_type": "code",
   "execution_count": 21,
   "id": "robust-chamber",
   "metadata": {},
   "outputs": [],
   "source": [
    "import dateutil.parser\n",
    "\n",
    "def money_to_int(moneystring):\n",
    "    moneystring = moneystring.replace('$', '').replace(',', '')\n",
    "    return int(moneystring)\n",
    "\n",
    "def runtime_to_minutes(runtimestring):\n",
    "    runtime = runtimestring.split()\n",
    "    try:\n",
    "        minutes = int(runtime[0])*60 + int(runtime[2])\n",
    "        return minutes\n",
    "    except:\n",
    "        return None\n",
    "\n",
    "def to_date(datestring):\n",
    "    date = dateutil.parser.parse(datestring)\n",
    "    return date"
   ]
  },
  {
   "cell_type": "code",
   "execution_count": 22,
   "id": "powerful-infrared",
   "metadata": {},
   "outputs": [
    {
     "data": {
      "text/plain": [
       "\"raw_domestic_total_gross = dom_gross\\ndomestic_total_gross = money_to_int(raw_domestic_total_gross)\\n\\nraw_runtime = movie_value(soup,'Running')\\nruntime = runtime_to_minutes(raw_runtime)\""
      ]
     },
     "execution_count": 22,
     "metadata": {},
     "output_type": "execute_result"
    }
   ],
   "source": [
    "'''raw_domestic_total_gross = dom_gross\n",
    "domestic_total_gross = money_to_int(raw_domestic_total_gross)\n",
    "\n",
    "raw_runtime = movie_value(soup,'Running')\n",
    "runtime = runtime_to_minutes(raw_runtime)'''"
   ]
  },
  {
   "cell_type": "code",
   "execution_count": 23,
   "id": "north-potato",
   "metadata": {},
   "outputs": [
    {
     "data": {
      "text/plain": [
       "\"headers = ['movie title', 'worldwide gross',\\n           'runtime (mins)', 'rating', 'rank', 'release date', 'budget', 'genre', 'distributor']\\n\\nmovie_data = []\\nmovie_dict = dict(zip(headers, [title,\\n                                worldwide_gross,\\n                                runtime,\\n                                rating, \\n                                rank, \\n                                release_date, \\n                                budget,\\n                                genre, \\n                                distributor]))\\n\\nmovie_data.append(movie_dict)\\nmovie_data\""
      ]
     },
     "execution_count": 23,
     "metadata": {},
     "output_type": "execute_result"
    }
   ],
   "source": [
    "'''headers = ['movie title', 'worldwide gross',\n",
    "           'runtime (mins)', 'rating', 'rank', 'release date', 'budget', 'genre', 'distributor']\n",
    "\n",
    "movie_data = []\n",
    "movie_dict = dict(zip(headers, [title,\n",
    "                                worldwide_gross,\n",
    "                                runtime,\n",
    "                                rating, \n",
    "                                rank, \n",
    "                                release_date, \n",
    "                                budget,\n",
    "                                genre, \n",
    "                                distributor]))\n",
    "\n",
    "movie_data.append(movie_dict)\n",
    "movie_data'''"
   ]
  },
  {
   "cell_type": "code",
   "execution_count": 24,
   "id": "egyptian-flashing",
   "metadata": {},
   "outputs": [],
   "source": [
    "#scrape table\n",
    "\n",
    "url = 'https://www.boxofficemojo.com/chart/top_lifetime_gross/?ref_=bo_lnav_hm_shrt'\n",
    "\n",
    "response = requests.get(url)\n",
    "page = response.text\n",
    "\n",
    "soup = BeautifulSoup(page,\"lxml\")"
   ]
  },
  {
   "cell_type": "code",
   "execution_count": 25,
   "id": "sixth-command",
   "metadata": {},
   "outputs": [
    {
     "data": {
      "text/plain": [
       "<table class=\"a-bordered a-horizontal-stripes a-size-base a-span12 mojo-body-table mojo-table-annotated\"><tr><th class=\"a-text-right mojo-field-type-rank a-nowrap\"><span title=\"Rank\">Rank</span>\n",
       "</th><th class=\"a-text-left mojo-field-type-title a-nowrap\"><span title=\"Title\">Title</span>\n",
       "</th><th class=\"a-text-right mojo-field-type-money a-nowrap\"><span title=\"Lifetime Gross\">Lifetime Gross</span>\n",
       "</th><th class=\"a-text-left mojo-field-type-year a-nowrap\"><span title=\"Year\">Year</span>\n",
       "</th></tr><tr><td class=\"a-text-right mojo-header-column mojo-truncate mojo-field-type-rank\">1</td><td class=\"a-text-left mojo-field-type-title\"><a class=\"a-link-normal\" href=\"/title/tt2488496/?ref_=bo_cso_table_1\">Star Wars: Episode VII - The Force Awakens</a></td><td class=\"a-text-right mojo-field-type-money\">$936,662,225</td><td class=\"a-text-left mojo-field-type-year\"><a class=\"a-link-normal\" href=\"/year/2015/?ref_=bo_cso_table_1\">2015</a></td></tr><tr><td class=\"a-text-right mojo-header-column mojo-truncate mojo-field-type-rank\">2</td><td class=\"a-text-left mojo-field-type-title\"><a class=\"a-link-normal\" href=\"/title/tt4154796/?ref_=bo_cso_table_2\">Avengers: Endgame</a></td><td class=\"a-text-right mojo-field-type-money\">$858,373,000</td><td class=\"a-text-left mojo-field-type-year\"><a class=\"a-link-normal\" href=\"/year/2019/?ref_=bo_cso_table_2\">2019</a></td></tr><tr><td class=\"a-text-right mojo-header-column mojo-truncate mojo-field-type-rank\">3</td><td class=\"a-text-left mojo-field-type-title\"><a class=\"a-link-normal\" href=\"/title/tt0499549/?ref_=bo_cso_table_3\">Avatar</a></td><td class=\"a-text-right mojo-field-type-money\">$760,507,625</td><td class=\"a-text-left mojo-field-type-year\"><a class=\"a-link-normal\" href=\"/year/2009/?ref_=bo_cso_table_3\">2009</a></td></tr><tr><td class=\"a-text-right mojo-header-column mojo-truncate mojo-field-type-rank\">4</td><td class=\"a-text-left mojo-field-type-title\"><a class=\"a-link-normal\" href=\"/title/tt1825683/?ref_=bo_cso_table_4\">Black Panther</a></td><td class=\"a-text-right mojo-field-type-money\">$700,426,566</td><td class=\"a-text-left mojo-field-type-year\"><a class=\"a-link-normal\" href=\"/year/2018/?ref_=bo_cso_table_4\">2018</a></td></tr><tr><td class=\"a-text-right mojo-header-column mojo-truncate mojo-field-type-rank\">5</td><td class=\"a-text-left mojo-field-type-title\"><a class=\"a-link-normal\" href=\"/title/tt4154756/?ref_=bo_cso_table_5\">Avengers: Infinity War</a></td><td class=\"a-text-right mojo-field-type-money\">$678,815,482</td><td class=\"a-text-left mojo-field-type-year\"><a class=\"a-link-normal\" href=\"/year/2018/?ref_=bo_cso_table_5\">2018</a></td></tr><tr><td class=\"a-text-right mojo-header-column mojo-truncate mojo-field-type-rank\">6</td><td class=\"a-text-left mojo-field-type-title\"><a class=\"a-link-normal\" href=\"/title/tt0120338/?ref_=bo_cso_table_6\">Titanic</a></td><td class=\"a-text-right mojo-field-type-money\">$659,363,944</td><td class=\"a-text-left mojo-field-type-year\"><a class=\"a-link-normal\" href=\"/year/1997/?ref_=bo_cso_table_6\">1997</a></td></tr><tr><td class=\"a-text-right mojo-header-column mojo-truncate mojo-field-type-rank\">7</td><td class=\"a-text-left mojo-field-type-title\"><a class=\"a-link-normal\" href=\"/title/tt0369610/?ref_=bo_cso_table_7\">Jurassic World</a></td><td class=\"a-text-right mojo-field-type-money\">$652,385,625</td><td class=\"a-text-left mojo-field-type-year\"><a class=\"a-link-normal\" href=\"/year/2015/?ref_=bo_cso_table_7\">2015</a></td></tr><tr><td class=\"a-text-right mojo-header-column mojo-truncate mojo-field-type-rank\">8</td><td class=\"a-text-left mojo-field-type-title\"><a class=\"a-link-normal\" href=\"/title/tt0848228/?ref_=bo_cso_table_8\">The Avengers</a></td><td class=\"a-text-right mojo-field-type-money\">$623,357,910</td><td class=\"a-text-left mojo-field-type-year\"><a class=\"a-link-normal\" href=\"/year/2012/?ref_=bo_cso_table_8\">2012</a></td></tr><tr><td class=\"a-text-right mojo-header-column mojo-truncate mojo-field-type-rank\">9</td><td class=\"a-text-left mojo-field-type-title\"><a class=\"a-link-normal\" href=\"/title/tt2527336/?ref_=bo_cso_table_9\">Star Wars: Episode VIII - The Last Jedi</a></td><td class=\"a-text-right mojo-field-type-money\">$620,181,382</td><td class=\"a-text-left mojo-field-type-year\"><a class=\"a-link-normal\" href=\"/year/2017/?ref_=bo_cso_table_9\">2017</a></td></tr><tr><td class=\"a-text-right mojo-header-column mojo-truncate mojo-field-type-rank\">10</td><td class=\"a-text-left mojo-field-type-title\"><a class=\"a-link-normal\" href=\"/title/tt3606756/?ref_=bo_cso_table_10\">Incredibles 2</a></td><td class=\"a-text-right mojo-field-type-money\">$608,581,744</td><td class=\"a-text-left mojo-field-type-year\"><a class=\"a-link-normal\" href=\"/year/2018/?ref_=bo_cso_table_10\">2018</a></td></tr><tr><td class=\"a-text-right mojo-header-column mojo-truncate mojo-field-type-rank\">11</td><td class=\"a-text-left mojo-field-type-title\"><a class=\"a-link-normal\" href=\"/title/tt6105098/?ref_=bo_cso_table_11\">The Lion King</a></td><td class=\"a-text-right mojo-field-type-money\">$543,638,043</td><td class=\"a-text-left mojo-field-type-year\"><a class=\"a-link-normal\" href=\"/year/2019/?ref_=bo_cso_table_11\">2019</a></td></tr><tr><td class=\"a-text-right mojo-header-column mojo-truncate mojo-field-type-rank\">12</td><td class=\"a-text-left mojo-field-type-title\"><a class=\"a-link-normal\" href=\"/title/tt0468569/?ref_=bo_cso_table_12\">The Dark Knight</a></td><td class=\"a-text-right mojo-field-type-money\">$534,858,444</td><td class=\"a-text-left mojo-field-type-year\"><a class=\"a-link-normal\" href=\"/year/2008/?ref_=bo_cso_table_12\">2008</a></td></tr><tr><td class=\"a-text-right mojo-header-column mojo-truncate mojo-field-type-rank\">13</td><td class=\"a-text-left mojo-field-type-title\"><a class=\"a-link-normal\" href=\"/title/tt3748528/?ref_=bo_cso_table_13\">Rogue One: A Star Wars Story</a></td><td class=\"a-text-right mojo-field-type-money\">$532,177,324</td><td class=\"a-text-left mojo-field-type-year\"><a class=\"a-link-normal\" href=\"/year/2016/?ref_=bo_cso_table_13\">2016</a></td></tr><tr><td class=\"a-text-right mojo-header-column mojo-truncate mojo-field-type-rank\">14</td><td class=\"a-text-left mojo-field-type-title\"><a class=\"a-link-normal\" href=\"/title/tt2527338/?ref_=bo_cso_table_14\">Star Wars: Episode IX - The Rise of Skywalker</a></td><td class=\"a-text-right mojo-field-type-money\">$515,202,542</td><td class=\"a-text-left mojo-field-type-year\"><a class=\"a-link-normal\" href=\"/year/2019/?ref_=bo_cso_table_14\">2019</a></td></tr><tr><td class=\"a-text-right mojo-header-column mojo-truncate mojo-field-type-rank\">15</td><td class=\"a-text-left mojo-field-type-title\"><a class=\"a-link-normal\" href=\"/title/tt2771200/?ref_=bo_cso_table_15\">Beauty and the Beast</a></td><td class=\"a-text-right mojo-field-type-money\">$504,481,165</td><td class=\"a-text-left mojo-field-type-year\"><a class=\"a-link-normal\" href=\"/year/2017/?ref_=bo_cso_table_15\">2017</a></td></tr><tr><td class=\"a-text-right mojo-header-column mojo-truncate mojo-field-type-rank\">16</td><td class=\"a-text-left mojo-field-type-title\"><a class=\"a-link-normal\" href=\"/title/tt2277860/?ref_=bo_cso_table_16\">Finding Dory</a></td><td class=\"a-text-right mojo-field-type-money\">$486,295,561</td><td class=\"a-text-left mojo-field-type-year\"><a class=\"a-link-normal\" href=\"/year/2016/?ref_=bo_cso_table_16\">2016</a></td></tr><tr><td class=\"a-text-right mojo-header-column mojo-truncate mojo-field-type-rank\">17</td><td class=\"a-text-left mojo-field-type-title\"><a class=\"a-link-normal\" href=\"/title/tt4520988/?ref_=bo_cso_table_17\">Frozen II</a></td><td class=\"a-text-right mojo-field-type-money\">$477,373,578</td><td class=\"a-text-left mojo-field-type-year\"><a class=\"a-link-normal\" href=\"/year/2019/?ref_=bo_cso_table_17\">2019</a></td></tr><tr><td class=\"a-text-right mojo-header-column mojo-truncate mojo-field-type-rank\">18</td><td class=\"a-text-left mojo-field-type-title\"><a class=\"a-link-normal\" href=\"/title/tt0120915/?ref_=bo_cso_table_18\">Star Wars: Episode I - The Phantom Menace</a></td><td class=\"a-text-right mojo-field-type-money\">$474,544,677</td><td class=\"a-text-left mojo-field-type-year\"><a class=\"a-link-normal\" href=\"/year/1999/?ref_=bo_cso_table_18\">1999</a></td></tr><tr><td class=\"a-text-right mojo-header-column mojo-truncate mojo-field-type-rank\">19</td><td class=\"a-text-left mojo-field-type-title\"><a class=\"a-link-normal\" href=\"/title/tt0076759/?ref_=bo_cso_table_19\">Star Wars: Episode IV - A New Hope</a></td><td class=\"a-text-right mojo-field-type-money\">$460,998,507</td><td class=\"a-text-left mojo-field-type-year\"><a class=\"a-link-normal\" href=\"/year/1977/?ref_=bo_cso_table_19\">1977</a></td></tr><tr><td class=\"a-text-right mojo-header-column mojo-truncate mojo-field-type-rank\">20</td><td class=\"a-text-left mojo-field-type-title\"><a class=\"a-link-normal\" href=\"/title/tt2395427/?ref_=bo_cso_table_20\">Avengers: Age of Ultron</a></td><td class=\"a-text-right mojo-field-type-money\">$459,005,868</td><td class=\"a-text-left mojo-field-type-year\"><a class=\"a-link-normal\" href=\"/year/2015/?ref_=bo_cso_table_20\">2015</a></td></tr><tr><td class=\"a-text-right mojo-header-column mojo-truncate mojo-field-type-rank\">21</td><td class=\"a-text-left mojo-field-type-title\"><a class=\"a-link-normal\" href=\"/title/tt1345836/?ref_=bo_cso_table_21\">The Dark Knight Rises</a></td><td class=\"a-text-right mojo-field-type-money\">$448,139,099</td><td class=\"a-text-left mojo-field-type-year\"><a class=\"a-link-normal\" href=\"/year/2012/?ref_=bo_cso_table_21\">2012</a></td></tr><tr><td class=\"a-text-right mojo-header-column mojo-truncate mojo-field-type-rank\">22</td><td class=\"a-text-left mojo-field-type-title\"><a class=\"a-link-normal\" href=\"/title/tt0298148/?ref_=bo_cso_table_22\">Shrek 2</a></td><td class=\"a-text-right mojo-field-type-money\">$441,226,247</td><td class=\"a-text-left mojo-field-type-year\"><a class=\"a-link-normal\" href=\"/year/2004/?ref_=bo_cso_table_22\">2004</a></td></tr><tr><td class=\"a-text-right mojo-header-column mojo-truncate mojo-field-type-rank\">23</td><td class=\"a-text-left mojo-field-type-title\"><a class=\"a-link-normal\" href=\"/title/tt0083866/?ref_=bo_cso_table_23\">E.T. the Extra-Terrestrial</a></td><td class=\"a-text-right mojo-field-type-money\">$435,110,554</td><td class=\"a-text-left mojo-field-type-year\"><a class=\"a-link-normal\" href=\"/year/1982/?ref_=bo_cso_table_23\">1982</a></td></tr><tr><td class=\"a-text-right mojo-header-column mojo-truncate mojo-field-type-rank\">24</td><td class=\"a-text-left mojo-field-type-title\"><a class=\"a-link-normal\" href=\"/title/tt1979376/?ref_=bo_cso_table_24\">Toy Story 4</a></td><td class=\"a-text-right mojo-field-type-money\">$434,038,008</td><td class=\"a-text-left mojo-field-type-year\"><a class=\"a-link-normal\" href=\"/year/2019/?ref_=bo_cso_table_24\">2019</a></td></tr><tr><td class=\"a-text-right mojo-header-column mojo-truncate mojo-field-type-rank\">25</td><td class=\"a-text-left mojo-field-type-title\"><a class=\"a-link-normal\" href=\"/title/tt4154664/?ref_=bo_cso_table_25\">Captain Marvel</a></td><td class=\"a-text-right mojo-field-type-money\">$426,829,839</td><td class=\"a-text-left mojo-field-type-year\"><a class=\"a-link-normal\" href=\"/year/2019/?ref_=bo_cso_table_25\">2019</a></td></tr><tr><td class=\"a-text-right mojo-header-column mojo-truncate mojo-field-type-rank\">26</td><td class=\"a-text-left mojo-field-type-title\"><a class=\"a-link-normal\" href=\"/title/tt1951264/?ref_=bo_cso_table_26\">The Hunger Games: Catching Fire</a></td><td class=\"a-text-right mojo-field-type-money\">$424,668,047</td><td class=\"a-text-left mojo-field-type-year\"><a class=\"a-link-normal\" href=\"/year/2013/?ref_=bo_cso_table_26\">2013</a></td></tr><tr><td class=\"a-text-right mojo-header-column mojo-truncate mojo-field-type-rank\">27</td><td class=\"a-text-left mojo-field-type-title\"><a class=\"a-link-normal\" href=\"/title/tt0383574/?ref_=bo_cso_table_27\">Pirates of the Caribbean: Dead Man's Chest</a></td><td class=\"a-text-right mojo-field-type-money\">$423,315,812</td><td class=\"a-text-left mojo-field-type-year\"><a class=\"a-link-normal\" href=\"/year/2006/?ref_=bo_cso_table_27\">2006</a></td></tr><tr><td class=\"a-text-right mojo-header-column mojo-truncate mojo-field-type-rank\">28</td><td class=\"a-text-left mojo-field-type-title\"><a class=\"a-link-normal\" href=\"/title/tt0110357/?ref_=bo_cso_table_28\">The Lion King</a></td><td class=\"a-text-right mojo-field-type-money\">$422,783,777</td><td class=\"a-text-left mojo-field-type-year\"><a class=\"a-link-normal\" href=\"/year/1994/?ref_=bo_cso_table_28\">1994</a></td></tr><tr><td class=\"a-text-right mojo-header-column mojo-truncate mojo-field-type-rank\">29</td><td class=\"a-text-left mojo-field-type-title\"><a class=\"a-link-normal\" href=\"/title/tt4881806/?ref_=bo_cso_table_29\">Jurassic World: Fallen Kingdom</a></td><td class=\"a-text-right mojo-field-type-money\">$417,719,760</td><td class=\"a-text-left mojo-field-type-year\"><a class=\"a-link-normal\" href=\"/year/2018/?ref_=bo_cso_table_29\">2018</a></td></tr><tr><td class=\"a-text-right mojo-header-column mojo-truncate mojo-field-type-rank\">30</td><td class=\"a-text-left mojo-field-type-title\"><a class=\"a-link-normal\" href=\"/title/tt0435761/?ref_=bo_cso_table_30\">Toy Story 3</a></td><td class=\"a-text-right mojo-field-type-money\">$415,004,880</td><td class=\"a-text-left mojo-field-type-year\"><a class=\"a-link-normal\" href=\"/year/2010/?ref_=bo_cso_table_30\">2010</a></td></tr><tr><td class=\"a-text-right mojo-header-column mojo-truncate mojo-field-type-rank\">31</td><td class=\"a-text-left mojo-field-type-title\"><a class=\"a-link-normal\" href=\"/title/tt0451279/?ref_=bo_cso_table_31\">Wonder Woman</a></td><td class=\"a-text-right mojo-field-type-money\">$412,815,408</td><td class=\"a-text-left mojo-field-type-year\"><a class=\"a-link-normal\" href=\"/year/2017/?ref_=bo_cso_table_31\">2017</a></td></tr><tr><td class=\"a-text-right mojo-header-column mojo-truncate mojo-field-type-rank\">32</td><td class=\"a-text-left mojo-field-type-title\"><a class=\"a-link-normal\" href=\"/title/tt1300854/?ref_=bo_cso_table_32\">Iron Man 3</a></td><td class=\"a-text-right mojo-field-type-money\">$409,013,994</td><td class=\"a-text-left mojo-field-type-year\"><a class=\"a-link-normal\" href=\"/year/2013/?ref_=bo_cso_table_32\">2013</a></td></tr><tr><td class=\"a-text-right mojo-header-column mojo-truncate mojo-field-type-rank\">33</td><td class=\"a-text-left mojo-field-type-title\"><a class=\"a-link-normal\" href=\"/title/tt3498820/?ref_=bo_cso_table_33\">Captain America: Civil War</a></td><td class=\"a-text-right mojo-field-type-money\">$408,084,349</td><td class=\"a-text-left mojo-field-type-year\"><a class=\"a-link-normal\" href=\"/year/2016/?ref_=bo_cso_table_33\">2016</a></td></tr><tr><td class=\"a-text-right mojo-header-column mojo-truncate mojo-field-type-rank\">34</td><td class=\"a-text-left mojo-field-type-title\"><a class=\"a-link-normal\" href=\"/title/tt1392170/?ref_=bo_cso_table_34\">The Hunger Games</a></td><td class=\"a-text-right mojo-field-type-money\">$408,010,692</td><td class=\"a-text-left mojo-field-type-year\"><a class=\"a-link-normal\" href=\"/year/2012/?ref_=bo_cso_table_34\">2012</a></td></tr><tr><td class=\"a-text-right mojo-header-column mojo-truncate mojo-field-type-rank\">35</td><td class=\"a-text-left mojo-field-type-title\"><a class=\"a-link-normal\" href=\"/title/tt0145487/?ref_=bo_cso_table_35\">Spider-Man</a></td><td class=\"a-text-right mojo-field-type-money\">$407,022,860</td><td class=\"a-text-left mojo-field-type-year\"><a class=\"a-link-normal\" href=\"/year/2002/?ref_=bo_cso_table_35\">2002</a></td></tr><tr><td class=\"a-text-right mojo-header-column mojo-truncate mojo-field-type-rank\">36</td><td class=\"a-text-left mojo-field-type-title\"><a class=\"a-link-normal\" href=\"/title/tt2283362/?ref_=bo_cso_table_36\">Jumanji: Welcome to the Jungle</a></td><td class=\"a-text-right mojo-field-type-money\">$404,540,171</td><td class=\"a-text-left mojo-field-type-year\"><a class=\"a-link-normal\" href=\"/year/2017/?ref_=bo_cso_table_36\">2017</a></td></tr><tr><td class=\"a-text-right mojo-header-column mojo-truncate mojo-field-type-rank\">37</td><td class=\"a-text-left mojo-field-type-title\"><a class=\"a-link-normal\" href=\"/title/tt0107290/?ref_=bo_cso_table_37\">Jurassic Park</a></td><td class=\"a-text-right mojo-field-type-money\">$404,214,720</td><td class=\"a-text-left mojo-field-type-year\"><a class=\"a-link-normal\" href=\"/year/1993/?ref_=bo_cso_table_37\">1993</a></td></tr><tr><td class=\"a-text-right mojo-header-column mojo-truncate mojo-field-type-rank\">38</td><td class=\"a-text-left mojo-field-type-title\"><a class=\"a-link-normal\" href=\"/title/tt1055369/?ref_=bo_cso_table_38\">Transformers: Revenge of the Fallen</a></td><td class=\"a-text-right mojo-field-type-money\">$402,111,870</td><td class=\"a-text-left mojo-field-type-year\"><a class=\"a-link-normal\" href=\"/year/2009/?ref_=bo_cso_table_38\">2009</a></td></tr><tr><td class=\"a-text-right mojo-header-column mojo-truncate mojo-field-type-rank\">39</td><td class=\"a-text-left mojo-field-type-title\"><a class=\"a-link-normal\" href=\"/title/tt2294629/?ref_=bo_cso_table_39\">Frozen</a></td><td class=\"a-text-right mojo-field-type-money\">$400,953,009</td><td class=\"a-text-left mojo-field-type-year\"><a class=\"a-link-normal\" href=\"/year/2013/?ref_=bo_cso_table_39\">2013</a></td></tr><tr><td class=\"a-text-right mojo-header-column mojo-truncate mojo-field-type-rank\">40</td><td class=\"a-text-left mojo-field-type-title\"><a class=\"a-link-normal\" href=\"/title/tt6320628/?ref_=bo_cso_table_40\">Spider-Man: Far from Home</a></td><td class=\"a-text-right mojo-field-type-money\">$390,532,085</td><td class=\"a-text-left mojo-field-type-year\"><a class=\"a-link-normal\" href=\"/year/2019/?ref_=bo_cso_table_40\">2019</a></td></tr><tr><td class=\"a-text-right mojo-header-column mojo-truncate mojo-field-type-rank\">41</td><td class=\"a-text-left mojo-field-type-title\"><a class=\"a-link-normal\" href=\"/title/tt3896198/?ref_=bo_cso_table_41\">Guardians of the Galaxy Vol. 2</a></td><td class=\"a-text-right mojo-field-type-money\">$389,813,101</td><td class=\"a-text-left mojo-field-type-year\"><a class=\"a-link-normal\" href=\"/year/2017/?ref_=bo_cso_table_41\">2017</a></td></tr><tr><td class=\"a-text-right mojo-header-column mojo-truncate mojo-field-type-rank\">42</td><td class=\"a-text-left mojo-field-type-title\"><a class=\"a-link-normal\" href=\"/title/tt1201607/?ref_=bo_cso_table_42\">Harry Potter and the Deathly Hallows: Part 2</a></td><td class=\"a-text-right mojo-field-type-money\">$381,409,310</td><td class=\"a-text-left mojo-field-type-year\"><a class=\"a-link-normal\" href=\"/year/2011/?ref_=bo_cso_table_42\">2011</a></td></tr><tr><td class=\"a-text-right mojo-header-column mojo-truncate mojo-field-type-rank\">43</td><td class=\"a-text-left mojo-field-type-title\"><a class=\"a-link-normal\" href=\"/title/tt0266543/?ref_=bo_cso_table_43\">Finding Nemo</a></td><td class=\"a-text-right mojo-field-type-money\">$380,843,261</td><td class=\"a-text-left mojo-field-type-year\"><a class=\"a-link-normal\" href=\"/year/2003/?ref_=bo_cso_table_43\">2003</a></td></tr><tr><td class=\"a-text-right mojo-header-column mojo-truncate mojo-field-type-rank\">44</td><td class=\"a-text-left mojo-field-type-title\"><a class=\"a-link-normal\" href=\"/title/tt0121766/?ref_=bo_cso_table_44\">Star Wars: Episode III - Revenge of the Sith</a></td><td class=\"a-text-right mojo-field-type-money\">$380,270,577</td><td class=\"a-text-left mojo-field-type-year\"><a class=\"a-link-normal\" href=\"/year/2005/?ref_=bo_cso_table_44\">2005</a></td></tr><tr><td class=\"a-text-right mojo-header-column mojo-truncate mojo-field-type-rank\">45</td><td class=\"a-text-left mojo-field-type-title\"><a class=\"a-link-normal\" href=\"/title/tt0167260/?ref_=bo_cso_table_45\">The Lord of the Rings: The Return of the King</a></td><td class=\"a-text-right mojo-field-type-money\">$377,845,905</td><td class=\"a-text-left mojo-field-type-year\"><a class=\"a-link-normal\" href=\"/year/2003/?ref_=bo_cso_table_45\">2003</a></td></tr><tr><td class=\"a-text-right mojo-header-column mojo-truncate mojo-field-type-rank\">46</td><td class=\"a-text-left mojo-field-type-title\"><a class=\"a-link-normal\" href=\"/title/tt0316654/?ref_=bo_cso_table_46\">Spider-Man 2</a></td><td class=\"a-text-right mojo-field-type-money\">$373,585,825</td><td class=\"a-text-left mojo-field-type-year\"><a class=\"a-link-normal\" href=\"/year/2004/?ref_=bo_cso_table_46\">2004</a></td></tr><tr><td class=\"a-text-right mojo-header-column mojo-truncate mojo-field-type-rank\">47</td><td class=\"a-text-left mojo-field-type-title\"><a class=\"a-link-normal\" href=\"/title/tt0335345/?ref_=bo_cso_table_47\">The Passion of the Christ</a></td><td class=\"a-text-right mojo-field-type-money\">$370,782,930</td><td class=\"a-text-left mojo-field-type-year\"><a class=\"a-link-normal\" href=\"/year/2004/?ref_=bo_cso_table_47\">2004</a></td></tr><tr><td class=\"a-text-right mojo-header-column mojo-truncate mojo-field-type-rank\">48</td><td class=\"a-text-left mojo-field-type-title\"><a class=\"a-link-normal\" href=\"/title/tt2709768/?ref_=bo_cso_table_48\">The Secret Life of Pets</a></td><td class=\"a-text-right mojo-field-type-money\">$368,384,330</td><td class=\"a-text-left mojo-field-type-year\"><a class=\"a-link-normal\" href=\"/year/2016/?ref_=bo_cso_table_48\">2016</a></td></tr><tr><td class=\"a-text-right mojo-header-column mojo-truncate mojo-field-type-rank\">49</td><td class=\"a-text-left mojo-field-type-title\"><a class=\"a-link-normal\" href=\"/title/tt1690953/?ref_=bo_cso_table_49\">Despicable Me 2</a></td><td class=\"a-text-right mojo-field-type-money\">$368,065,385</td><td class=\"a-text-left mojo-field-type-year\"><a class=\"a-link-normal\" href=\"/year/2013/?ref_=bo_cso_table_49\">2013</a></td></tr><tr><td class=\"a-text-right mojo-header-column mojo-truncate mojo-field-type-rank\">50</td><td class=\"a-text-left mojo-field-type-title\"><a class=\"a-link-normal\" href=\"/title/tt3040964/?ref_=bo_cso_table_50\">The Jungle Book</a></td><td class=\"a-text-right mojo-field-type-money\">$364,001,123</td><td class=\"a-text-left mojo-field-type-year\"><a class=\"a-link-normal\" href=\"/year/2016/?ref_=bo_cso_table_50\">2016</a></td></tr><tr><td class=\"a-text-right mojo-header-column mojo-truncate mojo-field-type-rank\">51</td><td class=\"a-text-left mojo-field-type-title\"><a class=\"a-link-normal\" href=\"/title/tt1431045/?ref_=bo_cso_table_51\">Deadpool</a></td><td class=\"a-text-right mojo-field-type-money\">$363,070,709</td><td class=\"a-text-left mojo-field-type-year\"><a class=\"a-link-normal\" href=\"/year/2016/?ref_=bo_cso_table_51\">2016</a></td></tr><tr><td class=\"a-text-right mojo-header-column mojo-truncate mojo-field-type-rank\">52</td><td class=\"a-text-left mojo-field-type-title\"><a class=\"a-link-normal\" href=\"/title/tt2096673/?ref_=bo_cso_table_52\">Inside Out</a></td><td class=\"a-text-right mojo-field-type-money\">$356,921,711</td><td class=\"a-text-left mojo-field-type-year\"><a class=\"a-link-normal\" href=\"/year/2015/?ref_=bo_cso_table_52\">2015</a></td></tr><tr><td class=\"a-text-right mojo-header-column mojo-truncate mojo-field-type-rank\">53</td><td class=\"a-text-left mojo-field-type-title\"><a class=\"a-link-normal\" href=\"/title/tt6139732/?ref_=bo_cso_table_53\">Aladdin</a></td><td class=\"a-text-right mojo-field-type-money\">$355,559,216</td><td class=\"a-text-left mojo-field-type-year\"><a class=\"a-link-normal\" href=\"/year/2019/?ref_=bo_cso_table_53\">2019</a></td></tr><tr><td class=\"a-text-right mojo-header-column mojo-truncate mojo-field-type-rank\">54</td><td class=\"a-text-left mojo-field-type-title\"><a class=\"a-link-normal\" href=\"/title/tt2820852/?ref_=bo_cso_table_54\">Furious 7</a></td><td class=\"a-text-right mojo-field-type-money\">$353,007,020</td><td class=\"a-text-left mojo-field-type-year\"><a class=\"a-link-normal\" href=\"/year/2015/?ref_=bo_cso_table_54\">2015</a></td></tr><tr><td class=\"a-text-right mojo-header-column mojo-truncate mojo-field-type-rank\">55</td><td class=\"a-text-left mojo-field-type-title\"><a class=\"a-link-normal\" href=\"/title/tt1399103/?ref_=bo_cso_table_55\">Transformers: Dark of the Moon</a></td><td class=\"a-text-right mojo-field-type-money\">$352,390,543</td><td class=\"a-text-left mojo-field-type-year\"><a class=\"a-link-normal\" href=\"/year/2011/?ref_=bo_cso_table_55\">2011</a></td></tr><tr><td class=\"a-text-right mojo-header-column mojo-truncate mojo-field-type-rank\">56</td><td class=\"a-text-left mojo-field-type-title\"><a class=\"a-link-normal\" href=\"/title/tt2179136/?ref_=bo_cso_table_56\">American Sniper</a></td><td class=\"a-text-right mojo-field-type-money\">$350,126,372</td><td class=\"a-text-left mojo-field-type-year\"><a class=\"a-link-normal\" href=\"/year/2014/?ref_=bo_cso_table_56\">2014</a></td></tr><tr><td class=\"a-text-right mojo-header-column mojo-truncate mojo-field-type-rank\">57</td><td class=\"a-text-left mojo-field-type-title\"><a class=\"a-link-normal\" href=\"/title/tt0167261/?ref_=bo_cso_table_57\">The Lord of the Rings: The Two Towers</a></td><td class=\"a-text-right mojo-field-type-money\">$342,551,365</td><td class=\"a-text-left mojo-field-type-year\"><a class=\"a-link-normal\" href=\"/year/2002/?ref_=bo_cso_table_57\">2002</a></td></tr><tr><td class=\"a-text-right mojo-header-column mojo-truncate mojo-field-type-rank\">58</td><td class=\"a-text-left mojo-field-type-title\"><a class=\"a-link-normal\" href=\"/title/tt2948356/?ref_=bo_cso_table_58\">Zootopia</a></td><td class=\"a-text-right mojo-field-type-money\">$341,268,248</td><td class=\"a-text-left mojo-field-type-year\"><a class=\"a-link-normal\" href=\"/year/2016/?ref_=bo_cso_table_58\">2016</a></td></tr><tr><td class=\"a-text-right mojo-header-column mojo-truncate mojo-field-type-rank\">59</td><td class=\"a-text-left mojo-field-type-title\"><a class=\"a-link-normal\" href=\"/title/tt1951265/?ref_=bo_cso_table_59\">The Hunger Games: Mockingjay - Part 1</a></td><td class=\"a-text-right mojo-field-type-money\">$337,135,885</td><td class=\"a-text-left mojo-field-type-year\"><a class=\"a-link-normal\" href=\"/year/2014/?ref_=bo_cso_table_59\">2014</a></td></tr><tr><td class=\"a-text-right mojo-header-column mojo-truncate mojo-field-type-rank\">60</td><td class=\"a-text-left mojo-field-type-title\"><a class=\"a-link-normal\" href=\"/title/tt0413300/?ref_=bo_cso_table_60\">Spider-Man 3</a></td><td class=\"a-text-right mojo-field-type-money\">$336,530,303</td><td class=\"a-text-left mojo-field-type-year\"><a class=\"a-link-normal\" href=\"/year/2007/?ref_=bo_cso_table_60\">2007</a></td></tr><tr><td class=\"a-text-right mojo-header-column mojo-truncate mojo-field-type-rank\">61</td><td class=\"a-text-left mojo-field-type-title\"><a class=\"a-link-normal\" href=\"/title/tt2293640/?ref_=bo_cso_table_61\">Minions</a></td><td class=\"a-text-right mojo-field-type-money\">$336,045,770</td><td class=\"a-text-left mojo-field-type-year\"><a class=\"a-link-normal\" href=\"/year/2015/?ref_=bo_cso_table_61\">2015</a></td></tr><tr><td class=\"a-text-right mojo-header-column mojo-truncate mojo-field-type-rank\">62</td><td class=\"a-text-left mojo-field-type-title\"><a class=\"a-link-normal\" href=\"/title/tt7286456/?ref_=bo_cso_table_62\">Joker</a></td><td class=\"a-text-right mojo-field-type-money\">$335,451,311</td><td class=\"a-text-left mojo-field-type-year\"><a class=\"a-link-normal\" href=\"/year/2019/?ref_=bo_cso_table_62\">2019</a></td></tr><tr><td class=\"a-text-right mojo-header-column mojo-truncate mojo-field-type-rank\">63</td><td class=\"a-text-left mojo-field-type-title\"><a class=\"a-link-normal\" href=\"/title/tt1477834/?ref_=bo_cso_table_63\">Aquaman</a></td><td class=\"a-text-right mojo-field-type-money\">$335,061,807</td><td class=\"a-text-left mojo-field-type-year\"><a class=\"a-link-normal\" href=\"/year/2018/?ref_=bo_cso_table_63\">2018</a></td></tr><tr><td class=\"a-text-right mojo-header-column mojo-truncate mojo-field-type-rank\">64</td><td class=\"a-text-left mojo-field-type-title\"><a class=\"a-link-normal\" href=\"/title/tt2250912/?ref_=bo_cso_table_64\">Spider-Man: Homecoming</a></td><td class=\"a-text-right mojo-field-type-money\">$334,201,140</td><td class=\"a-text-left mojo-field-type-year\"><a class=\"a-link-normal\" href=\"/year/2017/?ref_=bo_cso_table_64\">2017</a></td></tr><tr><td class=\"a-text-right mojo-header-column mojo-truncate mojo-field-type-rank\">65</td><td class=\"a-text-left mojo-field-type-title\"><a class=\"a-link-normal\" href=\"/title/tt1014759/?ref_=bo_cso_table_65\">Alice in Wonderland</a></td><td class=\"a-text-right mojo-field-type-money\">$334,191,110</td><td class=\"a-text-left mojo-field-type-year\"><a class=\"a-link-normal\" href=\"/year/2010/?ref_=bo_cso_table_65\">2010</a></td></tr><tr><td class=\"a-text-right mojo-header-column mojo-truncate mojo-field-type-rank\">66</td><td class=\"a-text-left mojo-field-type-title\"><a class=\"a-link-normal\" href=\"/title/tt2015381/?ref_=bo_cso_table_66\">Guardians of the Galaxy</a></td><td class=\"a-text-right mojo-field-type-money\">$333,718,600</td><td class=\"a-text-left mojo-field-type-year\"><a class=\"a-link-normal\" href=\"/year/2014/?ref_=bo_cso_table_66\">2014</a></td></tr><tr><td class=\"a-text-right mojo-header-column mojo-truncate mojo-field-type-rank\">67</td><td class=\"a-text-left mojo-field-type-title\"><a class=\"a-link-normal\" href=\"/title/tt0109830/?ref_=bo_cso_table_67\">Forrest Gump</a></td><td class=\"a-text-right mojo-field-type-money\">$330,455,270</td><td class=\"a-text-left mojo-field-type-year\"><a class=\"a-link-normal\" href=\"/year/1994/?ref_=bo_cso_table_67\">1994</a></td></tr><tr><td class=\"a-text-right mojo-header-column mojo-truncate mojo-field-type-rank\">68</td><td class=\"a-text-left mojo-field-type-title\"><a class=\"a-link-normal\" href=\"/title/tt2975590/?ref_=bo_cso_table_68\">Batman v Superman: Dawn of Justice</a></td><td class=\"a-text-right mojo-field-type-money\">$330,360,194</td><td class=\"a-text-left mojo-field-type-year\"><a class=\"a-link-normal\" href=\"/year/2016/?ref_=bo_cso_table_68\">2016</a></td></tr><tr><td class=\"a-text-right mojo-header-column mojo-truncate mojo-field-type-rank\">69</td><td class=\"a-text-left mojo-field-type-title\"><a class=\"a-link-normal\" href=\"/title/tt1396484/?ref_=bo_cso_table_69\">It</a></td><td class=\"a-text-right mojo-field-type-money\">$328,828,874</td><td class=\"a-text-left mojo-field-type-year\"><a class=\"a-link-normal\" href=\"/year/2017/?ref_=bo_cso_table_69\">2017</a></td></tr><tr><td class=\"a-text-right mojo-header-column mojo-truncate mojo-field-type-rank\">70</td><td class=\"a-text-left mojo-field-type-title\"><a class=\"a-link-normal\" href=\"/title/tt1386697/?ref_=bo_cso_table_70\">Suicide Squad</a></td><td class=\"a-text-right mojo-field-type-money\">$325,100,054</td><td class=\"a-text-left mojo-field-type-year\"><a class=\"a-link-normal\" href=\"/year/2016/?ref_=bo_cso_table_70\">2016</a></td></tr><tr><td class=\"a-text-right mojo-header-column mojo-truncate mojo-field-type-rank\">71</td><td class=\"a-text-left mojo-field-type-title\"><a class=\"a-link-normal\" href=\"/title/tt5463162/?ref_=bo_cso_table_71\">Deadpool 2</a></td><td class=\"a-text-right mojo-field-type-money\">$324,591,735</td><td class=\"a-text-left mojo-field-type-year\"><a class=\"a-link-normal\" href=\"/year/2018/?ref_=bo_cso_table_71\">2018</a></td></tr><tr><td class=\"a-text-right mojo-header-column mojo-truncate mojo-field-type-rank\">72</td><td class=\"a-text-left mojo-field-type-title\"><a class=\"a-link-normal\" href=\"/title/tt0413267/?ref_=bo_cso_table_72\">Shrek the Third</a></td><td class=\"a-text-right mojo-field-type-money\">$322,719,944</td><td class=\"a-text-left mojo-field-type-year\"><a class=\"a-link-normal\" href=\"/year/2007/?ref_=bo_cso_table_72\">2007</a></td></tr><tr><td class=\"a-text-right mojo-header-column mojo-truncate mojo-field-type-rank\">73</td><td class=\"a-text-left mojo-field-type-title\"><a class=\"a-link-normal\" href=\"/title/tt7975244/?ref_=bo_cso_table_73\">Jumanji: The Next Level</a></td><td class=\"a-text-right mojo-field-type-money\">$320,314,960</td><td class=\"a-text-left mojo-field-type-year\"><a class=\"a-link-normal\" href=\"/year/2019/?ref_=bo_cso_table_73\">2019</a></td></tr><tr><td class=\"a-text-right mojo-header-column mojo-truncate mojo-field-type-rank\">74</td><td class=\"a-text-left mojo-field-type-title\"><a class=\"a-link-normal\" href=\"/title/tt0418279/?ref_=bo_cso_table_74\">Transformers</a></td><td class=\"a-text-right mojo-field-type-money\">$319,246,193</td><td class=\"a-text-left mojo-field-type-year\"><a class=\"a-link-normal\" href=\"/year/2007/?ref_=bo_cso_table_74\">2007</a></td></tr><tr><td class=\"a-text-right mojo-header-column mojo-truncate mojo-field-type-rank\">75</td><td class=\"a-text-left mojo-field-type-title\"><a class=\"a-link-normal\" href=\"/title/tt0371746/?ref_=bo_cso_table_75\">Iron Man</a></td><td class=\"a-text-right mojo-field-type-money\">$319,034,126</td><td class=\"a-text-left mojo-field-type-year\"><a class=\"a-link-normal\" href=\"/year/2008/?ref_=bo_cso_table_75\">2008</a></td></tr><tr><td class=\"a-text-right mojo-header-column mojo-truncate mojo-field-type-rank\">76</td><td class=\"a-text-left mojo-field-type-title\"><a class=\"a-link-normal\" href=\"/title/tt0241527/?ref_=bo_cso_table_76\">Harry Potter and the Sorcerer's Stone</a></td><td class=\"a-text-right mojo-field-type-money\">$318,087,620</td><td class=\"a-text-left mojo-field-type-year\"><a class=\"a-link-normal\" href=\"/year/2001/?ref_=bo_cso_table_76\">2001</a></td></tr><tr><td class=\"a-text-right mojo-header-column mojo-truncate mojo-field-type-rank\">77</td><td class=\"a-text-left mojo-field-type-title\"><a class=\"a-link-normal\" href=\"/title/tt0367882/?ref_=bo_cso_table_77\">Indiana Jones and the Kingdom of the Crystal Skull</a></td><td class=\"a-text-right mojo-field-type-money\">$317,101,119</td><td class=\"a-text-left mojo-field-type-year\"><a class=\"a-link-normal\" href=\"/year/2008/?ref_=bo_cso_table_77\">2008</a></td></tr><tr><td class=\"a-text-right mojo-header-column mojo-truncate mojo-field-type-rank\">78</td><td class=\"a-text-left mojo-field-type-title\"><a class=\"a-link-normal\" href=\"/title/tt0120737/?ref_=bo_cso_table_78\">The Lord of the Rings: The Fellowship of the Ring</a></td><td class=\"a-text-right mojo-field-type-money\">$315,710,750</td><td class=\"a-text-left mojo-field-type-year\"><a class=\"a-link-normal\" href=\"/year/2001/?ref_=bo_cso_table_78\">2001</a></td></tr><tr><td class=\"a-text-right mojo-header-column mojo-truncate mojo-field-type-rank\">79</td><td class=\"a-text-left mojo-field-type-title\"><a class=\"a-link-normal\" href=\"/title/tt3501632/?ref_=bo_cso_table_79\">Thor: Ragnarok</a></td><td class=\"a-text-right mojo-field-type-money\">$315,058,289</td><td class=\"a-text-left mojo-field-type-year\"><a class=\"a-link-normal\" href=\"/year/2017/?ref_=bo_cso_table_79\">2017</a></td></tr><tr><td class=\"a-text-right mojo-header-column mojo-truncate mojo-field-type-rank\">80</td><td class=\"a-text-left mojo-field-type-title\"><a class=\"a-link-normal\" href=\"/title/tt1228705/?ref_=bo_cso_table_80\">Iron Man 2</a></td><td class=\"a-text-right mojo-field-type-money\">$312,433,331</td><td class=\"a-text-left mojo-field-type-year\"><a class=\"a-link-normal\" href=\"/year/2010/?ref_=bo_cso_table_80\">2010</a></td></tr><tr><td class=\"a-text-right mojo-header-column mojo-truncate mojo-field-type-rank\">81</td><td class=\"a-text-left mojo-field-type-title\"><a class=\"a-link-normal\" href=\"/title/tt0121765/?ref_=bo_cso_table_81\">Star Wars: Episode II - Attack of the Clones</a></td><td class=\"a-text-right mojo-field-type-money\">$310,676,740</td><td class=\"a-text-left mojo-field-type-year\"><a class=\"a-link-normal\" href=\"/year/2002/?ref_=bo_cso_table_81\">2002</a></td></tr><tr><td class=\"a-text-right mojo-header-column mojo-truncate mojo-field-type-rank\">82</td><td class=\"a-text-left mojo-field-type-title\"><a class=\"a-link-normal\" href=\"/title/tt0449088/?ref_=bo_cso_table_82\">Pirates of the Caribbean: At World's End</a></td><td class=\"a-text-right mojo-field-type-money\">$309,420,425</td><td class=\"a-text-left mojo-field-type-year\"><a class=\"a-link-normal\" href=\"/year/2007/?ref_=bo_cso_table_82\">2007</a></td></tr><tr><td class=\"a-text-right mojo-header-column mojo-truncate mojo-field-type-rank\">83</td><td class=\"a-text-left mojo-field-type-title\"><a class=\"a-link-normal\" href=\"/title/tt0086190/?ref_=bo_cso_table_83\">Star Wars: Episode VI - Return of the Jedi</a></td><td class=\"a-text-right mojo-field-type-money\">$309,306,177</td><td class=\"a-text-left mojo-field-type-year\"><a class=\"a-link-normal\" href=\"/year/1983/?ref_=bo_cso_table_83\">1983</a></td></tr><tr><td class=\"a-text-right mojo-header-column mojo-truncate mojo-field-type-rank\">84</td><td class=\"a-text-left mojo-field-type-title\"><a class=\"a-link-normal\" href=\"/title/tt0116629/?ref_=bo_cso_table_84\">Independence Day</a></td><td class=\"a-text-right mojo-field-type-money\">$306,169,268</td><td class=\"a-text-left mojo-field-type-year\"><a class=\"a-link-normal\" href=\"/year/1996/?ref_=bo_cso_table_84\">1996</a></td></tr><tr><td class=\"a-text-right mojo-header-column mojo-truncate mojo-field-type-rank\">85</td><td class=\"a-text-left mojo-field-type-title\"><a class=\"a-link-normal\" href=\"/title/tt0325980/?ref_=bo_cso_table_85\">Pirates of the Caribbean: The Curse of the Black Pearl</a></td><td class=\"a-text-right mojo-field-type-money\">$305,413,918</td><td class=\"a-text-left mojo-field-type-year\"><a class=\"a-link-normal\" href=\"/year/2003/?ref_=bo_cso_table_85\">2003</a></td></tr><tr><td class=\"a-text-right mojo-header-column mojo-truncate mojo-field-type-rank\">86</td><td class=\"a-text-left mojo-field-type-title\"><a class=\"a-link-normal\" href=\"/title/tt1074638/?ref_=bo_cso_table_86\">Skyfall</a></td><td class=\"a-text-right mojo-field-type-money\">$304,360,277</td><td class=\"a-text-left mojo-field-type-year\"><a class=\"a-link-normal\" href=\"/year/2012/?ref_=bo_cso_table_86\">2012</a></td></tr><tr><td class=\"a-text-right mojo-header-column mojo-truncate mojo-field-type-rank\">87</td><td class=\"a-text-left mojo-field-type-title\"><a class=\"a-link-normal\" href=\"/title/tt0903624/?ref_=bo_cso_table_87\">The Hobbit: An Unexpected Journey</a></td><td class=\"a-text-right mojo-field-type-money\">$303,003,568</td><td class=\"a-text-left mojo-field-type-year\"><a class=\"a-link-normal\" href=\"/year/2012/?ref_=bo_cso_table_87\">2012</a></td></tr><tr><td class=\"a-text-right mojo-header-column mojo-truncate mojo-field-type-rank\">88</td><td class=\"a-text-left mojo-field-type-title\"><a class=\"a-link-normal\" href=\"/title/tt0417741/?ref_=bo_cso_table_88\">Harry Potter and the Half-Blood Prince</a></td><td class=\"a-text-right mojo-field-type-money\">$302,305,431</td><td class=\"a-text-left mojo-field-type-year\"><a class=\"a-link-normal\" href=\"/year/2009/?ref_=bo_cso_table_88\">2009</a></td></tr><tr><td class=\"a-text-right mojo-header-column mojo-truncate mojo-field-type-rank\">89</td><td class=\"a-text-left mojo-field-type-title\"><a class=\"a-link-normal\" href=\"/title/tt1325004/?ref_=bo_cso_table_89\">The Twilight Saga: Eclipse</a></td><td class=\"a-text-right mojo-field-type-money\">$300,531,751</td><td class=\"a-text-left mojo-field-type-year\"><a class=\"a-link-normal\" href=\"/year/2010/?ref_=bo_cso_table_89\">2010</a></td></tr><tr><td class=\"a-text-right mojo-header-column mojo-truncate mojo-field-type-rank\">90</td><td class=\"a-text-left mojo-field-type-title\"><a class=\"a-link-normal\" href=\"/title/tt1259571/?ref_=bo_cso_table_90\">The Twilight Saga: New Moon</a></td><td class=\"a-text-right mojo-field-type-money\">$297,816,253</td><td class=\"a-text-left mojo-field-type-year\"><a class=\"a-link-normal\" href=\"/year/2009/?ref_=bo_cso_table_90\">2009</a></td></tr><tr><td class=\"a-text-right mojo-header-column mojo-truncate mojo-field-type-rank\">91</td><td class=\"a-text-left mojo-field-type-title\"><a class=\"a-link-normal\" href=\"/title/tt0926084/?ref_=bo_cso_table_91\">Harry Potter and the Deathly Hallows: Part 1</a></td><td class=\"a-text-right mojo-field-type-money\">$296,347,721</td><td class=\"a-text-left mojo-field-type-year\"><a class=\"a-link-normal\" href=\"/year/2010/?ref_=bo_cso_table_91\">2010</a></td></tr><tr><td class=\"a-text-right mojo-header-column mojo-truncate mojo-field-type-rank\">92</td><td class=\"a-text-left mojo-field-type-title\"><a class=\"a-link-normal\" href=\"/title/tt0167404/?ref_=bo_cso_table_92\">The Sixth Sense</a></td><td class=\"a-text-right mojo-field-type-money\">$293,506,292</td><td class=\"a-text-left mojo-field-type-year\"><a class=\"a-link-normal\" href=\"/year/1999/?ref_=bo_cso_table_92\">1999</a></td></tr><tr><td class=\"a-text-right mojo-header-column mojo-truncate mojo-field-type-rank\">93</td><td class=\"a-text-left mojo-field-type-title\"><a class=\"a-link-normal\" href=\"/title/tt1049413/?ref_=bo_cso_table_93\">Up</a></td><td class=\"a-text-right mojo-field-type-money\">$293,004,164</td><td class=\"a-text-left mojo-field-type-year\"><a class=\"a-link-normal\" href=\"/year/2009/?ref_=bo_cso_table_93\">2009</a></td></tr><tr><td class=\"a-text-right mojo-header-column mojo-truncate mojo-field-type-rank\">94</td><td class=\"a-text-left mojo-field-type-title\"><a class=\"a-link-normal\" href=\"/title/tt0080684/?ref_=bo_cso_table_94\">Star Wars: Episode V - The Empire Strikes Back</a></td><td class=\"a-text-right mojo-field-type-money\">$292,753,960</td><td class=\"a-text-left mojo-field-type-year\"><a class=\"a-link-normal\" href=\"/year/1980/?ref_=bo_cso_table_94\">1980</a></td></tr><tr><td class=\"a-text-right mojo-header-column mojo-truncate mojo-field-type-rank\">95</td><td class=\"a-text-left mojo-field-type-title\"><a class=\"a-link-normal\" href=\"/title/tt1375666/?ref_=bo_cso_table_95\">Inception</a></td><td class=\"a-text-right mojo-field-type-money\">$292,576,195</td><td class=\"a-text-left mojo-field-type-year\"><a class=\"a-link-normal\" href=\"/year/2010/?ref_=bo_cso_table_95\">2010</a></td></tr><tr><td class=\"a-text-right mojo-header-column mojo-truncate mojo-field-type-rank\">96</td><td class=\"a-text-left mojo-field-type-title\"><a class=\"a-link-normal\" href=\"/title/tt0373889/?ref_=bo_cso_table_96\">Harry Potter and the Order of the Phoenix</a></td><td class=\"a-text-right mojo-field-type-money\">$292,353,413</td><td class=\"a-text-left mojo-field-type-year\"><a class=\"a-link-normal\" href=\"/year/2007/?ref_=bo_cso_table_96\">2007</a></td></tr><tr><td class=\"a-text-right mojo-header-column mojo-truncate mojo-field-type-rank\">97</td><td class=\"a-text-left mojo-field-type-title\"><a class=\"a-link-normal\" href=\"/title/tt1673434/?ref_=bo_cso_table_97\">The Twilight Saga: Breaking Dawn - Part 2</a></td><td class=\"a-text-right mojo-field-type-money\">$292,324,737</td><td class=\"a-text-left mojo-field-type-year\"><a class=\"a-link-normal\" href=\"/year/2012/?ref_=bo_cso_table_97\">2012</a></td></tr><tr><td class=\"a-text-right mojo-header-column mojo-truncate mojo-field-type-rank\">98</td><td class=\"a-text-left mojo-field-type-title\"><a class=\"a-link-normal\" href=\"/title/tt0363771/?ref_=bo_cso_table_98\">The Chronicles of Narnia: The Lion, the Witch and the Wardrobe</a></td><td class=\"a-text-right mojo-field-type-money\">$291,710,957</td><td class=\"a-text-left mojo-field-type-year\"><a class=\"a-link-normal\" href=\"/year/2005/?ref_=bo_cso_table_98\">2005</a></td></tr><tr><td class=\"a-text-right mojo-header-column mojo-truncate mojo-field-type-rank\">99</td><td class=\"a-text-left mojo-field-type-title\"><a class=\"a-link-normal\" href=\"/title/tt0770828/?ref_=bo_cso_table_99\">Man of Steel</a></td><td class=\"a-text-right mojo-field-type-money\">$291,045,518</td><td class=\"a-text-left mojo-field-type-year\"><a class=\"a-link-normal\" href=\"/year/2013/?ref_=bo_cso_table_99\">2013</a></td></tr><tr><td class=\"a-text-right mojo-header-column mojo-truncate mojo-field-type-rank\">100</td><td class=\"a-text-left mojo-field-type-title\"><a class=\"a-link-normal\" href=\"/title/tt0198781/?ref_=bo_cso_table_100\">Monsters, Inc.</a></td><td class=\"a-text-right mojo-field-type-money\">$290,642,256</td><td class=\"a-text-left mojo-field-type-year\"><a class=\"a-link-normal\" href=\"/year/2001/?ref_=bo_cso_table_100\">2001</a></td></tr><tr><td class=\"a-text-right mojo-header-column mojo-truncate mojo-field-type-rank\">101</td><td class=\"a-text-left mojo-field-type-title\"><a class=\"a-link-normal\" href=\"/title/tt0330373/?ref_=bo_cso_table_101\">Harry Potter and the Goblet of Fire</a></td><td class=\"a-text-right mojo-field-type-money\">$290,417,905</td><td class=\"a-text-left mojo-field-type-year\"><a class=\"a-link-normal\" href=\"/year/2005/?ref_=bo_cso_table_101\">2005</a></td></tr><tr><td class=\"a-text-right mojo-header-column mojo-truncate mojo-field-type-rank\">102</td><td class=\"a-text-left mojo-field-type-title\"><a class=\"a-link-normal\" href=\"/title/tt0099785/?ref_=bo_cso_table_102\">Home Alone</a></td><td class=\"a-text-right mojo-field-type-money\">$285,761,243</td><td class=\"a-text-left mojo-field-type-year\"><a class=\"a-link-normal\" href=\"/year/1990/?ref_=bo_cso_table_102\">1990</a></td></tr><tr><td class=\"a-text-right mojo-header-column mojo-truncate mojo-field-type-rank\">103</td><td class=\"a-text-left mojo-field-type-title\"><a class=\"a-link-normal\" href=\"/title/tt1951266/?ref_=bo_cso_table_103\">The Hunger Games: Mockingjay - Part 2</a></td><td class=\"a-text-right mojo-field-type-money\">$281,723,902</td><td class=\"a-text-left mojo-field-type-year\"><a class=\"a-link-normal\" href=\"/year/2015/?ref_=bo_cso_table_103\">2015</a></td></tr><tr><td class=\"a-text-right mojo-header-column mojo-truncate mojo-field-type-rank\">104</td><td class=\"a-text-left mojo-field-type-title\"><a class=\"a-link-normal\" href=\"/title/tt0234215/?ref_=bo_cso_table_104\">The Matrix Reloaded</a></td><td class=\"a-text-right mojo-field-type-money\">$281,576,461</td><td class=\"a-text-left mojo-field-type-year\"><a class=\"a-link-normal\" href=\"/year/2003/?ref_=bo_cso_table_104\">2003</a></td></tr><tr><td class=\"a-text-right mojo-header-column mojo-truncate mojo-field-type-rank\">105</td><td class=\"a-text-left mojo-field-type-title\"><a class=\"a-link-normal\" href=\"/title/tt1324999/?ref_=bo_cso_table_105\">The Twilight Saga: Breaking Dawn - Part 1</a></td><td class=\"a-text-right mojo-field-type-money\">$281,287,133</td><td class=\"a-text-left mojo-field-type-year\"><a class=\"a-link-normal\" href=\"/year/2011/?ref_=bo_cso_table_105\">2011</a></td></tr><tr><td class=\"a-text-right mojo-header-column mojo-truncate mojo-field-type-rank\">106</td><td class=\"a-text-left mojo-field-type-title\"><a class=\"a-link-normal\" href=\"/title/tt0290002/?ref_=bo_cso_table_106\">Meet the Fockers</a></td><td class=\"a-text-right mojo-field-type-money\">$279,261,160</td><td class=\"a-text-left mojo-field-type-year\"><a class=\"a-link-normal\" href=\"/year/2004/?ref_=bo_cso_table_106\">2004</a></td></tr><tr><td class=\"a-text-right mojo-header-column mojo-truncate mojo-field-type-rank\">107</td><td class=\"a-text-left mojo-field-type-title\"><a class=\"a-link-normal\" href=\"/title/tt1119646/?ref_=bo_cso_table_107\">The Hangover</a></td><td class=\"a-text-right mojo-field-type-money\">$277,322,503</td><td class=\"a-text-left mojo-field-type-year\"><a class=\"a-link-normal\" href=\"/year/2009/?ref_=bo_cso_table_107\">2009</a></td></tr><tr><td class=\"a-text-right mojo-header-column mojo-truncate mojo-field-type-rank\">108</td><td class=\"a-text-left mojo-field-type-title\"><a class=\"a-link-normal\" href=\"/title/tt1454468/?ref_=bo_cso_table_108\">Gravity</a></td><td class=\"a-text-right mojo-field-type-money\">$274,092,705</td><td class=\"a-text-left mojo-field-type-year\"><a class=\"a-link-normal\" href=\"/year/2013/?ref_=bo_cso_table_108\">2013</a></td></tr><tr><td class=\"a-text-right mojo-header-column mojo-truncate mojo-field-type-rank\">109</td><td class=\"a-text-left mojo-field-type-title\"><a class=\"a-link-normal\" href=\"/title/tt2709692/?ref_=bo_cso_table_109\">The Grinch</a></td><td class=\"a-text-right mojo-field-type-money\">$271,094,731</td><td class=\"a-text-left mojo-field-type-year\"><a class=\"a-link-normal\" href=\"/year/2018/?ref_=bo_cso_table_109\">2018</a></td></tr><tr><td class=\"a-text-right mojo-header-column mojo-truncate mojo-field-type-rank\">110</td><td class=\"a-text-left mojo-field-type-title\"><a class=\"a-link-normal\" href=\"/title/tt3470600/?ref_=bo_cso_table_110\">Sing</a></td><td class=\"a-text-right mojo-field-type-money\">$270,448,425</td><td class=\"a-text-left mojo-field-type-year\"><a class=\"a-link-normal\" href=\"/year/2016/?ref_=bo_cso_table_110\">2016</a></td></tr><tr><td class=\"a-text-right mojo-header-column mojo-truncate mojo-field-type-rank\">111</td><td class=\"a-text-left mojo-field-type-title\"><a class=\"a-link-normal\" href=\"/title/tt1453405/?ref_=bo_cso_table_111\">Monsters University</a></td><td class=\"a-text-right mojo-field-type-money\">$268,492,764</td><td class=\"a-text-left mojo-field-type-year\"><a class=\"a-link-normal\" href=\"/year/2013/?ref_=bo_cso_table_111\">2013</a></td></tr><tr><td class=\"a-text-right mojo-header-column mojo-truncate mojo-field-type-rank\">112</td><td class=\"a-text-left mojo-field-type-title\"><a class=\"a-link-normal\" href=\"/title/tt0126029/?ref_=bo_cso_table_112\">Shrek</a></td><td class=\"a-text-right mojo-field-type-money\">$267,665,011</td><td class=\"a-text-left mojo-field-type-year\"><a class=\"a-link-normal\" href=\"/year/2001/?ref_=bo_cso_table_112\">2001</a></td></tr><tr><td class=\"a-text-right mojo-header-column mojo-truncate mojo-field-type-rank\">113</td><td class=\"a-text-left mojo-field-type-title\"><a class=\"a-link-normal\" href=\"/title/tt3469046/?ref_=bo_cso_table_113\">Despicable Me 3</a></td><td class=\"a-text-right mojo-field-type-money\">$264,624,300</td><td class=\"a-text-left mojo-field-type-year\"><a class=\"a-link-normal\" href=\"/year/2017/?ref_=bo_cso_table_113\">2017</a></td></tr><tr><td class=\"a-text-right mojo-header-column mojo-truncate mojo-field-type-rank\">114</td><td class=\"a-text-left mojo-field-type-title\"><a class=\"a-link-normal\" href=\"/title/tt0295297/?ref_=bo_cso_table_114\">Harry Potter and the Chamber of Secrets</a></td><td class=\"a-text-right mojo-field-type-money\">$262,450,136</td><td class=\"a-text-left mojo-field-type-year\"><a class=\"a-link-normal\" href=\"/year/2002/?ref_=bo_cso_table_114\">2002</a></td></tr><tr><td class=\"a-text-right mojo-header-column mojo-truncate mojo-field-type-rank\">115</td><td class=\"a-text-left mojo-field-type-title\"><a class=\"a-link-normal\" href=\"/title/tt0948470/?ref_=bo_cso_table_115\">The Amazing Spider-Man</a></td><td class=\"a-text-right mojo-field-type-money\">$262,030,663</td><td class=\"a-text-left mojo-field-type-year\"><a class=\"a-link-normal\" href=\"/year/2012/?ref_=bo_cso_table_115\">2012</a></td></tr><tr><td class=\"a-text-right mojo-header-column mojo-truncate mojo-field-type-rank\">116</td><td class=\"a-text-left mojo-field-type-title\"><a class=\"a-link-normal\" href=\"/title/tt0317705/?ref_=bo_cso_table_116\">The Incredibles</a></td><td class=\"a-text-right mojo-field-type-money\">$261,441,092</td><td class=\"a-text-left mojo-field-type-year\"><a class=\"a-link-normal\" href=\"/year/2004/?ref_=bo_cso_table_116\">2004</a></td></tr><tr><td class=\"a-text-right mojo-header-column mojo-truncate mojo-field-type-rank\">117</td><td class=\"a-text-left mojo-field-type-title\"><a class=\"a-link-normal\" href=\"/title/tt0073195/?ref_=bo_cso_table_117\">Jaws</a></td><td class=\"a-text-right mojo-field-type-money\">$260,758,300</td><td class=\"a-text-left mojo-field-type-year\">1975</td></tr><tr><td class=\"a-text-right mojo-header-column mojo-truncate mojo-field-type-rank\">118</td><td class=\"a-text-left mojo-field-type-title\"><a class=\"a-link-normal\" href=\"/title/tt0170016/?ref_=bo_cso_table_118\">How the Grinch Stole Christmas</a></td><td class=\"a-text-right mojo-field-type-money\">$260,465,005</td><td class=\"a-text-left mojo-field-type-year\"><a class=\"a-link-normal\" href=\"/year/2000/?ref_=bo_cso_table_118\">2000</a></td></tr><tr><td class=\"a-text-right mojo-header-column mojo-truncate mojo-field-type-rank\">119</td><td class=\"a-text-left mojo-field-type-title\"><a class=\"a-link-normal\" href=\"/title/tt1843866/?ref_=bo_cso_table_119\">Captain America: The Winter Soldier</a></td><td class=\"a-text-right mojo-field-type-money\">$259,766,572</td><td class=\"a-text-left mojo-field-type-year\"><a class=\"a-link-normal\" href=\"/year/2014/?ref_=bo_cso_table_119\">2014</a></td></tr><tr><td class=\"a-text-right mojo-header-column mojo-truncate mojo-field-type-rank\">120</td><td class=\"a-text-left mojo-field-type-title\"><a class=\"a-link-normal\" href=\"/title/tt1170358/?ref_=bo_cso_table_120\">The Hobbit: The Desolation of Smaug</a></td><td class=\"a-text-right mojo-field-type-money\">$258,366,855</td><td class=\"a-text-left mojo-field-type-year\"><a class=\"a-link-normal\" href=\"/year/2013/?ref_=bo_cso_table_120\">2013</a></td></tr><tr><td class=\"a-text-right mojo-header-column mojo-truncate mojo-field-type-rank\">121</td><td class=\"a-text-left mojo-field-type-title\"><a class=\"a-link-normal\" href=\"/title/tt1490017/?ref_=bo_cso_table_121\">The Lego Movie</a></td><td class=\"a-text-right mojo-field-type-money\">$257,760,692</td><td class=\"a-text-left mojo-field-type-year\"><a class=\"a-link-normal\" href=\"/year/2014/?ref_=bo_cso_table_121\">2014</a></td></tr><tr><td class=\"a-text-right mojo-header-column mojo-truncate mojo-field-type-rank\">122</td><td class=\"a-text-left mojo-field-type-title\"><a class=\"a-link-normal\" href=\"/title/tt0796366/?ref_=bo_cso_table_122\">Star Trek</a></td><td class=\"a-text-right mojo-field-type-money\">$257,730,019</td><td class=\"a-text-left mojo-field-type-year\"><a class=\"a-link-normal\" href=\"/year/2009/?ref_=bo_cso_table_122\">2009</a></td></tr><tr><td class=\"a-text-right mojo-header-column mojo-truncate mojo-field-type-rank\">123</td><td class=\"a-text-left mojo-field-type-title\"><a class=\"a-link-normal\" href=\"/title/tt0480249/?ref_=bo_cso_table_123\">I Am Legend</a></td><td class=\"a-text-right mojo-field-type-money\">$256,393,010</td><td class=\"a-text-left mojo-field-type-year\"><a class=\"a-link-normal\" href=\"/year/2007/?ref_=bo_cso_table_123\">2007</a></td></tr><tr><td class=\"a-text-right mojo-header-column mojo-truncate mojo-field-type-rank\">124</td><td class=\"a-text-left mojo-field-type-title\"><a class=\"a-link-normal\" href=\"/title/tt0878804/?ref_=bo_cso_table_124\">The Blind Side</a></td><td class=\"a-text-right mojo-field-type-money\">$255,959,475</td><td class=\"a-text-left mojo-field-type-year\"><a class=\"a-link-normal\" href=\"/year/2009/?ref_=bo_cso_table_124\">2009</a></td></tr><tr><td class=\"a-text-right mojo-header-column mojo-truncate mojo-field-type-rank\">125</td><td class=\"a-text-left mojo-field-type-title\"><a class=\"a-link-normal\" href=\"/title/tt2310332/?ref_=bo_cso_table_125\">The Hobbit: The Battle of the Five Armies</a></td><td class=\"a-text-right mojo-field-type-money\">$255,119,788</td><td class=\"a-text-left mojo-field-type-year\"><a class=\"a-link-normal\" href=\"/year/2014/?ref_=bo_cso_table_125\">2014</a></td></tr><tr><td class=\"a-text-right mojo-header-column mojo-truncate mojo-field-type-rank\">126</td><td class=\"a-text-left mojo-field-type-title\"><a class=\"a-link-normal\" href=\"/title/tt1411697/?ref_=bo_cso_table_126\">The Hangover Part II</a></td><td class=\"a-text-right mojo-field-type-money\">$254,464,305</td><td class=\"a-text-left mojo-field-type-year\"><a class=\"a-link-normal\" href=\"/year/2011/?ref_=bo_cso_table_126\">2011</a></td></tr><tr><td class=\"a-text-right mojo-header-column mojo-truncate mojo-field-type-rank\">127</td><td class=\"a-text-left mojo-field-type-title\"><a class=\"a-link-normal\" href=\"/title/tt1323594/?ref_=bo_cso_table_127\">Despicable Me</a></td><td class=\"a-text-right mojo-field-type-money\">$251,513,985</td><td class=\"a-text-left mojo-field-type-year\"><a class=\"a-link-normal\" href=\"/year/2010/?ref_=bo_cso_table_127\">2010</a></td></tr><tr><td class=\"a-text-right mojo-header-column mojo-truncate mojo-field-type-rank\">128</td><td class=\"a-text-left mojo-field-type-title\"><a class=\"a-link-normal\" href=\"/title/tt0096895/?ref_=bo_cso_table_128\">Batman</a></td><td class=\"a-text-right mojo-field-type-money\">$251,348,343</td><td class=\"a-text-left mojo-field-type-year\"><a class=\"a-link-normal\" href=\"/year/1989/?ref_=bo_cso_table_128\">1989</a></td></tr><tr><td class=\"a-text-right mojo-header-column mojo-truncate mojo-field-type-rank\">129</td><td class=\"a-text-left mojo-field-type-title\"><a class=\"a-link-normal\" href=\"/title/tt0477347/?ref_=bo_cso_table_129\">Night at the Museum</a></td><td class=\"a-text-right mojo-field-type-money\">$250,863,268</td><td class=\"a-text-left mojo-field-type-year\"><a class=\"a-link-normal\" href=\"/year/2006/?ref_=bo_cso_table_129\">2006</a></td></tr><tr><td class=\"a-text-right mojo-header-column mojo-truncate mojo-field-type-rank\">130</td><td class=\"a-text-left mojo-field-type-title\"><a class=\"a-link-normal\" href=\"/title/tt0119654/?ref_=bo_cso_table_130\">Men in Black</a></td><td class=\"a-text-right mojo-field-type-money\">$250,690,539</td><td class=\"a-text-left mojo-field-type-year\"><a class=\"a-link-normal\" href=\"/year/1997/?ref_=bo_cso_table_130\">1997</a></td></tr><tr><td class=\"a-text-right mojo-header-column mojo-truncate mojo-field-type-rank\">131</td><td class=\"a-text-left mojo-field-type-title\"><a class=\"a-link-normal\" href=\"/title/tt0304141/?ref_=bo_cso_table_131\">Harry Potter and the Prisoner of Azkaban</a></td><td class=\"a-text-right mojo-field-type-money\">$249,975,996</td><td class=\"a-text-left mojo-field-type-year\"><a class=\"a-link-normal\" href=\"/year/2004/?ref_=bo_cso_table_131\">2004</a></td></tr><tr><td class=\"a-text-right mojo-header-column mojo-truncate mojo-field-type-rank\">132</td><td class=\"a-text-left mojo-field-type-title\"><a class=\"a-link-normal\" href=\"/title/tt3521164/?ref_=bo_cso_table_132\">Moana</a></td><td class=\"a-text-right mojo-field-type-money\">$248,757,044</td><td class=\"a-text-left mojo-field-type-year\"><a class=\"a-link-normal\" href=\"/year/2016/?ref_=bo_cso_table_132\">2016</a></td></tr><tr><td class=\"a-text-right mojo-header-column mojo-truncate mojo-field-type-rank\">133</td><td class=\"a-text-left mojo-field-type-title\"><a class=\"a-link-normal\" href=\"/title/tt0082971/?ref_=bo_cso_table_133\">Indiana Jones and the Raiders of the Lost Ark</a></td><td class=\"a-text-right mojo-field-type-money\">$248,159,971</td><td class=\"a-text-left mojo-field-type-year\"><a class=\"a-link-normal\" href=\"/year/1981/?ref_=bo_cso_table_133\">1981</a></td></tr><tr><td class=\"a-text-right mojo-header-column mojo-truncate mojo-field-type-rank\">134</td><td class=\"a-text-left mojo-field-type-title\"><a class=\"a-link-normal\" href=\"/title/tt0120363/?ref_=bo_cso_table_134\">Toy Story 2</a></td><td class=\"a-text-right mojo-field-type-money\">$245,852,179</td><td class=\"a-text-left mojo-field-type-year\"><a class=\"a-link-normal\" href=\"/year/1999/?ref_=bo_cso_table_134\">1999</a></td></tr><tr><td class=\"a-text-right mojo-header-column mojo-truncate mojo-field-type-rank\">135</td><td class=\"a-text-left mojo-field-type-title\"><a class=\"a-link-normal\" href=\"/title/tt2109248/?ref_=bo_cso_table_135\">Transformers: Age of Extinction</a></td><td class=\"a-text-right mojo-field-type-money\">$245,439,076</td><td class=\"a-text-left mojo-field-type-year\"><a class=\"a-link-normal\" href=\"/year/2014/?ref_=bo_cso_table_135\">2014</a></td></tr><tr><td class=\"a-text-right mojo-header-column mojo-truncate mojo-field-type-rank\">136</td><td class=\"a-text-left mojo-field-type-title\"><a class=\"a-link-normal\" href=\"/title/tt0317219/?ref_=bo_cso_table_136\">Cars</a></td><td class=\"a-text-right mojo-field-type-money\">$244,082,982</td><td class=\"a-text-left mojo-field-type-year\"><a class=\"a-link-normal\" href=\"/year/2006/?ref_=bo_cso_table_136\">2006</a></td></tr><tr><td class=\"a-text-right mojo-header-column mojo-truncate mojo-field-type-rank\">137</td><td class=\"a-text-left mojo-field-type-title\"><a class=\"a-link-normal\" href=\"/title/tt0087332/?ref_=bo_cso_table_137\">Ghostbusters</a></td><td class=\"a-text-right mojo-field-type-money\">$243,187,079</td><td class=\"a-text-left mojo-field-type-year\"><a class=\"a-link-normal\" href=\"/year/1984/?ref_=bo_cso_table_137\">1984</a></td></tr><tr><td class=\"a-text-right mojo-header-column mojo-truncate mojo-field-type-rank\">138</td><td class=\"a-text-left mojo-field-type-title\"><a class=\"a-link-normal\" href=\"/title/tt0315327/?ref_=bo_cso_table_138\">Bruce Almighty</a></td><td class=\"a-text-right mojo-field-type-money\">$242,829,261</td><td class=\"a-text-left mojo-field-type-year\"><a class=\"a-link-normal\" href=\"/year/2003/?ref_=bo_cso_table_138\">2003</a></td></tr><tr><td class=\"a-text-right mojo-header-column mojo-truncate mojo-field-type-rank\">139</td><td class=\"a-text-left mojo-field-type-title\"><a class=\"a-link-normal\" href=\"/title/tt0117998/?ref_=bo_cso_table_139\">Twister</a></td><td class=\"a-text-right mojo-field-type-money\">$241,721,524</td><td class=\"a-text-left mojo-field-type-year\"><a class=\"a-link-normal\" href=\"/year/1996/?ref_=bo_cso_table_139\">1996</a></td></tr><tr><td class=\"a-text-right mojo-header-column mojo-truncate mojo-field-type-rank\">140</td><td class=\"a-text-left mojo-field-type-title\"><a class=\"a-link-normal\" href=\"/title/tt0259446/?ref_=bo_cso_table_140\">My Big Fat Greek Wedding</a></td><td class=\"a-text-right mojo-field-type-money\">$241,438,208</td><td class=\"a-text-left mojo-field-type-year\"><a class=\"a-link-normal\" href=\"/year/2002/?ref_=bo_cso_table_140\">2002</a></td></tr><tr><td class=\"a-text-right mojo-header-column mojo-truncate mojo-field-type-rank\">141</td><td class=\"a-text-left mojo-field-type-title\"><a class=\"a-link-normal\" href=\"/title/tt1587310/?ref_=bo_cso_table_141\">Maleficent</a></td><td class=\"a-text-right mojo-field-type-money\">$241,410,378</td><td class=\"a-text-left mojo-field-type-year\"><a class=\"a-link-normal\" href=\"/year/2014/?ref_=bo_cso_table_141\">2014</a></td></tr><tr><td class=\"a-text-right mojo-header-column mojo-truncate mojo-field-type-rank\">142</td><td class=\"a-text-left mojo-field-type-title\"><a class=\"a-link-normal\" href=\"/title/tt1298650/?ref_=bo_cso_table_142\">Pirates of the Caribbean: On Stranger Tides</a></td><td class=\"a-text-right mojo-field-type-money\">$241,071,802</td><td class=\"a-text-left mojo-field-type-year\"><a class=\"a-link-normal\" href=\"/year/2011/?ref_=bo_cso_table_142\">2011</a></td></tr><tr><td class=\"a-text-right mojo-header-column mojo-truncate mojo-field-type-rank\">143</td><td class=\"a-text-left mojo-field-type-title\"><a class=\"a-link-normal\" href=\"/title/tt0892791/?ref_=bo_cso_table_143\">Shrek Forever After</a></td><td class=\"a-text-right mojo-field-type-money\">$238,736,787</td><td class=\"a-text-left mojo-field-type-year\"><a class=\"a-link-normal\" href=\"/year/2010/?ref_=bo_cso_table_143\">2010</a></td></tr><tr><td class=\"a-text-right mojo-header-column mojo-truncate mojo-field-type-rank\">144</td><td class=\"a-text-left mojo-field-type-title\"><a class=\"a-link-normal\" href=\"/title/tt1905041/?ref_=bo_cso_table_144\">Fast &amp; Furious 6</a></td><td class=\"a-text-right mojo-field-type-money\">$238,679,850</td><td class=\"a-text-left mojo-field-type-year\"><a class=\"a-link-normal\" href=\"/year/2013/?ref_=bo_cso_table_144\">2013</a></td></tr><tr><td class=\"a-text-right mojo-header-column mojo-truncate mojo-field-type-rank\">145</td><td class=\"a-text-left mojo-field-type-title\"><a class=\"a-link-normal\" href=\"/title/tt1217209/?ref_=bo_cso_table_145\">Brave</a></td><td class=\"a-text-right mojo-field-type-money\">$237,283,207</td><td class=\"a-text-left mojo-field-type-year\"><a class=\"a-link-normal\" href=\"/year/2012/?ref_=bo_cso_table_145\">2012</a></td></tr><tr><td class=\"a-text-right mojo-header-column mojo-truncate mojo-field-type-rank\">146</td><td class=\"a-text-left mojo-field-type-title\"><a class=\"a-link-normal\" href=\"/title/tt1623205/?ref_=bo_cso_table_146\">Oz the Great and Powerful</a></td><td class=\"a-text-right mojo-field-type-money\">$234,911,825</td><td class=\"a-text-left mojo-field-type-year\"><a class=\"a-link-normal\" href=\"/year/2013/?ref_=bo_cso_table_146\">2013</a></td></tr><tr><td class=\"a-text-right mojo-header-column mojo-truncate mojo-field-type-rank\">147</td><td class=\"a-text-left mojo-field-type-title\"><a class=\"a-link-normal\" href=\"/title/tt0086960/?ref_=bo_cso_table_147\">Beverly Hills Cop</a></td><td class=\"a-text-right mojo-field-type-money\">$234,760,478</td><td class=\"a-text-left mojo-field-type-year\"><a class=\"a-link-normal\" href=\"/year/1984/?ref_=bo_cso_table_147\">1984</a></td></tr><tr><td class=\"a-text-right mojo-header-column mojo-truncate mojo-field-type-rank\">148</td><td class=\"a-text-left mojo-field-type-title\"><a class=\"a-link-normal\" href=\"/title/tt0376994/?ref_=bo_cso_table_148\">X-Men: The Last Stand</a></td><td class=\"a-text-right mojo-field-type-money\">$234,362,462</td><td class=\"a-text-left mojo-field-type-year\"><a class=\"a-link-normal\" href=\"/year/2006/?ref_=bo_cso_table_148\">2006</a></td></tr><tr><td class=\"a-text-right mojo-header-column mojo-truncate mojo-field-type-rank\">149</td><td class=\"a-text-left mojo-field-type-title\"><a class=\"a-link-normal\" href=\"/title/tt0407304/?ref_=bo_cso_table_149\">War of the Worlds</a></td><td class=\"a-text-right mojo-field-type-money\">$234,280,354</td><td class=\"a-text-left mojo-field-type-year\"><a class=\"a-link-normal\" href=\"/year/2005/?ref_=bo_cso_table_149\">2005</a></td></tr><tr><td class=\"a-text-right mojo-header-column mojo-truncate mojo-field-type-rank\">150</td><td class=\"a-text-left mojo-field-type-title\"><a class=\"a-link-normal\" href=\"/title/tt3183660/?ref_=bo_cso_table_150\">Fantastic Beasts and Where to Find Them</a></td><td class=\"a-text-right mojo-field-type-money\">$234,037,575</td><td class=\"a-text-left mojo-field-type-year\"><a class=\"a-link-normal\" href=\"/year/2016/?ref_=bo_cso_table_150\">2016</a></td></tr><tr><td class=\"a-text-right mojo-header-column mojo-truncate mojo-field-type-rank\">151</td><td class=\"a-text-left mojo-field-type-title\"><a class=\"a-link-normal\" href=\"/title/tt1877832/?ref_=bo_cso_table_151\">X-Men: Days of Future Past</a></td><td class=\"a-text-right mojo-field-type-money\">$233,921,534</td><td class=\"a-text-left mojo-field-type-year\"><a class=\"a-link-normal\" href=\"/year/2014/?ref_=bo_cso_table_151\">2014</a></td></tr><tr><td class=\"a-text-right mojo-header-column mojo-truncate mojo-field-type-rank\">152</td><td class=\"a-text-left mojo-field-type-title\"><a class=\"a-link-normal\" href=\"/title/tt0162222/?ref_=bo_cso_table_152\">Cast Away</a></td><td class=\"a-text-right mojo-field-type-money\">$233,632,142</td><td class=\"a-text-left mojo-field-type-year\"><a class=\"a-link-normal\" href=\"/year/2000/?ref_=bo_cso_table_152\">2000</a></td></tr><tr><td class=\"a-text-right mojo-header-column mojo-truncate mojo-field-type-rank\">153</td><td class=\"a-text-left mojo-field-type-title\"><a class=\"a-link-normal\" href=\"/title/tt0070047/?ref_=bo_cso_table_153\">The Exorcist</a></td><td class=\"a-text-right mojo-field-type-money\">$232,906,145</td><td class=\"a-text-left mojo-field-type-year\">1973</td></tr><tr><td class=\"a-text-right mojo-header-column mojo-truncate mojo-field-type-rank\">154</td><td class=\"a-text-left mojo-field-type-title\"><a class=\"a-link-normal\" href=\"/title/tt1211837/?ref_=bo_cso_table_154\">Doctor Strange</a></td><td class=\"a-text-right mojo-field-type-money\">$232,641,920</td><td class=\"a-text-left mojo-field-type-year\"><a class=\"a-link-normal\" href=\"/year/2016/?ref_=bo_cso_table_154\">2016</a></td></tr><tr><td class=\"a-text-right mojo-header-column mojo-truncate mojo-field-type-rank\">155</td><td class=\"a-text-left mojo-field-type-title\"><a class=\"a-link-normal\" href=\"/title/tt0119567/?ref_=bo_cso_table_155\">The Lost World: Jurassic Park</a></td><td class=\"a-text-right mojo-field-type-money\">$229,086,679</td><td class=\"a-text-left mojo-field-type-year\"><a class=\"a-link-normal\" href=\"/year/1997/?ref_=bo_cso_table_155\">1997</a></td></tr><tr><td class=\"a-text-right mojo-header-column mojo-truncate mojo-field-type-rank\">156</td><td class=\"a-text-left mojo-field-type-title\"><a class=\"a-link-normal\" href=\"/title/tt0974015/?ref_=bo_cso_table_156\">Justice League</a></td><td class=\"a-text-right mojo-field-type-money\">$229,024,295</td><td class=\"a-text-left mojo-field-type-year\"><a class=\"a-link-normal\" href=\"/year/2017/?ref_=bo_cso_table_156\">2017</a></td></tr><tr><td class=\"a-text-right mojo-header-column mojo-truncate mojo-field-type-rank\">157</td><td class=\"a-text-left mojo-field-type-title\"><a class=\"a-link-normal\" href=\"/title/tt1408101/?ref_=bo_cso_table_157\">Star Trek Into Darkness</a></td><td class=\"a-text-right mojo-field-type-money\">$228,778,661</td><td class=\"a-text-left mojo-field-type-year\"><a class=\"a-link-normal\" href=\"/year/2013/?ref_=bo_cso_table_157\">2013</a></td></tr><tr><td class=\"a-text-right mojo-header-column mojo-truncate mojo-field-type-rank\">158</td><td class=\"a-text-left mojo-field-type-title\"><a class=\"a-link-normal\" href=\"/title/tt3659388/?ref_=bo_cso_table_158\">The Martian</a></td><td class=\"a-text-right mojo-field-type-money\">$228,433,663</td><td class=\"a-text-left mojo-field-type-year\"><a class=\"a-link-normal\" href=\"/year/2015/?ref_=bo_cso_table_158\">2015</a></td></tr><tr><td class=\"a-text-right mojo-header-column mojo-truncate mojo-field-type-rank\">159</td><td class=\"a-text-left mojo-field-type-title\"><a class=\"a-link-normal\" href=\"/title/tt0286106/?ref_=bo_cso_table_159\">Signs</a></td><td class=\"a-text-right mojo-field-type-money\">$227,966,634</td><td class=\"a-text-left mojo-field-type-year\"><a class=\"a-link-normal\" href=\"/year/2002/?ref_=bo_cso_table_159\">2002</a></td></tr><tr><td class=\"a-text-right mojo-header-column mojo-truncate mojo-field-type-rank\">160</td><td class=\"a-text-left mojo-field-type-title\"><a class=\"a-link-normal\" href=\"/title/tt0448157/?ref_=bo_cso_table_160\">Hancock</a></td><td class=\"a-text-right mojo-field-type-money\">$227,946,274</td><td class=\"a-text-left mojo-field-type-year\"><a class=\"a-link-normal\" href=\"/year/2008/?ref_=bo_cso_table_160\">2008</a></td></tr><tr><td class=\"a-text-right mojo-header-column mojo-truncate mojo-field-type-rank\">161</td><td class=\"a-text-left mojo-field-type-title\"><a class=\"a-link-normal\" href=\"/title/tt0440963/?ref_=bo_cso_table_161\">The Bourne Ultimatum</a></td><td class=\"a-text-right mojo-field-type-money\">$227,471,070</td><td class=\"a-text-left mojo-field-type-year\"><a class=\"a-link-normal\" href=\"/year/2007/?ref_=bo_cso_table_161\">2007</a></td></tr><tr><td class=\"a-text-right mojo-header-column mojo-truncate mojo-field-type-rank\">162</td><td class=\"a-text-left mojo-field-type-title\"><a class=\"a-link-normal\" href=\"/title/tt3315342/?ref_=bo_cso_table_162\">Logan</a></td><td class=\"a-text-right mojo-field-type-money\">$226,277,068</td><td class=\"a-text-left mojo-field-type-year\"><a class=\"a-link-normal\" href=\"/year/2017/?ref_=bo_cso_table_162\">2017</a></td></tr><tr><td class=\"a-text-right mojo-header-column mojo-truncate mojo-field-type-rank\">163</td><td class=\"a-text-left mojo-field-type-title\"><a class=\"a-link-normal\" href=\"/title/tt0266915/?ref_=bo_cso_table_163\">Rush Hour 2</a></td><td class=\"a-text-right mojo-field-type-money\">$226,164,286</td><td class=\"a-text-left mojo-field-type-year\"><a class=\"a-link-normal\" href=\"/year/2001/?ref_=bo_cso_table_163\">2001</a></td></tr><tr><td class=\"a-text-right mojo-header-column mojo-truncate mojo-field-type-rank\">164</td><td class=\"a-text-left mojo-field-type-title\"><a class=\"a-link-normal\" href=\"/title/tt4630562/?ref_=bo_cso_table_164\">The Fate of the Furious</a></td><td class=\"a-text-right mojo-field-type-money\">$226,008,385</td><td class=\"a-text-left mojo-field-type-year\"><a class=\"a-link-normal\" href=\"/year/2017/?ref_=bo_cso_table_164\">2017</a></td></tr><tr><td class=\"a-text-right mojo-header-column mojo-truncate mojo-field-type-rank\">165</td><td class=\"a-text-left mojo-field-type-title\"><a class=\"a-link-normal\" href=\"/title/tt0910970/?ref_=bo_cso_table_165\">WALL·E</a></td><td class=\"a-text-right mojo-field-type-money\">$223,808,164</td><td class=\"a-text-left mojo-field-type-year\"><a class=\"a-link-normal\" href=\"/year/2008/?ref_=bo_cso_table_165\">2008</a></td></tr><tr><td class=\"a-text-right mojo-header-column mojo-truncate mojo-field-type-rank\">166</td><td class=\"a-text-left mojo-field-type-title\"><a class=\"a-link-normal\" href=\"/title/tt0114709/?ref_=bo_cso_table_166\">Toy Story</a></td><td class=\"a-text-right mojo-field-type-money\">$223,225,679</td><td class=\"a-text-left mojo-field-type-year\"><a class=\"a-link-normal\" href=\"/year/1995/?ref_=bo_cso_table_166\">1995</a></td></tr><tr><td class=\"a-text-right mojo-header-column mojo-truncate mojo-field-type-rank\">167</td><td class=\"a-text-left mojo-field-type-title\"><a class=\"a-link-normal\" href=\"/title/tt2245084/?ref_=bo_cso_table_167\">Big Hero 6</a></td><td class=\"a-text-right mojo-field-type-money\">$222,527,828</td><td class=\"a-text-left mojo-field-type-year\"><a class=\"a-link-normal\" href=\"/year/2014/?ref_=bo_cso_table_167\">2014</a></td></tr><tr><td class=\"a-text-right mojo-header-column mojo-truncate mojo-field-type-rank\">168</td><td class=\"a-text-left mojo-field-type-title\"><a class=\"a-link-normal\" href=\"/title/tt4912910/?ref_=bo_cso_table_168\">Mission: Impossible - Fallout</a></td><td class=\"a-text-right mojo-field-type-money\">$220,159,104</td><td class=\"a-text-left mojo-field-type-year\"><a class=\"a-link-normal\" href=\"/year/2018/?ref_=bo_cso_table_168\">2018</a></td></tr><tr><td class=\"a-text-right mojo-header-column mojo-truncate mojo-field-type-rank\">169</td><td class=\"a-text-left mojo-field-type-title\"><a class=\"a-link-normal\" href=\"/title/tt0465234/?ref_=bo_cso_table_169\">National Treasure: Book of Secrets</a></td><td class=\"a-text-right mojo-field-type-money\">$219,964,115</td><td class=\"a-text-left mojo-field-type-year\"><a class=\"a-link-normal\" href=\"/year/2007/?ref_=bo_cso_table_169\">2007</a></td></tr><tr><td class=\"a-text-right mojo-header-column mojo-truncate mojo-field-type-rank\">170</td><td class=\"a-text-left mojo-field-type-title\"><a class=\"a-link-normal\" href=\"/title/tt1231580/?ref_=bo_cso_table_170\">Alvin and the Chipmunks: The Squeakquel</a></td><td class=\"a-text-right mojo-field-type-money\">$219,614,612</td><td class=\"a-text-left mojo-field-type-year\"><a class=\"a-link-normal\" href=\"/year/2009/?ref_=bo_cso_table_170\">2009</a></td></tr><tr><td class=\"a-text-right mojo-header-column mojo-truncate mojo-field-type-rank\">171</td><td class=\"a-text-left mojo-field-type-title\"><a class=\"a-link-normal\" href=\"/title/tt0107614/?ref_=bo_cso_table_171\">Mrs. Doubtfire</a></td><td class=\"a-text-right mojo-field-type-money\">$219,195,243</td><td class=\"a-text-left mojo-field-type-year\"><a class=\"a-link-normal\" href=\"/year/1993/?ref_=bo_cso_table_171\">1993</a></td></tr><tr><td class=\"a-text-right mojo-header-column mojo-truncate mojo-field-type-rank\">172</td><td class=\"a-text-left mojo-field-type-title\"><a class=\"a-link-normal\" href=\"/title/tt0101414/?ref_=bo_cso_table_172\">Beauty and the Beast</a></td><td class=\"a-text-right mojo-field-type-money\">$218,967,620</td><td class=\"a-text-left mojo-field-type-year\"><a class=\"a-link-normal\" href=\"/year/1991/?ref_=bo_cso_table_172\">1991</a></td></tr><tr><td class=\"a-text-right mojo-header-column mojo-truncate mojo-field-type-rank\">173</td><td class=\"a-text-left mojo-field-type-title\"><a class=\"a-link-normal\" href=\"/title/tt1637725/?ref_=bo_cso_table_173\">Ted</a></td><td class=\"a-text-right mojo-field-type-money\">$218,815,487</td><td class=\"a-text-left mojo-field-type-year\"><a class=\"a-link-normal\" href=\"/year/2012/?ref_=bo_cso_table_173\">2012</a></td></tr><tr><td class=\"a-text-right mojo-header-column mojo-truncate mojo-field-type-rank\">174</td><td class=\"a-text-left mojo-field-type-title\"><a class=\"a-link-normal\" href=\"/title/tt0360717/?ref_=bo_cso_table_174\">King Kong</a></td><td class=\"a-text-right mojo-field-type-money\">$218,080,025</td><td class=\"a-text-left mojo-field-type-year\"><a class=\"a-link-normal\" href=\"/year/2005/?ref_=bo_cso_table_174\">2005</a></td></tr><tr><td class=\"a-text-right mojo-header-column mojo-truncate mojo-field-type-rank\">175</td><td class=\"a-text-left mojo-field-type-title\"><a class=\"a-link-normal\" href=\"/title/tt0099653/?ref_=bo_cso_table_175\">Ghost</a></td><td class=\"a-text-right mojo-field-type-money\">$217,631,306</td><td class=\"a-text-left mojo-field-type-year\"><a class=\"a-link-normal\" href=\"/year/1990/?ref_=bo_cso_table_175\">1990</a></td></tr><tr><td class=\"a-text-right mojo-header-column mojo-truncate mojo-field-type-rank\">176</td><td class=\"a-text-left mojo-field-type-title\"><a class=\"a-link-normal\" href=\"/title/tt0892769/?ref_=bo_cso_table_176\">How to Train Your Dragon</a></td><td class=\"a-text-right mojo-field-type-money\">$217,581,231</td><td class=\"a-text-left mojo-field-type-year\"><a class=\"a-link-normal\" href=\"/year/2010/?ref_=bo_cso_table_176\">2010</a></td></tr><tr><td class=\"a-text-right mojo-header-column mojo-truncate mojo-field-type-rank\">177</td><td class=\"a-text-left mojo-field-type-title\"><a class=\"a-link-normal\" href=\"/title/tt0382625/?ref_=bo_cso_table_177\">The Da Vinci Code</a></td><td class=\"a-text-right mojo-field-type-money\">$217,536,138</td><td class=\"a-text-left mojo-field-type-year\"><a class=\"a-link-normal\" href=\"/year/2006/?ref_=bo_cso_table_177\">2006</a></td></tr><tr><td class=\"a-text-right mojo-header-column mojo-truncate mojo-field-type-rank\">178</td><td class=\"a-text-left mojo-field-type-title\"><a class=\"a-link-normal\" href=\"/title/tt0103639/?ref_=bo_cso_table_178\">Aladdin</a></td><td class=\"a-text-right mojo-field-type-money\">$217,350,219</td><td class=\"a-text-left mojo-field-type-year\"><a class=\"a-link-normal\" href=\"/year/1992/?ref_=bo_cso_table_178\">1992</a></td></tr><tr><td class=\"a-text-right mojo-header-column mojo-truncate mojo-field-type-rank\">179</td><td class=\"a-text-left mojo-field-type-title\"><a class=\"a-link-normal\" href=\"/title/tt0952640/?ref_=bo_cso_table_179\">Alvin and the Chipmunks</a></td><td class=\"a-text-right mojo-field-type-money\">$217,326,974</td><td class=\"a-text-left mojo-field-type-year\"><a class=\"a-link-normal\" href=\"/year/2007/?ref_=bo_cso_table_179\">2007</a></td></tr><tr><td class=\"a-text-right mojo-header-column mojo-truncate mojo-field-type-rank\">180</td><td class=\"a-text-left mojo-field-type-title\"><a class=\"a-link-normal\" href=\"/title/tt0120815/?ref_=bo_cso_table_180\">Saving Private Ryan</a></td><td class=\"a-text-right mojo-field-type-money\">$217,049,603</td><td class=\"a-text-left mojo-field-type-year\"><a class=\"a-link-normal\" href=\"/year/1998/?ref_=bo_cso_table_180\">1998</a></td></tr><tr><td class=\"a-text-right mojo-header-column mojo-truncate mojo-field-type-rank\">181</td><td class=\"a-text-left mojo-field-type-title\"><a class=\"a-link-normal\" href=\"/title/tt1727824/?ref_=bo_cso_table_181\">Bohemian Rhapsody</a></td><td class=\"a-text-right mojo-field-type-money\">$216,668,042</td><td class=\"a-text-left mojo-field-type-year\"><a class=\"a-link-normal\" href=\"/year/2018/?ref_=bo_cso_table_181\">2018</a></td></tr><tr><td class=\"a-text-right mojo-header-column mojo-truncate mojo-field-type-rank\">182</td><td class=\"a-text-left mojo-field-type-title\"><a class=\"a-link-normal\" href=\"/title/tt5095030/?ref_=bo_cso_table_182\">Ant-Man and the Wasp</a></td><td class=\"a-text-right mojo-field-type-money\">$216,648,740</td><td class=\"a-text-left mojo-field-type-year\"><a class=\"a-link-normal\" href=\"/year/2018/?ref_=bo_cso_table_182\">2018</a></td></tr><tr><td class=\"a-text-right mojo-header-column mojo-truncate mojo-field-type-rank\">183</td><td class=\"a-text-left mojo-field-type-title\"><a class=\"a-link-normal\" href=\"/title/tt1277953/?ref_=bo_cso_table_183\">Madagascar 3: Europe's Most Wanted</a></td><td class=\"a-text-right mojo-field-type-money\">$216,391,482</td><td class=\"a-text-left mojo-field-type-year\"><a class=\"a-link-normal\" href=\"/year/2012/?ref_=bo_cso_table_183\">2012</a></td></tr><tr><td class=\"a-text-right mojo-header-column mojo-truncate mojo-field-type-rank\">184</td><td class=\"a-text-left mojo-field-type-title\"><a class=\"a-link-normal\" href=\"/title/tt0441773/?ref_=bo_cso_table_184\">Kung Fu Panda</a></td><td class=\"a-text-right mojo-field-type-money\">$215,434,591</td><td class=\"a-text-left mojo-field-type-year\"><a class=\"a-link-normal\" href=\"/year/2008/?ref_=bo_cso_table_184\">2008</a></td></tr><tr><td class=\"a-text-right mojo-header-column mojo-truncate mojo-field-type-rank\">185</td><td class=\"a-text-left mojo-field-type-title\"><a class=\"a-link-normal\" href=\"/title/tt0120755/?ref_=bo_cso_table_185\">Mission: Impossible II</a></td><td class=\"a-text-right mojo-field-type-money\">$215,409,889</td><td class=\"a-text-left mojo-field-type-year\"><a class=\"a-link-normal\" href=\"/year/2000/?ref_=bo_cso_table_185\">2000</a></td></tr><tr><td class=\"a-text-right mojo-header-column mojo-truncate mojo-field-type-rank\">186</td><td class=\"a-text-left mojo-field-type-title\"><a class=\"a-link-normal\" href=\"/title/tt1517451/?ref_=bo_cso_table_186\">A Star Is Born</a></td><td class=\"a-text-right mojo-field-type-money\">$215,288,866</td><td class=\"a-text-left mojo-field-type-year\"><a class=\"a-link-normal\" href=\"/year/2018/?ref_=bo_cso_table_186\">2018</a></td></tr><tr><td class=\"a-text-right mojo-header-column mojo-truncate mojo-field-type-rank\">187</td><td class=\"a-text-left mojo-field-type-title\"><a class=\"a-link-normal\" href=\"/title/tt0290334/?ref_=bo_cso_table_187\">X2: X-Men United</a></td><td class=\"a-text-right mojo-field-type-money\">$214,949,694</td><td class=\"a-text-left mojo-field-type-year\"><a class=\"a-link-normal\" href=\"/year/2003/?ref_=bo_cso_table_187\">2003</a></td></tr><tr><td class=\"a-text-right mojo-header-column mojo-truncate mojo-field-type-rank\">188</td><td class=\"a-text-left mojo-field-type-title\"><a class=\"a-link-normal\" href=\"/title/tt1482459/?ref_=bo_cso_table_188\">The Lorax</a></td><td class=\"a-text-right mojo-field-type-money\">$214,030,500</td><td class=\"a-text-left mojo-field-type-year\"><a class=\"a-link-normal\" href=\"/year/2012/?ref_=bo_cso_table_188\">2012</a></td></tr><tr><td class=\"a-text-right mojo-header-column mojo-truncate mojo-field-type-rank\">189</td><td class=\"a-text-left mojo-field-type-title\"><a class=\"a-link-normal\" href=\"/title/tt3778644/?ref_=bo_cso_table_189\">Solo: A Star Wars Story</a></td><td class=\"a-text-right mojo-field-type-money\">$213,767,512</td><td class=\"a-text-left mojo-field-type-year\"><a class=\"a-link-normal\" href=\"/year/2018/?ref_=bo_cso_table_189\">2018</a></td></tr><tr><td class=\"a-text-right mojo-header-column mojo-truncate mojo-field-type-rank\">190</td><td class=\"a-text-left mojo-field-type-title\"><a class=\"a-link-normal\" href=\"/title/tt1270797/?ref_=bo_cso_table_190\">Venom</a></td><td class=\"a-text-right mojo-field-type-money\">$213,515,506</td><td class=\"a-text-left mojo-field-type-year\"><a class=\"a-link-normal\" href=\"/year/2018/?ref_=bo_cso_table_190\">2018</a></td></tr><tr><td class=\"a-text-right mojo-header-column mojo-truncate mojo-field-type-rank\">191</td><td class=\"a-text-left mojo-field-type-title\"><a class=\"a-link-normal\" href=\"/title/tt0295178/?ref_=bo_cso_table_191\">Austin Powers in Goldmember</a></td><td class=\"a-text-right mojo-field-type-money\">$213,307,889</td><td class=\"a-text-left mojo-field-type-year\"><a class=\"a-link-normal\" href=\"/year/2002/?ref_=bo_cso_table_191\">2002</a></td></tr><tr><td class=\"a-text-right mojo-header-column mojo-truncate mojo-field-type-rank\">192</td><td class=\"a-text-left mojo-field-type-title\"><a class=\"a-link-normal\" href=\"/title/tt7349950/?ref_=bo_cso_table_192\">It Chapter Two</a></td><td class=\"a-text-right mojo-field-type-money\">$211,593,228</td><td class=\"a-text-left mojo-field-type-year\"><a class=\"a-link-normal\" href=\"/year/2019/?ref_=bo_cso_table_192\">2019</a></td></tr><tr><td class=\"a-text-right mojo-header-column mojo-truncate mojo-field-type-rank\">193</td><td class=\"a-text-left mojo-field-type-title\"><a class=\"a-link-normal\" href=\"/title/tt0088763/?ref_=bo_cso_table_193\">Back to the Future</a></td><td class=\"a-text-right mojo-field-type-money\">$211,406,762</td><td class=\"a-text-left mojo-field-type-year\"><a class=\"a-link-normal\" href=\"/year/1985/?ref_=bo_cso_table_193\">1985</a></td></tr><tr><td class=\"a-text-right mojo-header-column mojo-truncate mojo-field-type-rank\">194</td><td class=\"a-text-left mojo-field-type-title\"><a class=\"a-link-normal\" href=\"/title/tt0416449/?ref_=bo_cso_table_194\">300</a></td><td class=\"a-text-right mojo-field-type-money\">$210,614,939</td><td class=\"a-text-left mojo-field-type-year\"><a class=\"a-link-normal\" href=\"/year/2007/?ref_=bo_cso_table_194\">2007</a></td></tr><tr><td class=\"a-text-right mojo-header-column mojo-truncate mojo-field-type-rank\">195</td><td class=\"a-text-left mojo-field-type-title\"><a class=\"a-link-normal\" href=\"/title/tt2380307/?ref_=bo_cso_table_195\">Coco</a></td><td class=\"a-text-right mojo-field-type-money\">$210,460,015</td><td class=\"a-text-left mojo-field-type-year\"><a class=\"a-link-normal\" href=\"/year/2017/?ref_=bo_cso_table_195\">2017</a></td></tr><tr><td class=\"a-text-right mojo-header-column mojo-truncate mojo-field-type-rank\">196</td><td class=\"a-text-left mojo-field-type-title\"><a class=\"a-link-normal\" href=\"/title/tt1596343/?ref_=bo_cso_table_196\">Fast Five</a></td><td class=\"a-text-right mojo-field-type-money\">$209,837,675</td><td class=\"a-text-left mojo-field-type-year\"><a class=\"a-link-normal\" href=\"/year/2011/?ref_=bo_cso_table_196\">2011</a></td></tr><tr><td class=\"a-text-right mojo-header-column mojo-truncate mojo-field-type-rank\">197</td><td class=\"a-text-left mojo-field-type-title\"><a class=\"a-link-normal\" href=\"/title/tt1229238/?ref_=bo_cso_table_197\">Mission: Impossible - Ghost Protocol</a></td><td class=\"a-text-right mojo-field-type-money\">$209,397,903</td><td class=\"a-text-left mojo-field-type-year\"><a class=\"a-link-normal\" href=\"/year/2011/?ref_=bo_cso_table_197\">2011</a></td></tr><tr><td class=\"a-text-right mojo-header-column mojo-truncate mojo-field-type-rank\">198</td><td class=\"a-text-left mojo-field-type-title\"><a class=\"a-link-normal\" href=\"/title/tt0396269/?ref_=bo_cso_table_198\">Wedding Crashers</a></td><td class=\"a-text-right mojo-field-type-money\">$209,255,921</td><td class=\"a-text-left mojo-field-type-year\"><a class=\"a-link-normal\" href=\"/year/2005/?ref_=bo_cso_table_198\">2005</a></td></tr><tr><td class=\"a-text-right mojo-header-column mojo-truncate mojo-field-type-rank\">199</td><td class=\"a-text-left mojo-field-type-title\"><a class=\"a-link-normal\" href=\"/title/tt0988045/?ref_=bo_cso_table_199\">Sherlock Holmes</a></td><td class=\"a-text-right mojo-field-type-money\">$209,028,679</td><td class=\"a-text-left mojo-field-type-year\"><a class=\"a-link-normal\" href=\"/year/2009/?ref_=bo_cso_table_199\">2009</a></td></tr><tr><td class=\"a-text-right mojo-header-column mojo-truncate mojo-field-type-rank\">200</td><td class=\"a-text-left mojo-field-type-title\"><a class=\"a-link-normal\" href=\"/title/tt2103281/?ref_=bo_cso_table_200\">Dawn of the Planet of the Apes</a></td><td class=\"a-text-right mojo-field-type-money\">$208,545,589</td><td class=\"a-text-left mojo-field-type-year\"><a class=\"a-link-normal\" href=\"/year/2014/?ref_=bo_cso_table_200\">2014</a></td></tr></table>"
      ]
     },
     "execution_count": 25,
     "metadata": {},
     "output_type": "execute_result"
    }
   ],
   "source": [
    "table = soup.find('table')\n",
    "table"
   ]
  },
  {
   "cell_type": "code",
   "execution_count": 26,
   "id": "continuous-motel",
   "metadata": {},
   "outputs": [],
   "source": [
    "rows = [row for row in table.find_all('tr')] "
   ]
  },
  {
   "cell_type": "code",
   "execution_count": 27,
   "id": "valuable-senate",
   "metadata": {},
   "outputs": [
    {
     "data": {
      "text/plain": [
       "<tr><td class=\"a-text-right mojo-header-column mojo-truncate mojo-field-type-rank\">1</td><td class=\"a-text-left mojo-field-type-title\"><a class=\"a-link-normal\" href=\"/title/tt2488496/?ref_=bo_cso_table_1\">Star Wars: Episode VII - The Force Awakens</a></td><td class=\"a-text-right mojo-field-type-money\">$936,662,225</td><td class=\"a-text-left mojo-field-type-year\"><a class=\"a-link-normal\" href=\"/year/2015/?ref_=bo_cso_table_1\">2015</a></td></tr>"
      ]
     },
     "execution_count": 27,
     "metadata": {},
     "output_type": "execute_result"
    }
   ],
   "source": [
    "rows[1]"
   ]
  },
  {
   "cell_type": "code",
   "execution_count": 28,
   "id": "arctic-clear",
   "metadata": {},
   "outputs": [],
   "source": [
    "url_list = ['https://www.boxofficemojo.com/chart/top_lifetime_gross/?ref_=bo_lnav_hm_shrt', \n",
    "            'https://www.boxofficemojo.com/chart/top_lifetime_gross/?offset=200', \n",
    "           'https://www.boxofficemojo.com/chart/top_lifetime_gross/?offset=400', \n",
    "           'https://www.boxofficemojo.com/chart/top_lifetime_gross/?offset=600', \n",
    "           'https://www.boxofficemojo.com/chart/top_lifetime_gross/?offset=800']\n",
    "\n",
    "#url = 'https://www.boxofficemojo.com/chart/top_lifetime_gross/?offset=i'\n",
    "rows = []\n",
    "\n",
    "for url in url_list:\n",
    "    response = requests.get(url)\n",
    "    page = response.text\n",
    "    soup = BeautifulSoup(page,\"lxml\")\n",
    "    table = soup.find('table')\n",
    "    rows.extend(table.find_all('tr')[1:]) "
   ]
  },
  {
   "cell_type": "code",
   "execution_count": 29,
   "id": "stone-listing",
   "metadata": {},
   "outputs": [
    {
     "name": "stdout",
     "output_type": "stream",
     "text": [
      "1000\n"
     ]
    }
   ],
   "source": [
    "print(len(rows))"
   ]
  },
  {
   "cell_type": "code",
   "execution_count": 30,
   "id": "neither-investigation",
   "metadata": {},
   "outputs": [
    {
     "name": "stdout",
     "output_type": "stream",
     "text": [
      "988\n"
     ]
    }
   ],
   "source": [
    "movies = {}\n",
    "\n",
    "for row in rows[:1001]:\n",
    "    items = row.find_all('td')\n",
    "    link = items[1].find('a')\n",
    "    title, url = link.text, link['href']\n",
    "    movies[title] = [url] + [i.text for i in items]\n",
    "    \n",
    "print(len(movies))"
   ]
  },
  {
   "cell_type": "code",
   "execution_count": 31,
   "id": "stuffed-platinum",
   "metadata": {},
   "outputs": [],
   "source": [
    "#scrape multiple pages\n",
    "import pandas as pd"
   ]
  },
  {
   "cell_type": "code",
   "execution_count": 32,
   "id": "molecular-omaha",
   "metadata": {},
   "outputs": [
    {
     "name": "stdout",
     "output_type": "stream",
     "text": [
      "988\n"
     ]
    }
   ],
   "source": [
    "top_movies = pd.DataFrame(movies).T  #transpose\n",
    "top_movies.columns = ['link_stub', 'rank', 'title', \n",
    "                    'lifetime_gross', 'year']\n",
    "\n",
    "print(len(top_movies))"
   ]
  },
  {
   "cell_type": "code",
   "execution_count": 33,
   "id": "charming-meaning",
   "metadata": {},
   "outputs": [],
   "source": [
    "def get_movie_dict(link):\n",
    "    \n",
    "    base_url = 'https://www.boxofficemojo.com'\n",
    "    \n",
    "    #Create full url to scrape\n",
    "    url = base_url + link\n",
    "    \n",
    "    #Request HTML and parse\n",
    "    response = requests.get(url)\n",
    "    page = response.text\n",
    "    soup = BeautifulSoup(page,\"lxml\")\n",
    "    \n",
    "    headers = ['movie title', 'worldwide gross','runtime (mins)',\n",
    "               'release date', 'budget', 'genre', 'distributor']\n",
    "\n",
    "    #title\n",
    "    title_string = soup.find('title').text\n",
    "    title = title_string.split(' - Box')[0].strip()\n",
    "\n",
    "    #world gross\n",
    "    world_gross_str = soup.find(class_ = 'a-section a-spacing-none mojo-performance-summary-table').find_all(class_ = 'money')\n",
    "    worldwide_gross = world_gross_str[-1].text\n",
    "\n",
    "    #runtime\n",
    "    raw_runtime = movie_value(soup,'Running')\n",
    "    runtime = runtime_to_minutes(raw_runtime)\n",
    "    \n",
    "    #rating\n",
    "    '''rating = soup.find(class_ = 'a-section a-spacing-none mojo-summary-values mojo-hidden-from-mobile').find_all('span')[11].text'''\n",
    "\n",
    "    #release date\n",
    "    release_date_str = soup.find(text = re.compile('Release Date'))\n",
    "    release_date = release_date_str.findNext().text.split('\\n')[0]\n",
    "    \n",
    "    # budget\n",
    "    budget = movie_value(soup,'Budget')\n",
    "\n",
    "    # genre\n",
    "    genre = movie_value(soup,'Genres').split()\n",
    "    \n",
    "    #distributor\n",
    "    distributor_str = soup.find(class_ = 'a-section a-spacing-none mojo-summary-values mojo-hidden-from-mobile').find_all('span')[1].text\n",
    "    distributor = distributor_str.split('See')[0]\n",
    "    \n",
    "    #create movie dict\n",
    "    movie_dict = dict(zip(headers, [title,\n",
    "                                    worldwide_gross,\n",
    "                                    runtime,\n",
    "                                    release_date,\n",
    "                                    budget,\n",
    "                                    genre, \n",
    "                                    distributor]))\n",
    "\n",
    "    return movie_dict"
   ]
  },
  {
   "cell_type": "code",
   "execution_count": 34,
   "id": "broken-cliff",
   "metadata": {},
   "outputs": [],
   "source": [
    "top_movies_list = []\n",
    "\n",
    "for link in top_movies.link_stub:\n",
    "    top_movies_list.append(get_movie_dict(link))"
   ]
  },
  {
   "cell_type": "code",
   "execution_count": 35,
   "id": "minus-latvia",
   "metadata": {},
   "outputs": [
    {
     "name": "stdout",
     "output_type": "stream",
     "text": [
      "988\n"
     ]
    }
   ],
   "source": [
    "print(len(top_movies_list))"
   ]
  },
  {
   "cell_type": "code",
   "execution_count": 36,
   "id": "wound-singer",
   "metadata": {},
   "outputs": [
    {
     "data": {
      "text/plain": [
       "(988, 6)"
      ]
     },
     "execution_count": 36,
     "metadata": {},
     "output_type": "execute_result"
    }
   ],
   "source": [
    "#convert list to df\n",
    "top_movies_df = pd.DataFrame(top_movies_list)  \n",
    "top_movies_df.set_index('movie title', inplace=True)\n",
    "\n",
    "top_movies_df.shape"
   ]
  },
  {
   "cell_type": "code",
   "execution_count": 37,
   "id": "applicable-lucas",
   "metadata": {},
   "outputs": [
    {
     "data": {
      "text/plain": [
       "(988, 5)"
      ]
     },
     "execution_count": 37,
     "metadata": {},
     "output_type": "execute_result"
    }
   ],
   "source": [
    "top_movies.shape"
   ]
  },
  {
   "cell_type": "code",
   "execution_count": 38,
   "id": "national-heath",
   "metadata": {},
   "outputs": [
    {
     "data": {
      "text/html": [
       "<div>\n",
       "<style scoped>\n",
       "    .dataframe tbody tr th:only-of-type {\n",
       "        vertical-align: middle;\n",
       "    }\n",
       "\n",
       "    .dataframe tbody tr th {\n",
       "        vertical-align: top;\n",
       "    }\n",
       "\n",
       "    .dataframe thead th {\n",
       "        text-align: right;\n",
       "    }\n",
       "</style>\n",
       "<table border=\"1\" class=\"dataframe\">\n",
       "  <thead>\n",
       "    <tr style=\"text-align: right;\">\n",
       "      <th></th>\n",
       "      <th>link_stub</th>\n",
       "      <th>rank</th>\n",
       "      <th>title</th>\n",
       "      <th>lifetime_gross</th>\n",
       "      <th>year</th>\n",
       "      <th>worldwide gross</th>\n",
       "      <th>runtime (mins)</th>\n",
       "      <th>release date</th>\n",
       "      <th>budget</th>\n",
       "      <th>genre</th>\n",
       "      <th>distributor</th>\n",
       "    </tr>\n",
       "  </thead>\n",
       "  <tbody>\n",
       "    <tr>\n",
       "      <th>Star Wars: Episode VII - The Force Awakens</th>\n",
       "      <td>/title/tt2488496/?ref_=bo_cso_table_1</td>\n",
       "      <td>1</td>\n",
       "      <td>Star Wars: Episode VII - The Force Awakens</td>\n",
       "      <td>$936,662,225</td>\n",
       "      <td>2015</td>\n",
       "      <td>$2,068,455,661</td>\n",
       "      <td>138.0</td>\n",
       "      <td>December 16, 2015</td>\n",
       "      <td>$245,000,000</td>\n",
       "      <td>[Action, Adventure, Sci-Fi]</td>\n",
       "      <td>Walt Disney Studios Motion Pictures</td>\n",
       "    </tr>\n",
       "    <tr>\n",
       "      <th>Avengers: Endgame</th>\n",
       "      <td>/title/tt4154796/?ref_=bo_cso_table_2</td>\n",
       "      <td>2</td>\n",
       "      <td>Avengers: Endgame</td>\n",
       "      <td>$858,373,000</td>\n",
       "      <td>2019</td>\n",
       "      <td>$2,797,501,328</td>\n",
       "      <td>181.0</td>\n",
       "      <td>April 24, 2019</td>\n",
       "      <td>$356,000,000</td>\n",
       "      <td>[Action, Adventure, Drama, Sci-Fi]</td>\n",
       "      <td>Walt Disney Studios Motion Pictures</td>\n",
       "    </tr>\n",
       "    <tr>\n",
       "      <th>Avatar</th>\n",
       "      <td>/title/tt0499549/?ref_=bo_cso_table_3</td>\n",
       "      <td>3</td>\n",
       "      <td>Avatar</td>\n",
       "      <td>$760,507,625</td>\n",
       "      <td>2009</td>\n",
       "      <td>$2,846,089,541</td>\n",
       "      <td>162.0</td>\n",
       "      <td>December 16, 2009</td>\n",
       "      <td>$237,000,000</td>\n",
       "      <td>[Action, Adventure, Fantasy, Sci-Fi]</td>\n",
       "      <td>Twentieth Century Fox</td>\n",
       "    </tr>\n",
       "    <tr>\n",
       "      <th>Black Panther</th>\n",
       "      <td>/title/tt1825683/?ref_=bo_cso_table_4</td>\n",
       "      <td>4</td>\n",
       "      <td>Black Panther</td>\n",
       "      <td>$700,426,566</td>\n",
       "      <td>2018</td>\n",
       "      <td>$1,347,597,973</td>\n",
       "      <td>134.0</td>\n",
       "      <td>February 13, 2018</td>\n",
       "      <td>None</td>\n",
       "      <td>[Action, Adventure, Sci-Fi]</td>\n",
       "      <td>Walt Disney Studios Motion Pictures</td>\n",
       "    </tr>\n",
       "    <tr>\n",
       "      <th>Avengers: Infinity War</th>\n",
       "      <td>/title/tt4154756/?ref_=bo_cso_table_5</td>\n",
       "      <td>5</td>\n",
       "      <td>Avengers: Infinity War</td>\n",
       "      <td>$678,815,482</td>\n",
       "      <td>2018</td>\n",
       "      <td>$2,048,359,754</td>\n",
       "      <td>149.0</td>\n",
       "      <td>April 25, 2018</td>\n",
       "      <td>None</td>\n",
       "      <td>[Action, Adventure, Sci-Fi]</td>\n",
       "      <td>Walt Disney Studios Motion Pictures</td>\n",
       "    </tr>\n",
       "  </tbody>\n",
       "</table>\n",
       "</div>"
      ],
      "text/plain": [
       "                                                                        link_stub  \\\n",
       "Star Wars: Episode VII - The Force Awakens  /title/tt2488496/?ref_=bo_cso_table_1   \n",
       "Avengers: Endgame                           /title/tt4154796/?ref_=bo_cso_table_2   \n",
       "Avatar                                      /title/tt0499549/?ref_=bo_cso_table_3   \n",
       "Black Panther                               /title/tt1825683/?ref_=bo_cso_table_4   \n",
       "Avengers: Infinity War                      /title/tt4154756/?ref_=bo_cso_table_5   \n",
       "\n",
       "                                           rank  \\\n",
       "Star Wars: Episode VII - The Force Awakens    1   \n",
       "Avengers: Endgame                             2   \n",
       "Avatar                                        3   \n",
       "Black Panther                                 4   \n",
       "Avengers: Infinity War                        5   \n",
       "\n",
       "                                                                                 title  \\\n",
       "Star Wars: Episode VII - The Force Awakens  Star Wars: Episode VII - The Force Awakens   \n",
       "Avengers: Endgame                                                    Avengers: Endgame   \n",
       "Avatar                                                                          Avatar   \n",
       "Black Panther                                                            Black Panther   \n",
       "Avengers: Infinity War                                          Avengers: Infinity War   \n",
       "\n",
       "                                           lifetime_gross  year  \\\n",
       "Star Wars: Episode VII - The Force Awakens   $936,662,225  2015   \n",
       "Avengers: Endgame                            $858,373,000  2019   \n",
       "Avatar                                       $760,507,625  2009   \n",
       "Black Panther                                $700,426,566  2018   \n",
       "Avengers: Infinity War                       $678,815,482  2018   \n",
       "\n",
       "                                           worldwide gross  runtime (mins)  \\\n",
       "Star Wars: Episode VII - The Force Awakens  $2,068,455,661           138.0   \n",
       "Avengers: Endgame                           $2,797,501,328           181.0   \n",
       "Avatar                                      $2,846,089,541           162.0   \n",
       "Black Panther                               $1,347,597,973           134.0   \n",
       "Avengers: Infinity War                      $2,048,359,754           149.0   \n",
       "\n",
       "                                                 release date        budget  \\\n",
       "Star Wars: Episode VII - The Force Awakens  December 16, 2015  $245,000,000   \n",
       "Avengers: Endgame                              April 24, 2019  $356,000,000   \n",
       "Avatar                                      December 16, 2009  $237,000,000   \n",
       "Black Panther                               February 13, 2018          None   \n",
       "Avengers: Infinity War                         April 25, 2018          None   \n",
       "\n",
       "                                                                           genre  \\\n",
       "Star Wars: Episode VII - The Force Awakens           [Action, Adventure, Sci-Fi]   \n",
       "Avengers: Endgame                             [Action, Adventure, Drama, Sci-Fi]   \n",
       "Avatar                                      [Action, Adventure, Fantasy, Sci-Fi]   \n",
       "Black Panther                                        [Action, Adventure, Sci-Fi]   \n",
       "Avengers: Infinity War                               [Action, Adventure, Sci-Fi]   \n",
       "\n",
       "                                                                    distributor  \n",
       "Star Wars: Episode VII - The Force Awakens  Walt Disney Studios Motion Pictures  \n",
       "Avengers: Endgame                           Walt Disney Studios Motion Pictures  \n",
       "Avatar                                                    Twentieth Century Fox  \n",
       "Black Panther                               Walt Disney Studios Motion Pictures  \n",
       "Avengers: Infinity War                      Walt Disney Studios Motion Pictures  "
      ]
     },
     "execution_count": 38,
     "metadata": {},
     "output_type": "execute_result"
    }
   ],
   "source": [
    "top_movies_merge = top_movies.merge(top_movies_df, left_index=True, right_index=True)\n",
    "\n",
    "top_movies_merge.shape\n",
    "top_movies_merge.head()"
   ]
  },
  {
   "cell_type": "code",
   "execution_count": 39,
   "id": "twelve-justice",
   "metadata": {},
   "outputs": [],
   "source": [
    "#set(top_movies.index) - set(top_movies_df.index)"
   ]
  },
  {
   "cell_type": "code",
   "execution_count": 40,
   "id": "perceived-davis",
   "metadata": {},
   "outputs": [],
   "source": [
    "#set(top_movies_df.index)-set(top_movies.index)"
   ]
  },
  {
   "cell_type": "code",
   "execution_count": 41,
   "id": "twenty-leone",
   "metadata": {},
   "outputs": [],
   "source": [
    "top_movies_merge['runtime (mins)'] = top_movies_merge['runtime (mins)'].fillna(113.0)"
   ]
  },
  {
   "cell_type": "code",
   "execution_count": 42,
   "id": "korean-prerequisite",
   "metadata": {},
   "outputs": [
    {
     "data": {
      "text/plain": [
       "Star Wars: Episode VII - The Force Awakens    138.0\n",
       "Avengers: Endgame                             181.0\n",
       "Avatar                                        162.0\n",
       "Black Panther                                 134.0\n",
       "Avengers: Infinity War                        149.0\n",
       "                                              ...  \n",
       "Cloverfield                                    85.0\n",
       "Footloose                                     107.0\n",
       "Dear John                                     108.0\n",
       "Men in Black: International                   114.0\n",
       "Knowing                                       121.0\n",
       "Name: runtime (mins), Length: 988, dtype: float64"
      ]
     },
     "execution_count": 42,
     "metadata": {},
     "output_type": "execute_result"
    }
   ],
   "source": [
    "top_movies_merge['runtime (mins)']"
   ]
  },
  {
   "cell_type": "code",
   "execution_count": 43,
   "id": "hollywood-islam",
   "metadata": {},
   "outputs": [
    {
     "name": "stdout",
     "output_type": "stream",
     "text": [
      "<class 'pandas.core.frame.DataFrame'>\n",
      "Index: 988 entries, Star Wars: Episode VII - The Force Awakens to Knowing\n",
      "Data columns (total 11 columns):\n",
      " #   Column           Non-Null Count  Dtype  \n",
      "---  ------           --------------  -----  \n",
      " 0   link_stub        988 non-null    object \n",
      " 1   rank             988 non-null    object \n",
      " 2   title            988 non-null    object \n",
      " 3   lifetime_gross   988 non-null    object \n",
      " 4   year             988 non-null    object \n",
      " 5   worldwide gross  988 non-null    object \n",
      " 6   runtime (mins)   988 non-null    float64\n",
      " 7   release date     988 non-null    object \n",
      " 8   budget           816 non-null    object \n",
      " 9   genre            988 non-null    object \n",
      " 10  distributor      988 non-null    object \n",
      "dtypes: float64(1), object(10)\n",
      "memory usage: 124.9+ KB\n"
     ]
    }
   ],
   "source": [
    "top_movies_merge.info()"
   ]
  },
  {
   "cell_type": "code",
   "execution_count": 44,
   "id": "tired-ceiling",
   "metadata": {},
   "outputs": [],
   "source": [
    "top_movies_merge.to_csv('copy_top_movies_merge_1.csv', index=False)"
   ]
  },
  {
   "cell_type": "code",
   "execution_count": 45,
   "id": "legitimate-wedding",
   "metadata": {},
   "outputs": [
    {
     "data": {
      "text/plain": [
       "link_stub           object\n",
       "rank                object\n",
       "title               object\n",
       "lifetime_gross      object\n",
       "year                object\n",
       "worldwide gross     object\n",
       "runtime (mins)     float64\n",
       "release date        object\n",
       "budget              object\n",
       "genre               object\n",
       "distributor         object\n",
       "dtype: object"
      ]
     },
     "execution_count": 45,
     "metadata": {},
     "output_type": "execute_result"
    }
   ],
   "source": [
    "top_movies_merge.dtypes"
   ]
  },
  {
   "cell_type": "code",
   "execution_count": 46,
   "id": "selective-revolution",
   "metadata": {},
   "outputs": [],
   "source": [
    "top_movies_merge['budget'] = top_movies_merge['budget'].astype(str)"
   ]
  },
  {
   "cell_type": "code",
   "execution_count": 47,
   "id": "accessory-norway",
   "metadata": {},
   "outputs": [],
   "source": [
    "top_movies_merge[\"budget\"] = top_movies_merge[\"budget\"].str.replace(\",\",\"\")"
   ]
  },
  {
   "cell_type": "code",
   "execution_count": 48,
   "id": "premium-partnership",
   "metadata": {},
   "outputs": [
    {
     "name": "stderr",
     "output_type": "stream",
     "text": [
      "<ipython-input-48-5159ae65845a>:1: FutureWarning: The default value of regex will change from True to False in a future version. In addition, single character regular expressions will*not* be treated as literal strings when regex=True.\n",
      "  top_movies_merge['budget'] = top_movies_merge['budget'].str.replace('$',\"\")\n"
     ]
    }
   ],
   "source": [
    "top_movies_merge['budget'] = top_movies_merge['budget'].str.replace('$',\"\")"
   ]
  },
  {
   "cell_type": "code",
   "execution_count": 49,
   "id": "printable-gauge",
   "metadata": {},
   "outputs": [],
   "source": [
    "top_movies_merge['budget'] = top_movies_merge.budget.replace('None', 60000000)"
   ]
  },
  {
   "cell_type": "code",
   "execution_count": 50,
   "id": "final-cleanup",
   "metadata": {},
   "outputs": [],
   "source": [
    "top_movies_merge['budget'] = top_movies_merge['budget'].astype(int)"
   ]
  },
  {
   "cell_type": "code",
   "execution_count": 51,
   "id": "prerequisite-desperate",
   "metadata": {},
   "outputs": [
    {
     "name": "stdout",
     "output_type": "stream",
     "text": [
      "<class 'pandas.core.frame.DataFrame'>\n",
      "Index: 988 entries, Star Wars: Episode VII - The Force Awakens to Knowing\n",
      "Data columns (total 11 columns):\n",
      " #   Column           Non-Null Count  Dtype  \n",
      "---  ------           --------------  -----  \n",
      " 0   link_stub        988 non-null    object \n",
      " 1   rank             988 non-null    object \n",
      " 2   title            988 non-null    object \n",
      " 3   lifetime_gross   988 non-null    object \n",
      " 4   year             988 non-null    object \n",
      " 5   worldwide gross  988 non-null    object \n",
      " 6   runtime (mins)   988 non-null    float64\n",
      " 7   release date     988 non-null    object \n",
      " 8   budget           988 non-null    int64  \n",
      " 9   genre            988 non-null    object \n",
      " 10  distributor      988 non-null    object \n",
      "dtypes: float64(1), int64(1), object(9)\n",
      "memory usage: 124.9+ KB\n"
     ]
    }
   ],
   "source": [
    "top_movies_merge.info()"
   ]
  },
  {
   "cell_type": "code",
   "execution_count": 52,
   "id": "hired-programming",
   "metadata": {},
   "outputs": [
    {
     "data": {
      "text/html": [
       "<div>\n",
       "<style scoped>\n",
       "    .dataframe tbody tr th:only-of-type {\n",
       "        vertical-align: middle;\n",
       "    }\n",
       "\n",
       "    .dataframe tbody tr th {\n",
       "        vertical-align: top;\n",
       "    }\n",
       "\n",
       "    .dataframe thead th {\n",
       "        text-align: right;\n",
       "    }\n",
       "</style>\n",
       "<table border=\"1\" class=\"dataframe\">\n",
       "  <thead>\n",
       "    <tr style=\"text-align: right;\">\n",
       "      <th></th>\n",
       "      <th>link_stub</th>\n",
       "      <th>rank</th>\n",
       "      <th>title</th>\n",
       "      <th>lifetime_gross</th>\n",
       "      <th>year</th>\n",
       "      <th>worldwide gross</th>\n",
       "      <th>runtime (mins)</th>\n",
       "      <th>release date</th>\n",
       "      <th>budget</th>\n",
       "      <th>genre</th>\n",
       "      <th>distributor</th>\n",
       "    </tr>\n",
       "  </thead>\n",
       "  <tbody>\n",
       "    <tr>\n",
       "      <th>Star Wars: Episode VII - The Force Awakens</th>\n",
       "      <td>/title/tt2488496/?ref_=bo_cso_table_1</td>\n",
       "      <td>1</td>\n",
       "      <td>Star Wars: Episode VII - The Force Awakens</td>\n",
       "      <td>$936,662,225</td>\n",
       "      <td>2015</td>\n",
       "      <td>$2,068,455,661</td>\n",
       "      <td>138.0</td>\n",
       "      <td>December 16, 2015</td>\n",
       "      <td>245000000</td>\n",
       "      <td>[Action, Adventure, Sci-Fi]</td>\n",
       "      <td>Walt Disney Studios Motion Pictures</td>\n",
       "    </tr>\n",
       "    <tr>\n",
       "      <th>Avengers: Endgame</th>\n",
       "      <td>/title/tt4154796/?ref_=bo_cso_table_2</td>\n",
       "      <td>2</td>\n",
       "      <td>Avengers: Endgame</td>\n",
       "      <td>$858,373,000</td>\n",
       "      <td>2019</td>\n",
       "      <td>$2,797,501,328</td>\n",
       "      <td>181.0</td>\n",
       "      <td>April 24, 2019</td>\n",
       "      <td>356000000</td>\n",
       "      <td>[Action, Adventure, Drama, Sci-Fi]</td>\n",
       "      <td>Walt Disney Studios Motion Pictures</td>\n",
       "    </tr>\n",
       "    <tr>\n",
       "      <th>Avatar</th>\n",
       "      <td>/title/tt0499549/?ref_=bo_cso_table_3</td>\n",
       "      <td>3</td>\n",
       "      <td>Avatar</td>\n",
       "      <td>$760,507,625</td>\n",
       "      <td>2009</td>\n",
       "      <td>$2,846,089,541</td>\n",
       "      <td>162.0</td>\n",
       "      <td>December 16, 2009</td>\n",
       "      <td>237000000</td>\n",
       "      <td>[Action, Adventure, Fantasy, Sci-Fi]</td>\n",
       "      <td>Twentieth Century Fox</td>\n",
       "    </tr>\n",
       "    <tr>\n",
       "      <th>Black Panther</th>\n",
       "      <td>/title/tt1825683/?ref_=bo_cso_table_4</td>\n",
       "      <td>4</td>\n",
       "      <td>Black Panther</td>\n",
       "      <td>$700,426,566</td>\n",
       "      <td>2018</td>\n",
       "      <td>$1,347,597,973</td>\n",
       "      <td>134.0</td>\n",
       "      <td>February 13, 2018</td>\n",
       "      <td>60000000</td>\n",
       "      <td>[Action, Adventure, Sci-Fi]</td>\n",
       "      <td>Walt Disney Studios Motion Pictures</td>\n",
       "    </tr>\n",
       "    <tr>\n",
       "      <th>Avengers: Infinity War</th>\n",
       "      <td>/title/tt4154756/?ref_=bo_cso_table_5</td>\n",
       "      <td>5</td>\n",
       "      <td>Avengers: Infinity War</td>\n",
       "      <td>$678,815,482</td>\n",
       "      <td>2018</td>\n",
       "      <td>$2,048,359,754</td>\n",
       "      <td>149.0</td>\n",
       "      <td>April 25, 2018</td>\n",
       "      <td>60000000</td>\n",
       "      <td>[Action, Adventure, Sci-Fi]</td>\n",
       "      <td>Walt Disney Studios Motion Pictures</td>\n",
       "    </tr>\n",
       "  </tbody>\n",
       "</table>\n",
       "</div>"
      ],
      "text/plain": [
       "                                                                        link_stub  \\\n",
       "Star Wars: Episode VII - The Force Awakens  /title/tt2488496/?ref_=bo_cso_table_1   \n",
       "Avengers: Endgame                           /title/tt4154796/?ref_=bo_cso_table_2   \n",
       "Avatar                                      /title/tt0499549/?ref_=bo_cso_table_3   \n",
       "Black Panther                               /title/tt1825683/?ref_=bo_cso_table_4   \n",
       "Avengers: Infinity War                      /title/tt4154756/?ref_=bo_cso_table_5   \n",
       "\n",
       "                                           rank  \\\n",
       "Star Wars: Episode VII - The Force Awakens    1   \n",
       "Avengers: Endgame                             2   \n",
       "Avatar                                        3   \n",
       "Black Panther                                 4   \n",
       "Avengers: Infinity War                        5   \n",
       "\n",
       "                                                                                 title  \\\n",
       "Star Wars: Episode VII - The Force Awakens  Star Wars: Episode VII - The Force Awakens   \n",
       "Avengers: Endgame                                                    Avengers: Endgame   \n",
       "Avatar                                                                          Avatar   \n",
       "Black Panther                                                            Black Panther   \n",
       "Avengers: Infinity War                                          Avengers: Infinity War   \n",
       "\n",
       "                                           lifetime_gross  year  \\\n",
       "Star Wars: Episode VII - The Force Awakens   $936,662,225  2015   \n",
       "Avengers: Endgame                            $858,373,000  2019   \n",
       "Avatar                                       $760,507,625  2009   \n",
       "Black Panther                                $700,426,566  2018   \n",
       "Avengers: Infinity War                       $678,815,482  2018   \n",
       "\n",
       "                                           worldwide gross  runtime (mins)  \\\n",
       "Star Wars: Episode VII - The Force Awakens  $2,068,455,661           138.0   \n",
       "Avengers: Endgame                           $2,797,501,328           181.0   \n",
       "Avatar                                      $2,846,089,541           162.0   \n",
       "Black Panther                               $1,347,597,973           134.0   \n",
       "Avengers: Infinity War                      $2,048,359,754           149.0   \n",
       "\n",
       "                                                 release date     budget  \\\n",
       "Star Wars: Episode VII - The Force Awakens  December 16, 2015  245000000   \n",
       "Avengers: Endgame                              April 24, 2019  356000000   \n",
       "Avatar                                      December 16, 2009  237000000   \n",
       "Black Panther                               February 13, 2018   60000000   \n",
       "Avengers: Infinity War                         April 25, 2018   60000000   \n",
       "\n",
       "                                                                           genre  \\\n",
       "Star Wars: Episode VII - The Force Awakens           [Action, Adventure, Sci-Fi]   \n",
       "Avengers: Endgame                             [Action, Adventure, Drama, Sci-Fi]   \n",
       "Avatar                                      [Action, Adventure, Fantasy, Sci-Fi]   \n",
       "Black Panther                                        [Action, Adventure, Sci-Fi]   \n",
       "Avengers: Infinity War                               [Action, Adventure, Sci-Fi]   \n",
       "\n",
       "                                                                    distributor  \n",
       "Star Wars: Episode VII - The Force Awakens  Walt Disney Studios Motion Pictures  \n",
       "Avengers: Endgame                           Walt Disney Studios Motion Pictures  \n",
       "Avatar                                                    Twentieth Century Fox  \n",
       "Black Panther                               Walt Disney Studios Motion Pictures  \n",
       "Avengers: Infinity War                      Walt Disney Studios Motion Pictures  "
      ]
     },
     "execution_count": 52,
     "metadata": {},
     "output_type": "execute_result"
    }
   ],
   "source": [
    "top_movies_merge.head()"
   ]
  },
  {
   "cell_type": "code",
   "execution_count": 53,
   "id": "bacterial-rover",
   "metadata": {},
   "outputs": [],
   "source": [
    "top_movies_merge['worldwide gross'] = top_movies_merge['worldwide gross'].astype(str)"
   ]
  },
  {
   "cell_type": "code",
   "execution_count": 54,
   "id": "secret-linux",
   "metadata": {},
   "outputs": [
    {
     "name": "stderr",
     "output_type": "stream",
     "text": [
      "<ipython-input-54-f24aa457490b>:1: FutureWarning: The default value of regex will change from True to False in a future version. In addition, single character regular expressions will*not* be treated as literal strings when regex=True.\n",
      "  top_movies_merge['worldwide gross'] = top_movies_merge['worldwide gross'].str.replace(\",\", \"\").str.replace(\"$\", \"\")\n"
     ]
    }
   ],
   "source": [
    "top_movies_merge['worldwide gross'] = top_movies_merge['worldwide gross'].str.replace(\",\", \"\").str.replace(\"$\", \"\")"
   ]
  },
  {
   "cell_type": "code",
   "execution_count": 55,
   "id": "official-shuttle",
   "metadata": {},
   "outputs": [
    {
     "data": {
      "text/plain": [
       "Star Wars: Episode VII - The Force Awakens    2068455661\n",
       "Avengers: Endgame                             2797501328\n",
       "Avatar                                        2846089541\n",
       "Black Panther                                 1347597973\n",
       "Avengers: Infinity War                        2048359754\n",
       "                                                 ...    \n",
       "Cloverfield                                    172394180\n",
       "Footloose                                       80039064\n",
       "Dear John                                      114984666\n",
       "Men in Black: International                    253890701\n",
       "Knowing                                        183658498\n",
       "Name: worldwide gross, Length: 988, dtype: int64"
      ]
     },
     "execution_count": 55,
     "metadata": {},
     "output_type": "execute_result"
    }
   ],
   "source": [
    "top_movies_merge['worldwide gross'] = top_movies_merge['worldwide gross'].astype(int)\n",
    "top_movies_merge['worldwide gross']"
   ]
  },
  {
   "cell_type": "code",
   "execution_count": 56,
   "id": "adequate-agreement",
   "metadata": {},
   "outputs": [],
   "source": [
    "top_movies_merge['lifetime_gross']= top_movies_merge['lifetime_gross'].astype(str)"
   ]
  },
  {
   "cell_type": "code",
   "execution_count": 57,
   "id": "wireless-mumbai",
   "metadata": {},
   "outputs": [
    {
     "name": "stderr",
     "output_type": "stream",
     "text": [
      "<ipython-input-57-0f6b1f6094a2>:1: FutureWarning: The default value of regex will change from True to False in a future version. In addition, single character regular expressions will*not* be treated as literal strings when regex=True.\n",
      "  top_movies_merge[\"lifetime_gross\"] = top_movies_merge[\"lifetime_gross\"].str.replace(\",\",\"\").str.replace('$','')\n"
     ]
    }
   ],
   "source": [
    "top_movies_merge[\"lifetime_gross\"] = top_movies_merge[\"lifetime_gross\"].str.replace(\",\",\"\").str.replace('$','')"
   ]
  },
  {
   "cell_type": "code",
   "execution_count": 58,
   "id": "therapeutic-panama",
   "metadata": {},
   "outputs": [],
   "source": [
    "top_movies_merge['lifetime_gross']= top_movies_merge['lifetime_gross'].astype(int)"
   ]
  },
  {
   "cell_type": "code",
   "execution_count": 59,
   "id": "european-entrepreneur",
   "metadata": {},
   "outputs": [
    {
     "data": {
      "text/plain": [
       "Star Wars: Episode VII - The Force Awakens    936662225\n",
       "Avengers: Endgame                             858373000\n",
       "Avatar                                        760507625\n",
       "Black Panther                                 700426566\n",
       "Avengers: Infinity War                        678815482\n",
       "                                                ...    \n",
       "Cloverfield                                    80048433\n",
       "Footloose                                      80035402\n",
       "Dear John                                      80014842\n",
       "Men in Black: International                    80001807\n",
       "Knowing                                        79957634\n",
       "Name: lifetime_gross, Length: 988, dtype: int64"
      ]
     },
     "execution_count": 59,
     "metadata": {},
     "output_type": "execute_result"
    }
   ],
   "source": [
    "top_movies_merge.lifetime_gross"
   ]
  },
  {
   "cell_type": "code",
   "execution_count": 60,
   "id": "useful-conflict",
   "metadata": {},
   "outputs": [
    {
     "name": "stdout",
     "output_type": "stream",
     "text": [
      "<class 'pandas.core.frame.DataFrame'>\n",
      "Index: 988 entries, Star Wars: Episode VII - The Force Awakens to Knowing\n",
      "Data columns (total 11 columns):\n",
      " #   Column           Non-Null Count  Dtype  \n",
      "---  ------           --------------  -----  \n",
      " 0   link_stub        988 non-null    object \n",
      " 1   rank             988 non-null    object \n",
      " 2   title            988 non-null    object \n",
      " 3   lifetime_gross   988 non-null    int64  \n",
      " 4   year             988 non-null    object \n",
      " 5   worldwide gross  988 non-null    int64  \n",
      " 6   runtime (mins)   988 non-null    float64\n",
      " 7   release date     988 non-null    object \n",
      " 8   budget           988 non-null    int64  \n",
      " 9   genre            988 non-null    object \n",
      " 10  distributor      988 non-null    object \n",
      "dtypes: float64(1), int64(3), object(7)\n",
      "memory usage: 124.9+ KB\n"
     ]
    }
   ],
   "source": [
    "top_movies_merge.info()"
   ]
  },
  {
   "cell_type": "code",
   "execution_count": 61,
   "id": "brief-niagara",
   "metadata": {},
   "outputs": [],
   "source": [
    "top_movies_merge.to_csv('copy_top_movies_merge_2.csv', index=False)"
   ]
  },
  {
   "cell_type": "code",
   "execution_count": 62,
   "id": "gross-colonial",
   "metadata": {},
   "outputs": [
    {
     "data": {
      "text/plain": [
       "Star Wars: Episode VII - The Force Awakens             [Action, Adventure, Sci-Fi]\n",
       "Avengers: Endgame                               [Action, Adventure, Drama, Sci-Fi]\n",
       "Avatar                                        [Action, Adventure, Fantasy, Sci-Fi]\n",
       "Black Panther                                          [Action, Adventure, Sci-Fi]\n",
       "Avengers: Infinity War                                 [Action, Adventure, Sci-Fi]\n",
       "                                                              ...                 \n",
       "Cloverfield                                     [Action, Horror, Sci-Fi, Thriller]\n",
       "Footloose                                                  [Drama, Music, Romance]\n",
       "Dear John                                                    [Drama, Romance, War]\n",
       "Men in Black: International                    [Action, Adventure, Comedy, Sci-Fi]\n",
       "Knowing                                          [Action, Drama, Sci-Fi, Thriller]\n",
       "Name: genre, Length: 988, dtype: object"
      ]
     },
     "execution_count": 62,
     "metadata": {},
     "output_type": "execute_result"
    }
   ],
   "source": [
    "top_movies_merge['genre']"
   ]
  },
  {
   "cell_type": "code",
   "execution_count": 63,
   "id": "necessary-seminar",
   "metadata": {},
   "outputs": [],
   "source": [
    "#dummies for categorical\n",
    "\n",
    "from sklearn.preprocessing import MultiLabelBinarizer\n",
    "\n",
    "# Binarise labels\n",
    "mlb = MultiLabelBinarizer()\n",
    "expandedLabelData = mlb.fit_transform(top_movies_merge['genre'])\n",
    "labelClasses = mlb.classes_\n",
    "\n",
    "\n",
    "# Create a pandas.DataFrame from output\n",
    "expandedLabels = pd.DataFrame(expandedLabelData, columns=labelClasses)\n",
    "\n",
    "#credit: https://www.generacodice.com/en/articolo/1117363/split-a-list-of-values-into-columns-of-a-dataframe&amp;quest;"
   ]
  },
  {
   "cell_type": "code",
   "execution_count": 64,
   "id": "exact-times",
   "metadata": {},
   "outputs": [
    {
     "name": "stdout",
     "output_type": "stream",
     "text": [
      "988\n"
     ]
    }
   ],
   "source": [
    "print(len(expandedLabels))"
   ]
  },
  {
   "cell_type": "code",
   "execution_count": 65,
   "id": "pleasant-municipality",
   "metadata": {},
   "outputs": [],
   "source": [
    "final_df = pd.merge(top_movies_merge, expandedLabels, on=top_movies_merge.index)"
   ]
  },
  {
   "cell_type": "code",
   "execution_count": 66,
   "id": "subject-burlington",
   "metadata": {},
   "outputs": [
    {
     "data": {
      "text/html": [
       "<div>\n",
       "<style scoped>\n",
       "    .dataframe tbody tr th:only-of-type {\n",
       "        vertical-align: middle;\n",
       "    }\n",
       "\n",
       "    .dataframe tbody tr th {\n",
       "        vertical-align: top;\n",
       "    }\n",
       "\n",
       "    .dataframe thead th {\n",
       "        text-align: right;\n",
       "    }\n",
       "</style>\n",
       "<table border=\"1\" class=\"dataframe\">\n",
       "  <thead>\n",
       "    <tr style=\"text-align: right;\">\n",
       "      <th></th>\n",
       "      <th>key_0</th>\n",
       "      <th>link_stub</th>\n",
       "      <th>rank</th>\n",
       "      <th>title</th>\n",
       "      <th>lifetime_gross</th>\n",
       "      <th>year</th>\n",
       "      <th>worldwide gross</th>\n",
       "      <th>runtime (mins)</th>\n",
       "      <th>release date</th>\n",
       "      <th>budget</th>\n",
       "      <th>...</th>\n",
       "      <th>Music</th>\n",
       "      <th>Musical</th>\n",
       "      <th>Mystery</th>\n",
       "      <th>Romance</th>\n",
       "      <th>Sci-Fi</th>\n",
       "      <th>Short</th>\n",
       "      <th>Sport</th>\n",
       "      <th>Thriller</th>\n",
       "      <th>War</th>\n",
       "      <th>Western</th>\n",
       "    </tr>\n",
       "  </thead>\n",
       "  <tbody>\n",
       "    <tr>\n",
       "      <th>0</th>\n",
       "      <td>Star Wars: Episode VII - The Force Awakens</td>\n",
       "      <td>/title/tt2488496/?ref_=bo_cso_table_1</td>\n",
       "      <td>1</td>\n",
       "      <td>Star Wars: Episode VII - The Force Awakens</td>\n",
       "      <td>936662225</td>\n",
       "      <td>2015</td>\n",
       "      <td>2068455661</td>\n",
       "      <td>138.0</td>\n",
       "      <td>December 16, 2015</td>\n",
       "      <td>245000000</td>\n",
       "      <td>...</td>\n",
       "      <td>0</td>\n",
       "      <td>0</td>\n",
       "      <td>0</td>\n",
       "      <td>0</td>\n",
       "      <td>1</td>\n",
       "      <td>0</td>\n",
       "      <td>0</td>\n",
       "      <td>0</td>\n",
       "      <td>0</td>\n",
       "      <td>0</td>\n",
       "    </tr>\n",
       "    <tr>\n",
       "      <th>1</th>\n",
       "      <td>Avengers: Endgame</td>\n",
       "      <td>/title/tt4154796/?ref_=bo_cso_table_2</td>\n",
       "      <td>2</td>\n",
       "      <td>Avengers: Endgame</td>\n",
       "      <td>858373000</td>\n",
       "      <td>2019</td>\n",
       "      <td>2797501328</td>\n",
       "      <td>181.0</td>\n",
       "      <td>April 24, 2019</td>\n",
       "      <td>356000000</td>\n",
       "      <td>...</td>\n",
       "      <td>0</td>\n",
       "      <td>0</td>\n",
       "      <td>0</td>\n",
       "      <td>0</td>\n",
       "      <td>1</td>\n",
       "      <td>0</td>\n",
       "      <td>0</td>\n",
       "      <td>0</td>\n",
       "      <td>0</td>\n",
       "      <td>0</td>\n",
       "    </tr>\n",
       "    <tr>\n",
       "      <th>2</th>\n",
       "      <td>Avatar</td>\n",
       "      <td>/title/tt0499549/?ref_=bo_cso_table_3</td>\n",
       "      <td>3</td>\n",
       "      <td>Avatar</td>\n",
       "      <td>760507625</td>\n",
       "      <td>2009</td>\n",
       "      <td>2846089541</td>\n",
       "      <td>162.0</td>\n",
       "      <td>December 16, 2009</td>\n",
       "      <td>237000000</td>\n",
       "      <td>...</td>\n",
       "      <td>0</td>\n",
       "      <td>0</td>\n",
       "      <td>0</td>\n",
       "      <td>0</td>\n",
       "      <td>1</td>\n",
       "      <td>0</td>\n",
       "      <td>0</td>\n",
       "      <td>0</td>\n",
       "      <td>0</td>\n",
       "      <td>0</td>\n",
       "    </tr>\n",
       "    <tr>\n",
       "      <th>3</th>\n",
       "      <td>Black Panther</td>\n",
       "      <td>/title/tt1825683/?ref_=bo_cso_table_4</td>\n",
       "      <td>4</td>\n",
       "      <td>Black Panther</td>\n",
       "      <td>700426566</td>\n",
       "      <td>2018</td>\n",
       "      <td>1347597973</td>\n",
       "      <td>134.0</td>\n",
       "      <td>February 13, 2018</td>\n",
       "      <td>60000000</td>\n",
       "      <td>...</td>\n",
       "      <td>0</td>\n",
       "      <td>0</td>\n",
       "      <td>0</td>\n",
       "      <td>0</td>\n",
       "      <td>1</td>\n",
       "      <td>0</td>\n",
       "      <td>0</td>\n",
       "      <td>0</td>\n",
       "      <td>0</td>\n",
       "      <td>0</td>\n",
       "    </tr>\n",
       "    <tr>\n",
       "      <th>4</th>\n",
       "      <td>Avengers: Infinity War</td>\n",
       "      <td>/title/tt4154756/?ref_=bo_cso_table_5</td>\n",
       "      <td>5</td>\n",
       "      <td>Avengers: Infinity War</td>\n",
       "      <td>678815482</td>\n",
       "      <td>2018</td>\n",
       "      <td>2048359754</td>\n",
       "      <td>149.0</td>\n",
       "      <td>April 25, 2018</td>\n",
       "      <td>60000000</td>\n",
       "      <td>...</td>\n",
       "      <td>0</td>\n",
       "      <td>0</td>\n",
       "      <td>0</td>\n",
       "      <td>0</td>\n",
       "      <td>1</td>\n",
       "      <td>0</td>\n",
       "      <td>0</td>\n",
       "      <td>0</td>\n",
       "      <td>0</td>\n",
       "      <td>0</td>\n",
       "    </tr>\n",
       "  </tbody>\n",
       "</table>\n",
       "<p>5 rows × 34 columns</p>\n",
       "</div>"
      ],
      "text/plain": [
       "                                        key_0  \\\n",
       "0  Star Wars: Episode VII - The Force Awakens   \n",
       "1                           Avengers: Endgame   \n",
       "2                                      Avatar   \n",
       "3                               Black Panther   \n",
       "4                      Avengers: Infinity War   \n",
       "\n",
       "                               link_stub rank  \\\n",
       "0  /title/tt2488496/?ref_=bo_cso_table_1    1   \n",
       "1  /title/tt4154796/?ref_=bo_cso_table_2    2   \n",
       "2  /title/tt0499549/?ref_=bo_cso_table_3    3   \n",
       "3  /title/tt1825683/?ref_=bo_cso_table_4    4   \n",
       "4  /title/tt4154756/?ref_=bo_cso_table_5    5   \n",
       "\n",
       "                                        title  lifetime_gross  year  \\\n",
       "0  Star Wars: Episode VII - The Force Awakens       936662225  2015   \n",
       "1                           Avengers: Endgame       858373000  2019   \n",
       "2                                      Avatar       760507625  2009   \n",
       "3                               Black Panther       700426566  2018   \n",
       "4                      Avengers: Infinity War       678815482  2018   \n",
       "\n",
       "   worldwide gross  runtime (mins)       release date     budget  ... Music  \\\n",
       "0       2068455661           138.0  December 16, 2015  245000000  ...     0   \n",
       "1       2797501328           181.0     April 24, 2019  356000000  ...     0   \n",
       "2       2846089541           162.0  December 16, 2009  237000000  ...     0   \n",
       "3       1347597973           134.0  February 13, 2018   60000000  ...     0   \n",
       "4       2048359754           149.0     April 25, 2018   60000000  ...     0   \n",
       "\n",
       "  Musical  Mystery  Romance  Sci-Fi  Short  Sport  Thriller  War  Western  \n",
       "0       0        0        0       1      0      0         0    0        0  \n",
       "1       0        0        0       1      0      0         0    0        0  \n",
       "2       0        0        0       1      0      0         0    0        0  \n",
       "3       0        0        0       1      0      0         0    0        0  \n",
       "4       0        0        0       1      0      0         0    0        0  \n",
       "\n",
       "[5 rows x 34 columns]"
      ]
     },
     "execution_count": 66,
     "metadata": {},
     "output_type": "execute_result"
    }
   ],
   "source": [
    "final_df.head()"
   ]
  },
  {
   "cell_type": "code",
   "execution_count": 67,
   "id": "related-indonesian",
   "metadata": {},
   "outputs": [
    {
     "data": {
      "text/html": [
       "<div>\n",
       "<style scoped>\n",
       "    .dataframe tbody tr th:only-of-type {\n",
       "        vertical-align: middle;\n",
       "    }\n",
       "\n",
       "    .dataframe tbody tr th {\n",
       "        vertical-align: top;\n",
       "    }\n",
       "\n",
       "    .dataframe thead th {\n",
       "        text-align: right;\n",
       "    }\n",
       "</style>\n",
       "<table border=\"1\" class=\"dataframe\">\n",
       "  <thead>\n",
       "    <tr style=\"text-align: right;\">\n",
       "      <th></th>\n",
       "      <th>key_0</th>\n",
       "      <th>link_stub</th>\n",
       "      <th>rank</th>\n",
       "      <th>title</th>\n",
       "      <th>lifetime_gross</th>\n",
       "      <th>year</th>\n",
       "      <th>worldwide gross</th>\n",
       "      <th>runtime (mins)</th>\n",
       "      <th>release date</th>\n",
       "      <th>budget</th>\n",
       "      <th>...</th>\n",
       "      <th>distributor_Summit Entertainment</th>\n",
       "      <th>distributor_The Weinstein Company</th>\n",
       "      <th>distributor_TriStar Pictures</th>\n",
       "      <th>distributor_Twentieth Century Fox</th>\n",
       "      <th>distributor_USA Films</th>\n",
       "      <th>distributor_United Artists</th>\n",
       "      <th>distributor_United Artists Releasing</th>\n",
       "      <th>distributor_Universal Pictures</th>\n",
       "      <th>distributor_Walt Disney Studios Motion Pictures</th>\n",
       "      <th>distributor_Warner Bros.</th>\n",
       "    </tr>\n",
       "  </thead>\n",
       "  <tbody>\n",
       "    <tr>\n",
       "      <th>0</th>\n",
       "      <td>Star Wars: Episode VII - The Force Awakens</td>\n",
       "      <td>/title/tt2488496/?ref_=bo_cso_table_1</td>\n",
       "      <td>1</td>\n",
       "      <td>Star Wars: Episode VII - The Force Awakens</td>\n",
       "      <td>936662225</td>\n",
       "      <td>2015</td>\n",
       "      <td>2068455661</td>\n",
       "      <td>138.0</td>\n",
       "      <td>December 16, 2015</td>\n",
       "      <td>245000000</td>\n",
       "      <td>...</td>\n",
       "      <td>0</td>\n",
       "      <td>0</td>\n",
       "      <td>0</td>\n",
       "      <td>0</td>\n",
       "      <td>0</td>\n",
       "      <td>0</td>\n",
       "      <td>0</td>\n",
       "      <td>0</td>\n",
       "      <td>1</td>\n",
       "      <td>0</td>\n",
       "    </tr>\n",
       "    <tr>\n",
       "      <th>1</th>\n",
       "      <td>Avengers: Endgame</td>\n",
       "      <td>/title/tt4154796/?ref_=bo_cso_table_2</td>\n",
       "      <td>2</td>\n",
       "      <td>Avengers: Endgame</td>\n",
       "      <td>858373000</td>\n",
       "      <td>2019</td>\n",
       "      <td>2797501328</td>\n",
       "      <td>181.0</td>\n",
       "      <td>April 24, 2019</td>\n",
       "      <td>356000000</td>\n",
       "      <td>...</td>\n",
       "      <td>0</td>\n",
       "      <td>0</td>\n",
       "      <td>0</td>\n",
       "      <td>0</td>\n",
       "      <td>0</td>\n",
       "      <td>0</td>\n",
       "      <td>0</td>\n",
       "      <td>0</td>\n",
       "      <td>1</td>\n",
       "      <td>0</td>\n",
       "    </tr>\n",
       "    <tr>\n",
       "      <th>2</th>\n",
       "      <td>Avatar</td>\n",
       "      <td>/title/tt0499549/?ref_=bo_cso_table_3</td>\n",
       "      <td>3</td>\n",
       "      <td>Avatar</td>\n",
       "      <td>760507625</td>\n",
       "      <td>2009</td>\n",
       "      <td>2846089541</td>\n",
       "      <td>162.0</td>\n",
       "      <td>December 16, 2009</td>\n",
       "      <td>237000000</td>\n",
       "      <td>...</td>\n",
       "      <td>0</td>\n",
       "      <td>0</td>\n",
       "      <td>0</td>\n",
       "      <td>1</td>\n",
       "      <td>0</td>\n",
       "      <td>0</td>\n",
       "      <td>0</td>\n",
       "      <td>0</td>\n",
       "      <td>0</td>\n",
       "      <td>0</td>\n",
       "    </tr>\n",
       "    <tr>\n",
       "      <th>3</th>\n",
       "      <td>Black Panther</td>\n",
       "      <td>/title/tt1825683/?ref_=bo_cso_table_4</td>\n",
       "      <td>4</td>\n",
       "      <td>Black Panther</td>\n",
       "      <td>700426566</td>\n",
       "      <td>2018</td>\n",
       "      <td>1347597973</td>\n",
       "      <td>134.0</td>\n",
       "      <td>February 13, 2018</td>\n",
       "      <td>60000000</td>\n",
       "      <td>...</td>\n",
       "      <td>0</td>\n",
       "      <td>0</td>\n",
       "      <td>0</td>\n",
       "      <td>0</td>\n",
       "      <td>0</td>\n",
       "      <td>0</td>\n",
       "      <td>0</td>\n",
       "      <td>0</td>\n",
       "      <td>1</td>\n",
       "      <td>0</td>\n",
       "    </tr>\n",
       "    <tr>\n",
       "      <th>4</th>\n",
       "      <td>Avengers: Infinity War</td>\n",
       "      <td>/title/tt4154756/?ref_=bo_cso_table_5</td>\n",
       "      <td>5</td>\n",
       "      <td>Avengers: Infinity War</td>\n",
       "      <td>678815482</td>\n",
       "      <td>2018</td>\n",
       "      <td>2048359754</td>\n",
       "      <td>149.0</td>\n",
       "      <td>April 25, 2018</td>\n",
       "      <td>60000000</td>\n",
       "      <td>...</td>\n",
       "      <td>0</td>\n",
       "      <td>0</td>\n",
       "      <td>0</td>\n",
       "      <td>0</td>\n",
       "      <td>0</td>\n",
       "      <td>0</td>\n",
       "      <td>0</td>\n",
       "      <td>0</td>\n",
       "      <td>1</td>\n",
       "      <td>0</td>\n",
       "    </tr>\n",
       "  </tbody>\n",
       "</table>\n",
       "<p>5 rows × 71 columns</p>\n",
       "</div>"
      ],
      "text/plain": [
       "                                        key_0  \\\n",
       "0  Star Wars: Episode VII - The Force Awakens   \n",
       "1                           Avengers: Endgame   \n",
       "2                                      Avatar   \n",
       "3                               Black Panther   \n",
       "4                      Avengers: Infinity War   \n",
       "\n",
       "                               link_stub rank  \\\n",
       "0  /title/tt2488496/?ref_=bo_cso_table_1    1   \n",
       "1  /title/tt4154796/?ref_=bo_cso_table_2    2   \n",
       "2  /title/tt0499549/?ref_=bo_cso_table_3    3   \n",
       "3  /title/tt1825683/?ref_=bo_cso_table_4    4   \n",
       "4  /title/tt4154756/?ref_=bo_cso_table_5    5   \n",
       "\n",
       "                                        title  lifetime_gross  year  \\\n",
       "0  Star Wars: Episode VII - The Force Awakens       936662225  2015   \n",
       "1                           Avengers: Endgame       858373000  2019   \n",
       "2                                      Avatar       760507625  2009   \n",
       "3                               Black Panther       700426566  2018   \n",
       "4                      Avengers: Infinity War       678815482  2018   \n",
       "\n",
       "   worldwide gross  runtime (mins)       release date     budget  ...  \\\n",
       "0       2068455661           138.0  December 16, 2015  245000000  ...   \n",
       "1       2797501328           181.0     April 24, 2019  356000000  ...   \n",
       "2       2846089541           162.0  December 16, 2009  237000000  ...   \n",
       "3       1347597973           134.0  February 13, 2018   60000000  ...   \n",
       "4       2048359754           149.0     April 25, 2018   60000000  ...   \n",
       "\n",
       "  distributor_Summit Entertainment  distributor_The Weinstein Company  \\\n",
       "0                                0                                  0   \n",
       "1                                0                                  0   \n",
       "2                                0                                  0   \n",
       "3                                0                                  0   \n",
       "4                                0                                  0   \n",
       "\n",
       "   distributor_TriStar Pictures  distributor_Twentieth Century Fox  \\\n",
       "0                             0                                  0   \n",
       "1                             0                                  0   \n",
       "2                             0                                  1   \n",
       "3                             0                                  0   \n",
       "4                             0                                  0   \n",
       "\n",
       "   distributor_USA Films  distributor_United Artists  \\\n",
       "0                      0                           0   \n",
       "1                      0                           0   \n",
       "2                      0                           0   \n",
       "3                      0                           0   \n",
       "4                      0                           0   \n",
       "\n",
       "   distributor_United Artists Releasing  distributor_Universal Pictures  \\\n",
       "0                                     0                               0   \n",
       "1                                     0                               0   \n",
       "2                                     0                               0   \n",
       "3                                     0                               0   \n",
       "4                                     0                               0   \n",
       "\n",
       "   distributor_Walt Disney Studios Motion Pictures  distributor_Warner Bros.  \n",
       "0                                                1                         0  \n",
       "1                                                1                         0  \n",
       "2                                                0                         0  \n",
       "3                                                1                         0  \n",
       "4                                                1                         0  \n",
       "\n",
       "[5 rows x 71 columns]"
      ]
     },
     "execution_count": 67,
     "metadata": {},
     "output_type": "execute_result"
    }
   ],
   "source": [
    "final_df = pd.get_dummies(final_df, columns = ['distributor'], drop_first = True)\n",
    "final_df.head()"
   ]
  },
  {
   "cell_type": "code",
   "execution_count": 68,
   "id": "closed-jackson",
   "metadata": {},
   "outputs": [
    {
     "data": {
      "text/plain": [
       "0         1\n",
       "1         2\n",
       "2         3\n",
       "3         4\n",
       "4         5\n",
       "       ... \n",
       "983     995\n",
       "984     996\n",
       "985     997\n",
       "986     998\n",
       "987    1000\n",
       "Name: rank, Length: 988, dtype: int64"
      ]
     },
     "execution_count": 68,
     "metadata": {},
     "output_type": "execute_result"
    }
   ],
   "source": [
    "final_df['rank'] = final_df['rank'].astype(str)\n",
    "final_df['rank'] = final_df['rank'].str.replace(',','').astype(int)\n",
    "final_df['rank']"
   ]
  },
  {
   "cell_type": "code",
   "execution_count": 69,
   "id": "educated-check",
   "metadata": {},
   "outputs": [],
   "source": [
    "for date_str in final_df['release date']:\n",
    "    final_df['release date'] = dateutil.parser.parse(date_str)"
   ]
  },
  {
   "cell_type": "code",
   "execution_count": 70,
   "id": "flush-thread",
   "metadata": {},
   "outputs": [],
   "source": [
    "final_df['release date'] = final_df['release date'].astype(str)"
   ]
  },
  {
   "cell_type": "code",
   "execution_count": 71,
   "id": "running-bruce",
   "metadata": {},
   "outputs": [],
   "source": [
    "final_df[\"release date\"] = final_df[\"release date\"].str.replace(\"-\",\"\").astype(float)"
   ]
  },
  {
   "cell_type": "code",
   "execution_count": 72,
   "id": "freelance-lightning",
   "metadata": {},
   "outputs": [
    {
     "data": {
      "text/plain": [
       "0      20070516.0\n",
       "1      20070516.0\n",
       "2      20070516.0\n",
       "3      20070516.0\n",
       "4      20070516.0\n",
       "          ...    \n",
       "983    20070516.0\n",
       "984    20070516.0\n",
       "985    20070516.0\n",
       "986    20070516.0\n",
       "987    20070516.0\n",
       "Name: release date, Length: 988, dtype: float64"
      ]
     },
     "execution_count": 72,
     "metadata": {},
     "output_type": "execute_result"
    }
   ],
   "source": [
    "final_df['release date']"
   ]
  },
  {
   "cell_type": "code",
   "execution_count": 73,
   "id": "textile-sweet",
   "metadata": {},
   "outputs": [],
   "source": [
    "final_df['year'] = final_df['year'].astype(int)"
   ]
  },
  {
   "cell_type": "code",
   "execution_count": 74,
   "id": "funny-championship",
   "metadata": {},
   "outputs": [],
   "source": [
    "#dummy = pd.get_dummies(final_df['rating'])"
   ]
  },
  {
   "cell_type": "code",
   "execution_count": 75,
   "id": "promising-struggle",
   "metadata": {},
   "outputs": [],
   "source": [
    "#print(dummy)\n",
    "#merge dummy to final_df"
   ]
  },
  {
   "cell_type": "code",
   "execution_count": 76,
   "id": "multiple-touch",
   "metadata": {},
   "outputs": [
    {
     "name": "stdout",
     "output_type": "stream",
     "text": [
      "<class 'pandas.core.frame.DataFrame'>\n",
      "Int64Index: 988 entries, 0 to 987\n",
      "Data columns (total 71 columns):\n",
      " #   Column                                             Non-Null Count  Dtype  \n",
      "---  ------                                             --------------  -----  \n",
      " 0   key_0                                              988 non-null    object \n",
      " 1   link_stub                                          988 non-null    object \n",
      " 2   rank                                               988 non-null    int64  \n",
      " 3   title                                              988 non-null    object \n",
      " 4   lifetime_gross                                     988 non-null    int64  \n",
      " 5   year                                               988 non-null    int64  \n",
      " 6   worldwide gross                                    988 non-null    int64  \n",
      " 7   runtime (mins)                                     988 non-null    float64\n",
      " 8   release date                                       988 non-null    float64\n",
      " 9   budget                                             988 non-null    int64  \n",
      " 10  genre                                              988 non-null    object \n",
      " 11  Action                                             988 non-null    int64  \n",
      " 12  Adventure                                          988 non-null    int64  \n",
      " 13  Animation                                          988 non-null    int64  \n",
      " 14  Biography                                          988 non-null    int64  \n",
      " 15  Comedy                                             988 non-null    int64  \n",
      " 16  Crime                                              988 non-null    int64  \n",
      " 17  Documentary                                        988 non-null    int64  \n",
      " 18  Drama                                              988 non-null    int64  \n",
      " 19  Family                                             988 non-null    int64  \n",
      " 20  Fantasy                                            988 non-null    int64  \n",
      " 21  History                                            988 non-null    int64  \n",
      " 22  Horror                                             988 non-null    int64  \n",
      " 23  Music                                              988 non-null    int64  \n",
      " 24  Musical                                            988 non-null    int64  \n",
      " 25  Mystery                                            988 non-null    int64  \n",
      " 26  Romance                                            988 non-null    int64  \n",
      " 27  Sci-Fi                                             988 non-null    int64  \n",
      " 28  Short                                              988 non-null    int64  \n",
      " 29  Sport                                              988 non-null    int64  \n",
      " 30  Thriller                                           988 non-null    int64  \n",
      " 31  War                                                988 non-null    int64  \n",
      " 32  Western                                            988 non-null    int64  \n",
      " 33  distributor_AVCO Embassy Pictures                  988 non-null    uint8  \n",
      " 34  distributor_American International Pictures (AIP)  988 non-null    uint8  \n",
      " 35  distributor_Artisan Entertainment                  988 non-null    uint8  \n",
      " 36  distributor_Columbia Pictures                      988 non-null    uint8  \n",
      " 37  distributor_Dimension Films                        988 non-null    uint8  \n",
      " 38  distributor_DreamWorks                             988 non-null    uint8  \n",
      " 39  distributor_DreamWorks Distribution                988 non-null    uint8  \n",
      " 40  distributor_FilmDistrict                           988 non-null    uint8  \n",
      " 41  distributor_Focus Features                         988 non-null    uint8  \n",
      " 42  distributor_Fox Searchlight Pictures               988 non-null    uint8  \n",
      " 43  distributor_IFC Films                              988 non-null    uint8  \n",
      " 44  distributor_IMAX                                   988 non-null    uint8  \n",
      " 45  distributor_Lionsgate                              988 non-null    uint8  \n",
      " 46  distributor_MacGillivray Freeman Films             988 non-null    uint8  \n",
      " 47  distributor_Metro-Goldwyn-Mayer (MGM)              988 non-null    uint8  \n",
      " 48  distributor_Miramax                                988 non-null    uint8  \n",
      " 49  distributor_New Line Cinema                        988 non-null    uint8  \n",
      " 50  distributor_Newmarket Films                        988 non-null    uint8  \n",
      " 51  distributor_Orion Pictures                         988 non-null    uint8  \n",
      " 52  distributor_Paramount Pictures                     988 non-null    uint8  \n",
      " 53  distributor_RKO Radio Pictures                     988 non-null    uint8  \n",
      " 54  distributor_Relativity Media                       988 non-null    uint8  \n",
      " 55  distributor_Revolution Studios                     988 non-null    uint8  \n",
      " 56  distributor_Roadside Attractions                   988 non-null    uint8  \n",
      " 57  distributor_STX Entertainment                      988 non-null    uint8  \n",
      " 58  distributor_Screen Gems                            988 non-null    uint8  \n",
      " 59  distributor_Sony Pictures Classics                 988 non-null    uint8  \n",
      " 60  distributor_Sony Pictures Entertainment (SPE)      988 non-null    uint8  \n",
      " 61  distributor_Summit Entertainment                   988 non-null    uint8  \n",
      " 62  distributor_The Weinstein Company                  988 non-null    uint8  \n",
      " 63  distributor_TriStar Pictures                       988 non-null    uint8  \n",
      " 64  distributor_Twentieth Century Fox                  988 non-null    uint8  \n",
      " 65  distributor_USA Films                              988 non-null    uint8  \n",
      " 66  distributor_United Artists                         988 non-null    uint8  \n",
      " 67  distributor_United Artists Releasing               988 non-null    uint8  \n",
      " 68  distributor_Universal Pictures                     988 non-null    uint8  \n",
      " 69  distributor_Walt Disney Studios Motion Pictures    988 non-null    uint8  \n",
      " 70  distributor_Warner Bros.                           988 non-null    uint8  \n",
      "dtypes: float64(2), int64(27), object(4), uint8(38)\n",
      "memory usage: 299.1+ KB\n"
     ]
    }
   ],
   "source": [
    "final_df.info()"
   ]
  },
  {
   "cell_type": "code",
   "execution_count": 77,
   "id": "varying-disability",
   "metadata": {},
   "outputs": [
    {
     "data": {
      "text/html": [
       "<div>\n",
       "<style scoped>\n",
       "    .dataframe tbody tr th:only-of-type {\n",
       "        vertical-align: middle;\n",
       "    }\n",
       "\n",
       "    .dataframe tbody tr th {\n",
       "        vertical-align: top;\n",
       "    }\n",
       "\n",
       "    .dataframe thead th {\n",
       "        text-align: right;\n",
       "    }\n",
       "</style>\n",
       "<table border=\"1\" class=\"dataframe\">\n",
       "  <thead>\n",
       "    <tr style=\"text-align: right;\">\n",
       "      <th></th>\n",
       "      <th>rank</th>\n",
       "      <th>lifetime_gross</th>\n",
       "      <th>year</th>\n",
       "      <th>worldwide gross</th>\n",
       "      <th>runtime (mins)</th>\n",
       "      <th>release date</th>\n",
       "      <th>budget</th>\n",
       "      <th>Action</th>\n",
       "      <th>Adventure</th>\n",
       "      <th>Animation</th>\n",
       "      <th>...</th>\n",
       "      <th>distributor_Summit Entertainment</th>\n",
       "      <th>distributor_The Weinstein Company</th>\n",
       "      <th>distributor_TriStar Pictures</th>\n",
       "      <th>distributor_Twentieth Century Fox</th>\n",
       "      <th>distributor_USA Films</th>\n",
       "      <th>distributor_United Artists</th>\n",
       "      <th>distributor_United Artists Releasing</th>\n",
       "      <th>distributor_Universal Pictures</th>\n",
       "      <th>distributor_Walt Disney Studios Motion Pictures</th>\n",
       "      <th>distributor_Warner Bros.</th>\n",
       "    </tr>\n",
       "  </thead>\n",
       "  <tbody>\n",
       "    <tr>\n",
       "      <th>rank</th>\n",
       "      <td>1.000000</td>\n",
       "      <td>-0.792687</td>\n",
       "      <td>-0.166033</td>\n",
       "      <td>-0.717168</td>\n",
       "      <td>-0.232542</td>\n",
       "      <td>NaN</td>\n",
       "      <td>-0.406551</td>\n",
       "      <td>-0.196869</td>\n",
       "      <td>-0.340252</td>\n",
       "      <td>-0.132173</td>\n",
       "      <td>...</td>\n",
       "      <td>-0.030147</td>\n",
       "      <td>0.007728</td>\n",
       "      <td>0.042257</td>\n",
       "      <td>-0.009239</td>\n",
       "      <td>0.003073</td>\n",
       "      <td>0.048138</td>\n",
       "      <td>0.026181</td>\n",
       "      <td>-0.029443</td>\n",
       "      <td>-0.127334</td>\n",
       "      <td>-0.017605</td>\n",
       "    </tr>\n",
       "    <tr>\n",
       "      <th>lifetime_gross</th>\n",
       "      <td>-0.792687</td>\n",
       "      <td>1.000000</td>\n",
       "      <td>0.180941</td>\n",
       "      <td>0.902495</td>\n",
       "      <td>0.277472</td>\n",
       "      <td>NaN</td>\n",
       "      <td>0.444792</td>\n",
       "      <td>0.217946</td>\n",
       "      <td>0.361863</td>\n",
       "      <td>0.090518</td>\n",
       "      <td>...</td>\n",
       "      <td>0.036983</td>\n",
       "      <td>-0.026447</td>\n",
       "      <td>-0.045619</td>\n",
       "      <td>-0.013010</td>\n",
       "      <td>-0.011697</td>\n",
       "      <td>-0.041530</td>\n",
       "      <td>-0.019219</td>\n",
       "      <td>-0.007541</td>\n",
       "      <td>0.209423</td>\n",
       "      <td>-0.001814</td>\n",
       "    </tr>\n",
       "    <tr>\n",
       "      <th>year</th>\n",
       "      <td>-0.166033</td>\n",
       "      <td>0.180941</td>\n",
       "      <td>1.000000</td>\n",
       "      <td>0.304819</td>\n",
       "      <td>0.022784</td>\n",
       "      <td>NaN</td>\n",
       "      <td>0.331150</td>\n",
       "      <td>0.150882</td>\n",
       "      <td>0.208675</td>\n",
       "      <td>0.060610</td>\n",
       "      <td>...</td>\n",
       "      <td>0.034551</td>\n",
       "      <td>0.048514</td>\n",
       "      <td>-0.056119</td>\n",
       "      <td>0.012830</td>\n",
       "      <td>-0.010861</td>\n",
       "      <td>-0.128709</td>\n",
       "      <td>0.039000</td>\n",
       "      <td>0.037407</td>\n",
       "      <td>-0.021130</td>\n",
       "      <td>0.064874</td>\n",
       "    </tr>\n",
       "    <tr>\n",
       "      <th>worldwide gross</th>\n",
       "      <td>-0.717168</td>\n",
       "      <td>0.902495</td>\n",
       "      <td>0.304819</td>\n",
       "      <td>1.000000</td>\n",
       "      <td>0.321889</td>\n",
       "      <td>NaN</td>\n",
       "      <td>0.568408</td>\n",
       "      <td>0.254229</td>\n",
       "      <td>0.449351</td>\n",
       "      <td>0.119375</td>\n",
       "      <td>...</td>\n",
       "      <td>0.030484</td>\n",
       "      <td>-0.017326</td>\n",
       "      <td>-0.039090</td>\n",
       "      <td>0.023641</td>\n",
       "      <td>-0.017357</td>\n",
       "      <td>-0.056063</td>\n",
       "      <td>-0.017759</td>\n",
       "      <td>-0.005980</td>\n",
       "      <td>0.179227</td>\n",
       "      <td>0.021353</td>\n",
       "    </tr>\n",
       "    <tr>\n",
       "      <th>runtime (mins)</th>\n",
       "      <td>-0.232542</td>\n",
       "      <td>0.277472</td>\n",
       "      <td>0.022784</td>\n",
       "      <td>0.321889</td>\n",
       "      <td>1.000000</td>\n",
       "      <td>NaN</td>\n",
       "      <td>0.275162</td>\n",
       "      <td>0.224400</td>\n",
       "      <td>-0.007991</td>\n",
       "      <td>-0.428234</td>\n",
       "      <td>...</td>\n",
       "      <td>0.019352</td>\n",
       "      <td>0.067883</td>\n",
       "      <td>-0.010456</td>\n",
       "      <td>-0.033997</td>\n",
       "      <td>0.047155</td>\n",
       "      <td>-0.010749</td>\n",
       "      <td>-0.044403</td>\n",
       "      <td>0.005229</td>\n",
       "      <td>-0.102437</td>\n",
       "      <td>0.125502</td>\n",
       "    </tr>\n",
       "    <tr>\n",
       "      <th>...</th>\n",
       "      <td>...</td>\n",
       "      <td>...</td>\n",
       "      <td>...</td>\n",
       "      <td>...</td>\n",
       "      <td>...</td>\n",
       "      <td>...</td>\n",
       "      <td>...</td>\n",
       "      <td>...</td>\n",
       "      <td>...</td>\n",
       "      <td>...</td>\n",
       "      <td>...</td>\n",
       "      <td>...</td>\n",
       "      <td>...</td>\n",
       "      <td>...</td>\n",
       "      <td>...</td>\n",
       "      <td>...</td>\n",
       "      <td>...</td>\n",
       "      <td>...</td>\n",
       "      <td>...</td>\n",
       "      <td>...</td>\n",
       "      <td>...</td>\n",
       "    </tr>\n",
       "    <tr>\n",
       "      <th>distributor_United Artists</th>\n",
       "      <td>0.048138</td>\n",
       "      <td>-0.041530</td>\n",
       "      <td>-0.128709</td>\n",
       "      <td>-0.056063</td>\n",
       "      <td>-0.010749</td>\n",
       "      <td>NaN</td>\n",
       "      <td>-0.041489</td>\n",
       "      <td>-0.063930</td>\n",
       "      <td>-0.068195</td>\n",
       "      <td>-0.032549</td>\n",
       "      <td>...</td>\n",
       "      <td>-0.006110</td>\n",
       "      <td>-0.006110</td>\n",
       "      <td>-0.008667</td>\n",
       "      <td>-0.030426</td>\n",
       "      <td>-0.002488</td>\n",
       "      <td>1.000000</td>\n",
       "      <td>-0.002488</td>\n",
       "      <td>-0.029885</td>\n",
       "      <td>-0.034233</td>\n",
       "      <td>-0.034872</td>\n",
       "    </tr>\n",
       "    <tr>\n",
       "      <th>distributor_United Artists Releasing</th>\n",
       "      <td>0.026181</td>\n",
       "      <td>-0.019219</td>\n",
       "      <td>0.039000</td>\n",
       "      <td>-0.017759</td>\n",
       "      <td>-0.044403</td>\n",
       "      <td>NaN</td>\n",
       "      <td>-0.033334</td>\n",
       "      <td>-0.026033</td>\n",
       "      <td>-0.027770</td>\n",
       "      <td>0.076440</td>\n",
       "      <td>...</td>\n",
       "      <td>-0.002488</td>\n",
       "      <td>-0.002488</td>\n",
       "      <td>-0.003529</td>\n",
       "      <td>-0.012390</td>\n",
       "      <td>-0.001013</td>\n",
       "      <td>-0.002488</td>\n",
       "      <td>1.000000</td>\n",
       "      <td>-0.012170</td>\n",
       "      <td>-0.013940</td>\n",
       "      <td>-0.014200</td>\n",
       "    </tr>\n",
       "    <tr>\n",
       "      <th>distributor_Universal Pictures</th>\n",
       "      <td>-0.029443</td>\n",
       "      <td>-0.007541</td>\n",
       "      <td>0.037407</td>\n",
       "      <td>-0.005980</td>\n",
       "      <td>0.005229</td>\n",
       "      <td>NaN</td>\n",
       "      <td>-0.060814</td>\n",
       "      <td>-0.046450</td>\n",
       "      <td>-0.088543</td>\n",
       "      <td>-0.065149</td>\n",
       "      <td>...</td>\n",
       "      <td>-0.029885</td>\n",
       "      <td>-0.029885</td>\n",
       "      <td>-0.042393</td>\n",
       "      <td>-0.148819</td>\n",
       "      <td>-0.012170</td>\n",
       "      <td>-0.029885</td>\n",
       "      <td>-0.012170</td>\n",
       "      <td>1.000000</td>\n",
       "      <td>-0.167438</td>\n",
       "      <td>-0.170565</td>\n",
       "    </tr>\n",
       "    <tr>\n",
       "      <th>distributor_Walt Disney Studios Motion Pictures</th>\n",
       "      <td>-0.127334</td>\n",
       "      <td>0.209423</td>\n",
       "      <td>-0.021130</td>\n",
       "      <td>0.179227</td>\n",
       "      <td>-0.102437</td>\n",
       "      <td>NaN</td>\n",
       "      <td>0.190222</td>\n",
       "      <td>-0.060301</td>\n",
       "      <td>0.207295</td>\n",
       "      <td>0.283328</td>\n",
       "      <td>...</td>\n",
       "      <td>-0.034233</td>\n",
       "      <td>-0.034233</td>\n",
       "      <td>-0.048561</td>\n",
       "      <td>-0.170471</td>\n",
       "      <td>-0.013940</td>\n",
       "      <td>-0.034233</td>\n",
       "      <td>-0.013940</td>\n",
       "      <td>-0.167438</td>\n",
       "      <td>1.000000</td>\n",
       "      <td>-0.195380</td>\n",
       "    </tr>\n",
       "    <tr>\n",
       "      <th>distributor_Warner Bros.</th>\n",
       "      <td>-0.017605</td>\n",
       "      <td>-0.001814</td>\n",
       "      <td>0.064874</td>\n",
       "      <td>0.021353</td>\n",
       "      <td>0.125502</td>\n",
       "      <td>NaN</td>\n",
       "      <td>0.060036</td>\n",
       "      <td>0.073645</td>\n",
       "      <td>-0.021298</td>\n",
       "      <td>-0.116782</td>\n",
       "      <td>...</td>\n",
       "      <td>-0.034872</td>\n",
       "      <td>-0.034872</td>\n",
       "      <td>-0.049468</td>\n",
       "      <td>-0.173655</td>\n",
       "      <td>-0.014200</td>\n",
       "      <td>-0.034872</td>\n",
       "      <td>-0.014200</td>\n",
       "      <td>-0.170565</td>\n",
       "      <td>-0.195380</td>\n",
       "      <td>1.000000</td>\n",
       "    </tr>\n",
       "  </tbody>\n",
       "</table>\n",
       "<p>67 rows × 67 columns</p>\n",
       "</div>"
      ],
      "text/plain": [
       "                                                     rank  lifetime_gross  \\\n",
       "rank                                             1.000000       -0.792687   \n",
       "lifetime_gross                                  -0.792687        1.000000   \n",
       "year                                            -0.166033        0.180941   \n",
       "worldwide gross                                 -0.717168        0.902495   \n",
       "runtime (mins)                                  -0.232542        0.277472   \n",
       "...                                                   ...             ...   \n",
       "distributor_United Artists                       0.048138       -0.041530   \n",
       "distributor_United Artists Releasing             0.026181       -0.019219   \n",
       "distributor_Universal Pictures                  -0.029443       -0.007541   \n",
       "distributor_Walt Disney Studios Motion Pictures -0.127334        0.209423   \n",
       "distributor_Warner Bros.                        -0.017605       -0.001814   \n",
       "\n",
       "                                                     year  worldwide gross  \\\n",
       "rank                                            -0.166033        -0.717168   \n",
       "lifetime_gross                                   0.180941         0.902495   \n",
       "year                                             1.000000         0.304819   \n",
       "worldwide gross                                  0.304819         1.000000   \n",
       "runtime (mins)                                   0.022784         0.321889   \n",
       "...                                                   ...              ...   \n",
       "distributor_United Artists                      -0.128709        -0.056063   \n",
       "distributor_United Artists Releasing             0.039000        -0.017759   \n",
       "distributor_Universal Pictures                   0.037407        -0.005980   \n",
       "distributor_Walt Disney Studios Motion Pictures -0.021130         0.179227   \n",
       "distributor_Warner Bros.                         0.064874         0.021353   \n",
       "\n",
       "                                                 runtime (mins)  release date  \\\n",
       "rank                                                  -0.232542           NaN   \n",
       "lifetime_gross                                         0.277472           NaN   \n",
       "year                                                   0.022784           NaN   \n",
       "worldwide gross                                        0.321889           NaN   \n",
       "runtime (mins)                                         1.000000           NaN   \n",
       "...                                                         ...           ...   \n",
       "distributor_United Artists                            -0.010749           NaN   \n",
       "distributor_United Artists Releasing                  -0.044403           NaN   \n",
       "distributor_Universal Pictures                         0.005229           NaN   \n",
       "distributor_Walt Disney Studios Motion Pictures       -0.102437           NaN   \n",
       "distributor_Warner Bros.                               0.125502           NaN   \n",
       "\n",
       "                                                   budget    Action  \\\n",
       "rank                                            -0.406551 -0.196869   \n",
       "lifetime_gross                                   0.444792  0.217946   \n",
       "year                                             0.331150  0.150882   \n",
       "worldwide gross                                  0.568408  0.254229   \n",
       "runtime (mins)                                   0.275162  0.224400   \n",
       "...                                                   ...       ...   \n",
       "distributor_United Artists                      -0.041489 -0.063930   \n",
       "distributor_United Artists Releasing            -0.033334 -0.026033   \n",
       "distributor_Universal Pictures                  -0.060814 -0.046450   \n",
       "distributor_Walt Disney Studios Motion Pictures  0.190222 -0.060301   \n",
       "distributor_Warner Bros.                         0.060036  0.073645   \n",
       "\n",
       "                                                 Adventure  Animation  ...  \\\n",
       "rank                                             -0.340252  -0.132173  ...   \n",
       "lifetime_gross                                    0.361863   0.090518  ...   \n",
       "year                                              0.208675   0.060610  ...   \n",
       "worldwide gross                                   0.449351   0.119375  ...   \n",
       "runtime (mins)                                   -0.007991  -0.428234  ...   \n",
       "...                                                    ...        ...  ...   \n",
       "distributor_United Artists                       -0.068195  -0.032549  ...   \n",
       "distributor_United Artists Releasing             -0.027770   0.076440  ...   \n",
       "distributor_Universal Pictures                   -0.088543  -0.065149  ...   \n",
       "distributor_Walt Disney Studios Motion Pictures   0.207295   0.283328  ...   \n",
       "distributor_Warner Bros.                         -0.021298  -0.116782  ...   \n",
       "\n",
       "                                                 distributor_Summit Entertainment  \\\n",
       "rank                                                                    -0.030147   \n",
       "lifetime_gross                                                           0.036983   \n",
       "year                                                                     0.034551   \n",
       "worldwide gross                                                          0.030484   \n",
       "runtime (mins)                                                           0.019352   \n",
       "...                                                                           ...   \n",
       "distributor_United Artists                                              -0.006110   \n",
       "distributor_United Artists Releasing                                    -0.002488   \n",
       "distributor_Universal Pictures                                          -0.029885   \n",
       "distributor_Walt Disney Studios Motion Pictures                         -0.034233   \n",
       "distributor_Warner Bros.                                                -0.034872   \n",
       "\n",
       "                                                 distributor_The Weinstein Company  \\\n",
       "rank                                                                      0.007728   \n",
       "lifetime_gross                                                           -0.026447   \n",
       "year                                                                      0.048514   \n",
       "worldwide gross                                                          -0.017326   \n",
       "runtime (mins)                                                            0.067883   \n",
       "...                                                                            ...   \n",
       "distributor_United Artists                                               -0.006110   \n",
       "distributor_United Artists Releasing                                     -0.002488   \n",
       "distributor_Universal Pictures                                           -0.029885   \n",
       "distributor_Walt Disney Studios Motion Pictures                          -0.034233   \n",
       "distributor_Warner Bros.                                                 -0.034872   \n",
       "\n",
       "                                                 distributor_TriStar Pictures  \\\n",
       "rank                                                                 0.042257   \n",
       "lifetime_gross                                                      -0.045619   \n",
       "year                                                                -0.056119   \n",
       "worldwide gross                                                     -0.039090   \n",
       "runtime (mins)                                                      -0.010456   \n",
       "...                                                                       ...   \n",
       "distributor_United Artists                                          -0.008667   \n",
       "distributor_United Artists Releasing                                -0.003529   \n",
       "distributor_Universal Pictures                                      -0.042393   \n",
       "distributor_Walt Disney Studios Motion Pictures                     -0.048561   \n",
       "distributor_Warner Bros.                                            -0.049468   \n",
       "\n",
       "                                                 distributor_Twentieth Century Fox  \\\n",
       "rank                                                                     -0.009239   \n",
       "lifetime_gross                                                           -0.013010   \n",
       "year                                                                      0.012830   \n",
       "worldwide gross                                                           0.023641   \n",
       "runtime (mins)                                                           -0.033997   \n",
       "...                                                                            ...   \n",
       "distributor_United Artists                                               -0.030426   \n",
       "distributor_United Artists Releasing                                     -0.012390   \n",
       "distributor_Universal Pictures                                           -0.148819   \n",
       "distributor_Walt Disney Studios Motion Pictures                          -0.170471   \n",
       "distributor_Warner Bros.                                                 -0.173655   \n",
       "\n",
       "                                                 distributor_USA Films  \\\n",
       "rank                                                          0.003073   \n",
       "lifetime_gross                                               -0.011697   \n",
       "year                                                         -0.010861   \n",
       "worldwide gross                                              -0.017357   \n",
       "runtime (mins)                                                0.047155   \n",
       "...                                                                ...   \n",
       "distributor_United Artists                                   -0.002488   \n",
       "distributor_United Artists Releasing                         -0.001013   \n",
       "distributor_Universal Pictures                               -0.012170   \n",
       "distributor_Walt Disney Studios Motion Pictures              -0.013940   \n",
       "distributor_Warner Bros.                                     -0.014200   \n",
       "\n",
       "                                                 distributor_United Artists  \\\n",
       "rank                                                               0.048138   \n",
       "lifetime_gross                                                    -0.041530   \n",
       "year                                                              -0.128709   \n",
       "worldwide gross                                                   -0.056063   \n",
       "runtime (mins)                                                    -0.010749   \n",
       "...                                                                     ...   \n",
       "distributor_United Artists                                         1.000000   \n",
       "distributor_United Artists Releasing                              -0.002488   \n",
       "distributor_Universal Pictures                                    -0.029885   \n",
       "distributor_Walt Disney Studios Motion Pictures                   -0.034233   \n",
       "distributor_Warner Bros.                                          -0.034872   \n",
       "\n",
       "                                                 distributor_United Artists Releasing  \\\n",
       "rank                                                                         0.026181   \n",
       "lifetime_gross                                                              -0.019219   \n",
       "year                                                                         0.039000   \n",
       "worldwide gross                                                             -0.017759   \n",
       "runtime (mins)                                                              -0.044403   \n",
       "...                                                                               ...   \n",
       "distributor_United Artists                                                  -0.002488   \n",
       "distributor_United Artists Releasing                                         1.000000   \n",
       "distributor_Universal Pictures                                              -0.012170   \n",
       "distributor_Walt Disney Studios Motion Pictures                             -0.013940   \n",
       "distributor_Warner Bros.                                                    -0.014200   \n",
       "\n",
       "                                                 distributor_Universal Pictures  \\\n",
       "rank                                                                  -0.029443   \n",
       "lifetime_gross                                                        -0.007541   \n",
       "year                                                                   0.037407   \n",
       "worldwide gross                                                       -0.005980   \n",
       "runtime (mins)                                                         0.005229   \n",
       "...                                                                         ...   \n",
       "distributor_United Artists                                            -0.029885   \n",
       "distributor_United Artists Releasing                                  -0.012170   \n",
       "distributor_Universal Pictures                                         1.000000   \n",
       "distributor_Walt Disney Studios Motion Pictures                       -0.167438   \n",
       "distributor_Warner Bros.                                              -0.170565   \n",
       "\n",
       "                                                 distributor_Walt Disney Studios Motion Pictures  \\\n",
       "rank                                                                                   -0.127334   \n",
       "lifetime_gross                                                                          0.209423   \n",
       "year                                                                                   -0.021130   \n",
       "worldwide gross                                                                         0.179227   \n",
       "runtime (mins)                                                                         -0.102437   \n",
       "...                                                                                          ...   \n",
       "distributor_United Artists                                                             -0.034233   \n",
       "distributor_United Artists Releasing                                                   -0.013940   \n",
       "distributor_Universal Pictures                                                         -0.167438   \n",
       "distributor_Walt Disney Studios Motion Pictures                                         1.000000   \n",
       "distributor_Warner Bros.                                                               -0.195380   \n",
       "\n",
       "                                                 distributor_Warner Bros.  \n",
       "rank                                                            -0.017605  \n",
       "lifetime_gross                                                  -0.001814  \n",
       "year                                                             0.064874  \n",
       "worldwide gross                                                  0.021353  \n",
       "runtime (mins)                                                   0.125502  \n",
       "...                                                                   ...  \n",
       "distributor_United Artists                                      -0.034872  \n",
       "distributor_United Artists Releasing                            -0.014200  \n",
       "distributor_Universal Pictures                                  -0.170565  \n",
       "distributor_Walt Disney Studios Motion Pictures                 -0.195380  \n",
       "distributor_Warner Bros.                                         1.000000  \n",
       "\n",
       "[67 rows x 67 columns]"
      ]
     },
     "execution_count": 77,
     "metadata": {},
     "output_type": "execute_result"
    }
   ],
   "source": [
    "final_df.corr()"
   ]
  },
  {
   "cell_type": "code",
   "execution_count": 78,
   "id": "fabulous-baptist",
   "metadata": {},
   "outputs": [],
   "source": [
    "final_df.to_csv('copy_web_scraping_final.csv', index=False)"
   ]
  },
  {
   "cell_type": "code",
   "execution_count": null,
   "id": "working-feedback",
   "metadata": {},
   "outputs": [],
   "source": []
  }
 ],
 "metadata": {
  "kernelspec": {
   "display_name": "Python 3",
   "language": "python",
   "name": "python3"
  },
  "language_info": {
   "codemirror_mode": {
    "name": "ipython",
    "version": 3
   },
   "file_extension": ".py",
   "mimetype": "text/x-python",
   "name": "python",
   "nbconvert_exporter": "python",
   "pygments_lexer": "ipython3",
   "version": "3.8.8"
  }
 },
 "nbformat": 4,
 "nbformat_minor": 5
}
